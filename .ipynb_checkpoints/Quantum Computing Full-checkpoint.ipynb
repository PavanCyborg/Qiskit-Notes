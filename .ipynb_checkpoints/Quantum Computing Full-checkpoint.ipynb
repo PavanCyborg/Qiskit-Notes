{
 "cells": [
  {
   "cell_type": "markdown",
   "id": "4535550c-8de4-4e2a-be0f-e9b16ed0dab8",
   "metadata": {},
   "source": [
    "# Quantum Computing "
   ]
  },
  {
   "cell_type": "markdown",
   "id": "34cfa357-a994-4d29-9752-e9728857853e",
   "metadata": {},
   "source": [
    "## Introduction :"
   ]
  },
  {
   "cell_type": "markdown",
   "id": "41f2914d-d448-483c-bb29-d2aa4ff90d3c",
   "metadata": {},
   "source": [
    "### Why Quantum Computing?"
   ]
  },
  {
   "cell_type": "markdown",
   "id": "150e2a67-cebb-4801-a53b-4cb4b732a22e",
   "metadata": {},
   "source": [
    "Modern computing is based on `classical physics` and `Mathematical logic` laws. Even though the working of electronic components works on quantum mechanical principles, the logic they follow is `classical`. Traditional computer software is designed for **`serial computation`**. \n",
    "\n",
    "***`Serial computation`*** essentially means that when we write an algorithm, the logic flow takes place from one point to another in terms of time. It means that a particular process must be completed before another process is taken up.\n",
    "\n",
    "The concept of a ***`parallel computer`*** is also within our traditional computing platform, but the problem can be broken up into independent logic which could be executed at the same time. So in other words, a traditional parallel computer must have an `n` number of processors which could take up the job at the same time and then we should integrate with the results.\n",
    "\n",
    "The Idea of Quantum Computer was first given by `Richard Feynmann` in a paper which he published in 1982. That paper was titled ***`\"Simulation of Physics in a Computer\"`***.\n",
    "\n",
    "The question that he asked is $\\color{red}{\\textbf{Can one simulate physics using a computer?}}$\n",
    "\n",
    "Now there are many problems with it, the first problem is `how do you simulate time?` \n",
    "- As we know time is a continuous variable. The problem with stimulating time is to discretize it. We have techniques for discretizing the time by solving **Differential Equations**.\n",
    "\n",
    "But the bigger problem is that, in quantum mechanics, the `measurements will give probabilistic results`.\n",
    "\n",
    "- As we know a state in quantum mechanics is a `linear combination` of certain states and when a measurement is made, let’s consider about linear combination of some `basis` states when we measure any physical property of the system, one of the possible the values of that physical property is realized with certain probability.\n",
    "  \n",
    "But then the problem is to simulate a `quantum process` using a quantum computer `Can we use the quantum principle to our advantage to build a computer?` "
   ]
  },
  {
   "cell_type": "markdown",
   "id": "d6014add-331d-42ad-a221-23644115ba48",
   "metadata": {},
   "source": [
    "### Peter Shor's Approach :"
   ]
  },
  {
   "cell_type": "markdown",
   "id": "ae762033-1e67-4f2f-ae40-648a9697c2b6",
   "metadata": {},
   "source": [
    "In 1994 he came up with an algorithm which showed that a very old problem that we have in computational science can be effectively solved with a quantum computer. The problem is connected with how to factorize a large composite number.\n",
    "\n",
    "Now this has been known to be a very difficult problem or as computer scientists call it `hard problem` in computer science.\n",
    "\n",
    "   - The reason why it is a hard problem is that there are no effective algorithms known, which can compute the factors of a large composite number which in computer science language is referred to as **`polynomial time`**.\n",
    "\n",
    "If it could be done in polynomial time then of course it would be called an `easy problem`. \n",
    "\n",
    "Even today we depend on this difficulty in factorizing a large composite number to have encryption of data and in fact ***`RSA algorithm`*** which provides the data encryption depends on the relative hardness of the factorization problem and w.r.t the multiplication which is relatively easy.\n",
    "\n",
    "   - And if one can break this RSA Code which at least theoretically is possible today thanks to Shor’s algorithm, then it would mean a substantial advancement in both cryptography and in computer science.\n",
    "\n",
    "So what **Peter Shor** showed is that `using the principles of quantum mechanics we can factorize a large composite number`."
   ]
  },
  {
   "cell_type": "markdown",
   "id": "b93b83e5-501c-4677-b728-468e52526937",
   "metadata": {},
   "source": [
    "### Inherent Parallelism :"
   ]
  },
  {
   "cell_type": "markdown",
   "id": "9159c7c4-f2da-4ea1-9a5a-069344bd6b2b",
   "metadata": {},
   "source": [
    "In a Quantum Computer, the same processor can perform operations on multiple inputs simultaneously and the state of a register can exist in a simultaneous superposition of different Quantum states.\n",
    "\n",
    "The reason why quantum computation is different from classical computation is the fact that while a classical register can at a given time have or be in one state i.e., let us consider a simple classical bit and I have a one-bit register.\n",
    "\n",
    "1. **`States and Superposition`**:\n",
    "\n",
    "   - In classical computation, a **bit** in a register can exist in one of two states: `0` or `1`. For example, a **2-bit** register can represent one of the four classical states: `00`, `01`, `10`, or `11`.\n",
    "\n",
    "   - In quantum computation, quantum bits or qubits can exist in a state of superposition. This means a qubit can represent both 0 and 1 simultaneously, in varying proportions. For instance, a 2-qubit quantum register can be in a linear combination of the classical states (00, 01, 10, 11) at the same time.\n",
    "\n",
    "2. **`Superposition in Computation`**:\n",
    "\n",
    "   - When performing computations on classical bits, you can only process `one state at a time`. If you have multiple inputs, you'd need `multiple processors or sequential operations` to compute the function for each input individually.\n",
    "\n",
    "   - Quantum computation allows for computation on **superpositions**. This means `when a function is applied to a quantum register in superposition, the computation is carried out on all the possible inputs simultaneously due to the nature of quantum parallelism`. This inherent parallelism enables computations on multiple inputs at once, without the need for separate processors.\n",
    "\n",
    "3. **`Parallelism`**:\n",
    "\n",
    "   - In classical computing, parallelism is achieved by using `multiple processors`, where different processors handle different computations **concurrently**. This external parallelism involves dividing tasks among processors to speed up computation.\n",
    "     \n",
    "   - Quantum parallelism, on the other hand, `is inherent to the nature of qubits and superposition`. Quantum algorithms take advantage of this intrinsic property, allowing for computations on multiple states simultaneously without requiring additional hardware.\n",
    "\n",
    "   - And the parallelism that we are talking about for a quantum computer is ***`inherent`***. And `it is not outside parallelism which has trust in us by having several processors`.\n",
    "\n",
    "4. **` Measurement and Quantum Interference`**:\n",
    "\n",
    "   - In quantum computation, after performing operations on a qubit or a quantum register, when a measurement is made, `the superposition collapses to a definite classical state`.\n",
    "     \n",
    "   - Quantum interference effects, resulting from the **superposition** and **manipulation of qubits**, allow for complex calculations, optimizations, and algorithms that `exploit interference patterns among possible states to yield the desired output efficiently`.\n",
    "     \n",
    "   - In other words, `we compute the value of the function for each one of the inputs at the same time`. \n",
    "\n",
    "In summary, the `fundamental difference between classical and quantum computation` lies in the ability of qubits to exist in **superposition**, enabling computations on multiple inputs simultaneously through inherent quantum parallelism, `without relying on external parallel processing units`. This unique property forms the basis for the potential computational advantages of quantum computers for certain problems over classical computers."
   ]
  },
  {
   "cell_type": "markdown",
   "id": "2556edb7-7aa1-4070-a307-6d09c6286264",
   "metadata": {},
   "source": [
    "### Miniaturization Challenges and Landauer's Principle :"
   ]
  },
  {
   "cell_type": "markdown",
   "id": "e100144e-aa9c-4ef8-ab20-9f401578589c",
   "metadata": {},
   "source": [
    "Now when miniaturization proceeds like this `(according to Moore's law)` there are **two** problems associated with, when the separation between different components reach atomic dimensions. We know that from the `quantum mechanical uncertainty principle due to Heisenberg`, and that has a lot of influence on what happens when things reach atomic dimension.\n",
    "\n",
    "1. In other words, `if the components come so close then the results that you get out of that computation will no longer be reliable`.\n",
    "2. The other thing that will happen is that the **heat** produced by one of the components would naturally `affect the performance` of nearby components and so therefore, this will also make the computation unreliable.\n",
    "\n",
    "This heat problem has certain other aspects, for instance, the heat produced by a computer depends on the **volume occupied** by the number of bits. But it is required to remove the heat continuously and heat can be removed only from the surface. So, as a result, when the components come too close, the `efficiency of removing heat will not be quite as good`."
   ]
  },
  {
   "cell_type": "markdown",
   "id": "2160ef28-20d3-499f-b97a-6113b07bc728",
   "metadata": {},
   "source": [
    "#### Landauer Principle :"
   ]
  },
  {
   "cell_type": "markdown",
   "id": "9c8b0a67-1414-4aa2-b949-44649261caf5",
   "metadata": {},
   "source": [
    "The Landauer Principle, proposed by ***Rolf Landauer*** in the 1960s, is a fundamental concept in the field of computational physics and information theory. It establishes a relationship between `information processing`, specifically erasure of information, and `physical thermodynamics`.\n",
    "\n",
    "The principle can be summarized as follows:\n",
    "\n",
    "***`The erasure of information in a computational process is accompanied by an inevitable minimum amount of energy dissipation, which results in an increase in entropy in the environment.`***\n",
    "\n",
    "Key points regarding the Landauer Principle:\n",
    "\n",
    "1. **Information and Entropy**:\n",
    "\n",
    "   - In information theory, erasing information generates **entropy**. When information is erased or reset in a computational process, the uncertainty or randomness in the system increases, which corresponds to an increase in entropy.\n",
    "\n",
    "2. **Thermodynamic Connection**:\n",
    "\n",
    "   - Landauer linked the act of `irreversible information erasure` (like resetting a bit in a computer) to `physical thermodynamics`. He showed that **` to erase information irreversibly, some minimal amount of energy dissipation is inevitable`**.\n",
    "\n",
    "   - The energy associated with the erasure process is dissipated as heat into the environment, leading to an **increase** in the entropy of the environment.\n",
    "\n",
    "3. **Energy Consumption**:\n",
    "\n",
    "   - Landauer's insight implies a fundamental connection between information theory and thermodynamics, stating that there is a `theoretical minimum amount of energy consumption required to erase one bit of information`.\n",
    "\n",
    "   - This theoretical minimum energy is given by the `product of the temperature of the environment and the increase in entropy caused by the erasure of the bit`.\n",
    "\n",
    "4. **Implications**:\n",
    "\n",
    "   - The Landauer Principle has implications for the energy efficiency of computing devices. It sets a **theoretical limit** on the amount of energy needed to perform **irreversible operations** like resetting bits in a computer's memory.\n",
    "\n",
    "   - In the design of ultra-low-power computing devices and in the development of reversible computing (where information is manipulated without loss), the Landauer Principle's constraints and implications are taken into consideration.\n",
    "\n",
    "In essence, the Landauer Principle provides a crucial link between information theory and thermodynamics, highlighting the physical costs associated with information processing, particularly in terms of energy dissipation and entropy increase when information is erased irreversibly."
   ]
  },
  {
   "cell_type": "markdown",
   "id": "c1b7e2b5-cde3-4057-8fae-039b8055451b",
   "metadata": {},
   "source": [
    "### Reversibility :"
   ]
  },
  {
   "cell_type": "markdown",
   "id": "adef227d-929c-4ab5-96ff-d27d86297de7",
   "metadata": {},
   "source": [
    "AND gate is an irreversible process, & most of the processes in classical computing are done irreversibly.\n",
    "\n",
    "The Landauer principles state that every `n bit of information increases the thermodynamic entropy by nk log2`, which would mean that there is a certain amount of **loss of energy** and the process becomes **gradually inefficient** as the number of components increases.\n",
    "The present-day computers dissipate much more energy than this limit. \n",
    "\n",
    "So, the quantum processes, have to be carried out `reversibly`, in fact, the operators which will be performing are unitary operators.\n",
    "\n",
    "`Reversibility` means `every logical step should be capable of getting reversed, which results in negligible energy loss`.\n",
    "\n",
    "Now it is also possible to do classical computing using reversible gates, but then there is always a problem of what we call as **garbage**. \n",
    "\n",
    "- The `garbage arises` because, for example, using AND gate and want it to be reversible, which means we have to store the inputs continuously, in fact, the only classical gate which is a reversible gate is a **NOT** gate. \n",
    "\n",
    "- But for all others, if we want the process should be done reversibly, we need to **collect** the inputs which are not later on require. So, that becomes a very big `disposal problem and it also requires unnecessary storage`.\n",
    "\n",
    "So these are the two primary issues connected with the advent of quantum computers."
   ]
  },
  {
   "cell_type": "markdown",
   "id": "8dc2caf2-71bd-4763-96ff-c7c5b6057892",
   "metadata": {},
   "source": [
    "## Postulates of Quantum Mechanics :"
   ]
  },
  {
   "cell_type": "markdown",
   "id": "2a6bea79-8a19-458f-97aa-abdd338bf590",
   "metadata": {},
   "source": [
    "There are `6` Postulates of Quantum Mechanics."
   ]
  },
  {
   "cell_type": "markdown",
   "id": "2cd32822-36f9-4594-ba6b-919bad07fe47",
   "metadata": {},
   "source": [
    "### Postulate - 1 :"
   ]
  },
  {
   "cell_type": "markdown",
   "id": "9e0c1937-8b95-4aa6-95e2-e050c9239298",
   "metadata": {},
   "source": [
    "The state of the Quantum-mechanical system is completely specified by the function **&Psi;(r,t)** that depends on the coordinates of the particle, **`r`** and the time, **`t `**.\n",
    "\n",
    "This function is called the $\\color{red}{\\text{Wave-Function}}$ or $\\color{red}{\\text{State-Function}}$ and has the property that $\\color{green}{\\Psi^*(r,t) \\Psi(r,t)\\,d\\tau}$ is the probability that the particle lies in the volumetric element ***d&tau;*** located at `r` and `t`.\n",
    "\n",
    "This is the `Probabilistic` interpretation of wavefunction. As a result, the wave function must satisfy the condition that finding the particle somewhere in space is **`1`** and this gives us the normalisation condition\n",
    "\n",
    "$$\\boxed{\\color{blue}{\\int_{-\\infty}^{\\infty}\\Psi^*(r,t) \\Psi(r,t)\\,d\\tau \\ = 1}}$$\n",
    "\n",
    "The other conditions on the wavefunction that arise from the probabilistic interpretation are that it must be **single-valued**, **continuous** and **finite**. `Generally, wavefunctions are written with the inclusion of normalisation constant`."
   ]
  },
  {
   "cell_type": "markdown",
   "id": "04082de0-b74a-4f9b-8712-09f0a83775d5",
   "metadata": {},
   "source": [
    "#### Explanation :"
   ]
  },
  {
   "cell_type": "markdown",
   "id": "da884e4c-01e3-4b5d-b684-dac982a240b6",
   "metadata": {},
   "source": [
    "Let's break down the first postulate of quantum mechanics using a simple example involving a `particle in a one-dimensional box`.\n",
    "\n",
    "Imagine a particle confined within a box, free to move along a line. The wave function, denoted by **&Psi;(x, t)**, describes the state of this particle. It represents the probability amplitude of finding the particle at a particular position `x` at time `t`.\n",
    "\n",
    "- `(Think of the wave function Ψ(x, t) as a special way to describe where a particle might be in a box at a given time. It's like a mathematical map telling us the likelihood of finding the particle at different spots along this line inside the box.)`\n",
    "\n",
    "- The wave function gives us a way `to calculate the chance of finding the particle in a small space`. \n",
    "\n",
    "Imagine splitting the box into tiny pieces. The probability of finding the particle in one of these tiny pieces is given by `Ψ(x, t)` times its complex conjugate `Ψ*(x, t)`. We then add up these probabilities for all these tiny pieces along the entire length of the box.\n",
    "\n",
    "Now, according to the probabilistic interpretation of the wave function, the probability of finding the particle in a small interval **dx** at a specific time is given by **&Psi;(x, t)** multiplied by its complex conjugate **&Psi;*(x, t)**, and then integrated over that interval:\n",
    "\n",
    "$$\\boxed{\\color{red}{\\int_{x}^{x+dx} \\Psi^*(x, t) \\Psi(x, t) \\,dx}}$$\n",
    "\n",
    "- For simplicity, let's say our box spans from `x = 0` to `x = L`, so the particle can only exist within this region.\n",
    "\n",
    "- For the particle to exist somewhere within the entire box at time `t`, the integral of the probability density over the entire space must equal 1:\n",
    "\n",
    "$$\\implies\\int_{0}^{L} \\Psi^*(x, t) \\Psi(x, t) \\,dx = 1$$\n",
    "\n",
    "To know where the particle is in the whole box, we add up these probabilities for every possible position within the box, from x = 0 to x = L. `The total of all these probabilities should always add up to 1`.\n",
    "\n",
    "This means the particle is definitely somewhere in the box—it's just a matter of figuring out where! This condition ensures that there is a 100% chance of finding the particle somewhere within the box.\n",
    "\n",
    "As an example, consider a simple wave function for a particle in this box:\n",
    "\n",
    "$$\\Psi(x, t) = A \\sin\\left(\\frac{n\\pi x}{L}\\right)$$\n",
    "\n",
    "Here, `A` is a normalization constant and `n` is an integer (1, 2, 3, ...), representing different possible states of the particle.\n",
    "\n",
    "To satisfy the normalization condition, the constant `A` is chosen such that when we square this wave function (**&Psi;*(x, t)** times **&Psi;(x, t)**) and integrate it over the entire length of the box from 0 to `L`, you get 1.\n",
    "\n",
    "When we use a specific wave function like **`Ψ(x, t) = A sin(nπx/L)`**, the constant A is what we adjust. \n",
    "\n",
    "We want the total probability to be `1`, so A is chosen in such a way that when we square this wave function and add it up from `x = 0` to `x = L`, the result equals 1.\n",
    "\n",
    "This normalization constant `A` ensures that the total probability of finding the particle within the box is indeed 1, meeting the requirement of the first postulate of quantum mechanics."
   ]
  },
  {
   "cell_type": "markdown",
   "id": "71190a8d-acde-4aaa-a9b8-d2429096c0ff",
   "metadata": {},
   "source": [
    "### Postulate - 2 :"
   ]
  },
  {
   "cell_type": "markdown",
   "id": "acd646ca-a8a1-44b7-bd53-9cf0a8439144",
   "metadata": {},
   "source": [
    "***` To every Observable in the classical mechanics there corresponds a linear, Hermitian operator in Quantum mechanics.`***\n",
    "\n",
    "This Postulate comes from the observation that the expectation value of an operator that corresponds to an observable must be real and therefore the operator must be Hermitian. Some example of Hermitian Operators are :\n",
    "\n",
    "| Observable       | Classical Symbol | Quantum Operator | Operation                                                                                      |\n",
    "|------------------|------------------|------------------|-----------------------------------------------------------------------------------------------|\n",
    "| Position         | **r**            | $\\hat{r}$        | Multiply by `r`                                                                                |\n",
    "| Momentum         | **p**            | $\\hat{p}$        | $-i \\hbar(\\hat{i}\\frac{\\partial}{\\partial x}+\\hat{j}\\frac{\\partial}{\\partial y}+\\hat{k}\\frac{\\partial}{\\partial z})$ |\n",
    "| Kinetic Energy   | **T**            | $\\hat{T}$        | $\\frac{-\\hbar^2}{2m}(\\frac{\\partial^2}{\\partial x^2} + \\frac{\\partial^2}{\\partial y^2} + \\frac{\\partial^2}{\\partial z^2})$ |\n",
    "| Potential Energy | **V(r)**         | $\\hat{V}(r)$     | Multiply by V(r)                                                                               |\n",
    "| Total Energy     | **E**            | $\\hat{H}$        | $\\frac{-\\hbar^2}{2m}(\\frac{\\partial^2}{\\partial x^2} + \\frac{\\partial^2}{\\partial y^2} + \\frac{\\partial^2}{\\partial z^2})+V(r)$ |\n",
    "| Angular Momentum | $\\bf{l_x}$      | $\\hat{l_x}$      | $-i \\hbar (y \\frac{\\partial}{\\partial z} - z \\frac{\\partial}{\\partial y})$                    |\n",
    "|                  | $\\bf{l_y}$      | $\\hat{l_y}$      | $-i \\hbar (z \\frac{\\partial}{\\partial x} - x \\frac{\\partial}{\\partial z})$                    |\n",
    "|                  | $\\bf{l_z}$      | $\\hat{l_z}$      | $-i \\hbar (x \\frac{\\partial}{\\partial y} - y \\frac{\\partial}{\\partial x})$                    |"
   ]
  },
  {
   "cell_type": "markdown",
   "id": "a0947e23-dc68-4842-bf8c-ae7a61c59d28",
   "metadata": {},
   "source": [
    "#### Explanation :"
   ]
  },
  {
   "cell_type": "markdown",
   "id": "70d508c0-2f9a-4bc8-b9ce-ad8851287141",
   "metadata": {},
   "source": [
    "The second postulate of quantum mechanics connects classical observables (like position, momentum, and energy) to their corresponding quantum operators. Here's a simplified explanation:\n",
    "\n",
    "**Observables in Classical Mechanics vs. Quantum Operators:**\n",
    "\n",
    "- In classical mechanics, observables (like position, momentum, and energy) correspond to properties that can be measured, such as where an object is or how fast it's moving.\n",
    "\n",
    "- In quantum mechanics, these observables are connected to specific mathematical operators called **quantum operators**. These operators represent the observables but in the quantum world.\n",
    "\n",
    "**Nature of Quantum Operators:**\n",
    "\n",
    "- Quantum operators must satisfy certain criteria:\n",
    "\n",
    "  - They are linear, meaning they follow principles of linearity in mathematical operations.\n",
    "\n",
    "  - They are Hermitian, ensuring that when their associated observables are measured, the results are real numbers.\n",
    "  \n",
    "**Examples of Observable and Corresponding Quantum Operators:**\n",
    "\n",
    "- For example, the observable \"Position\" $(r)$ in classical mechanics corresponds to the quantum operator $\\bf{\\hat{r}}$ in quantum mechanics. The operation of this operator involves multiplying by the position.\n",
    "\n",
    "- Similarly, the \"momentum\" $(p)$ observable corresponds to the quantum operator $(\\hat{p})$, which involves applying a specific mathematical operation based on the partial derivatives with respect to spatial coordinates.\n",
    "\n",
    "- Other observables like kinetic energy $(T)$, potential energy $(V(r))$, total energy $(E)$, and angular momentum $((\\bf{l_x}), (\\bf{l_y}), (\\bf{l_z}))$ have their respective quantum operators with specific mathematical operations.\n",
    "\n",
    "**Implication:**\n",
    "\n",
    "- This postulate bridges the classical world of measurable properties to the quantum world of operators, ensuring that measurements in quantum mechanics yield real outcomes, consistent with observations.\n",
    "\n",
    "In essence, this postulate establishes the mathematical connection between classical observables and the corresponding mathematical operators in quantum mechanics, allowing us to describe and predict the behaviour of quantum systems using these operators."
   ]
  },
  {
   "cell_type": "markdown",
   "id": "bbcb776b-e7d0-487f-91ca-be01179533e6",
   "metadata": {},
   "source": [
    "### Postulate - 3 :"
   ]
  },
  {
   "cell_type": "markdown",
   "id": "d84572e4-e1d9-48b5-9dd0-8a3abbc577eb",
   "metadata": {},
   "source": [
    "In any measurement of the observable associated with operator $\\bf{\\hat{A}}$, the only values that will ever be observed are the `eigenvalue`, ***`a`***, that satisfy the eigenvalue equation,\n",
    "$$\\boxed{\\color{blue}{\\hat{A}\\Psi\\ = a\\Psi}}$$\n",
    "\n",
    "This is the postulate that the values of dynamical variables are quantized in Quantum mechanics (although it is possible to have a continuum of eigenvalues in the case of unbound states). If the system is in an eigenstate of $\\hat{A}$ with eigenvalue ***a*** then any measurement of the quantity ***A*** will always yield the value ***a***.\n",
    "\n",
    "Although measurement will always yield a value, the initial state does not have to be an eigenstate of $\\hat{A}$. An arbitrary state can be expanded in the complete set of Eigenvectors of $\\hat{A}$ "
   ]
  },
  {
   "cell_type": "code",
   "execution_count": null,
   "id": "63d13938-9764-417c-9181-7218de958db6",
   "metadata": {},
   "outputs": [],
   "source": []
  }
 ],
 "metadata": {
  "kernelspec": {
   "display_name": "Python 3 (ipykernel)",
   "language": "python",
   "name": "python3"
  },
  "language_info": {
   "codemirror_mode": {
    "name": "ipython",
    "version": 3
   },
   "file_extension": ".py",
   "mimetype": "text/x-python",
   "name": "python",
   "nbconvert_exporter": "python",
   "pygments_lexer": "ipython3",
   "version": "3.11.5"
  }
 },
 "nbformat": 4,
 "nbformat_minor": 5
}
