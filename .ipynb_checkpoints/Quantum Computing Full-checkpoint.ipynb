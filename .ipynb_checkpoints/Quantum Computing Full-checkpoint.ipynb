{
 "cells": [
  {
   "cell_type": "markdown",
   "id": "4535550c-8de4-4e2a-be0f-e9b16ed0dab8",
   "metadata": {},
   "source": [
    "# Quantum Computing "
   ]
  },
  {
   "cell_type": "markdown",
   "id": "34cfa357-a994-4d29-9752-e9728857853e",
   "metadata": {
    "jp-MarkdownHeadingCollapsed": true
   },
   "source": [
    "## Introduction :"
   ]
  },
  {
   "cell_type": "markdown",
   "id": "41f2914d-d448-483c-bb29-d2aa4ff90d3c",
   "metadata": {
    "jp-MarkdownHeadingCollapsed": true
   },
   "source": [
    "### Why Quantum Computing?"
   ]
  },
  {
   "cell_type": "markdown",
   "id": "150e2a67-cebb-4801-a53b-4cb4b732a22e",
   "metadata": {},
   "source": [
    "Modern computing is based on `classical physics` and `Mathematical logic` laws. Even though the working of electronic components works on quantum mechanical principles, the logic they follow is `classical`. Traditional computer software is designed for **`serial computation`**. \n",
    "\n",
    "***`Serial computation`*** essentially means that when we write an algorithm, the logic flow takes place from one point to another in terms of time. It means that a particular process must be completed before another process is taken up.\n",
    "\n",
    "The concept of a ***`parallel computer`*** is also within our traditional computing platform, but the problem can be broken up into independent logic which could be executed at the same time. So in other words, a traditional parallel computer must have an `n` number of processors which could take up the job at the same time and then we should integrate with the results.\n",
    "\n",
    "The Idea of Quantum Computer was first given by `Richard Feynmann` in a paper which he published in 1982. That paper was titled ***`\"Simulation of Physics in a Computer\"`***.\n",
    "\n",
    "The question that he asked is $\\color{red}{\\textbf{Can one simulate physics using a computer?}}$\n",
    "\n",
    "Now there are many problems with it, the first problem is `how do you simulate time?` \n",
    "- As we know time is a continuous variable. The problem with stimulating time is to discretize it. We have techniques for discretizing the time by solving **Differential Equations**.\n",
    "\n",
    "But the bigger problem is that, in quantum mechanics, the `measurements will give probabilistic results`.\n",
    "\n",
    "- As we know a state in quantum mechanics is a `linear combination` of certain states and when a measurement is made, let’s consider about linear combination of some `basis` states when we measure any physical property of the system, one of the possible the values of that physical property is realized with certain probability.\n",
    "  \n",
    "But then the problem is to simulate a `quantum process` using a quantum computer `Can we use the quantum principle to our advantage to build a computer?` "
   ]
  },
  {
   "cell_type": "markdown",
   "id": "d6014add-331d-42ad-a221-23644115ba48",
   "metadata": {
    "jp-MarkdownHeadingCollapsed": true
   },
   "source": [
    "### Peter Shor's Approach :"
   ]
  },
  {
   "cell_type": "markdown",
   "id": "ae762033-1e67-4f2f-ae40-648a9697c2b6",
   "metadata": {},
   "source": [
    "In 1994 he came up with an algorithm which showed that a very old problem that we have in computational science can be effectively solved with a quantum computer. The problem is connected with how to factorize a large composite number.\n",
    "\n",
    "Now this has been known to be a very difficult problem or as computer scientists call it `hard problem` in computer science.\n",
    "\n",
    "   - The reason why it is a hard problem is that there are no effective algorithms known, which can compute the factors of a large composite number which in computer science language is referred to as **`polynomial time`**.\n",
    "\n",
    "If it could be done in polynomial time then of course it would be called an `easy problem`. \n",
    "\n",
    "Even today we depend on this difficulty in factorizing a large composite number to have encryption of data and in fact ***`RSA algorithm`*** which provides the data encryption depends on the relative hardness of the factorization problem and w.r.t the multiplication which is relatively easy.\n",
    "\n",
    "   - And if one can break this RSA Code which at least theoretically is possible today thanks to Shor’s algorithm, then it would mean a substantial advancement in both cryptography and in computer science.\n",
    "\n",
    "So what **Peter Shor** showed is that `using the principles of quantum mechanics we can factorize a large composite number`."
   ]
  },
  {
   "cell_type": "markdown",
   "id": "b93b83e5-501c-4677-b728-468e52526937",
   "metadata": {
    "jp-MarkdownHeadingCollapsed": true
   },
   "source": [
    "### Inherent Parallelism :"
   ]
  },
  {
   "cell_type": "markdown",
   "id": "9159c7c4-f2da-4ea1-9a5a-069344bd6b2b",
   "metadata": {},
   "source": [
    "In a Quantum Computer, the same processor can perform operations on multiple inputs simultaneously and the state of a register can exist in a simultaneous superposition of different Quantum states.\n",
    "\n",
    "The reason why quantum computation is different from classical computation is the fact that while a classical register can at a given time have or be in one state i.e., let us consider a simple classical bit and I have a one-bit register.\n",
    "\n",
    "1. **`States and Superposition`**:\n",
    "\n",
    "   - In classical computation, a **bit** in a register can exist in one of two states: `0` or `1`. For example, a **2-bit** register can represent one of the four classical states: `00`, `01`, `10`, or `11`.\n",
    "\n",
    "   - In quantum computation, quantum bits or qubits can exist in a state of superposition. This means a qubit can represent both 0 and 1 simultaneously, in varying proportions. For instance, a 2-qubit quantum register can be in a linear combination of the classical states (00, 01, 10, 11) at the same time.\n",
    "\n",
    "2. **`Superposition in Computation`**:\n",
    "\n",
    "   - When performing computations on classical bits, you can only process `one state at a time`. If you have multiple inputs, you'd need `multiple processors or sequential operations` to compute the function for each input individually.\n",
    "\n",
    "   - Quantum computation allows for computation on **superpositions**. This means `when a function is applied to a quantum register in superposition, the computation is carried out on all the possible inputs simultaneously due to the nature of quantum parallelism`. This inherent parallelism enables computations on multiple inputs at once, without the need for separate processors.\n",
    "\n",
    "3. **`Parallelism`**:\n",
    "\n",
    "   - In classical computing, parallelism is achieved by using `multiple processors`, where different processors handle different computations **concurrently**. This external parallelism involves dividing tasks among processors to speed up computation.\n",
    "     \n",
    "   - Quantum parallelism, on the other hand, `is inherent to the nature of qubits and superposition`. Quantum algorithms take advantage of this intrinsic property, allowing for computations on multiple states simultaneously without requiring additional hardware.\n",
    "\n",
    "   - And the parallelism that we are talking about for a quantum computer is ***`inherent`***. And `it is not outside parallelism which has trust in us by having several processors`.\n",
    "\n",
    "4. **` Measurement and Quantum Interference`**:\n",
    "\n",
    "   - In quantum computation, after performing operations on a qubit or a quantum register, when a measurement is made, `the superposition collapses to a definite classical state`.\n",
    "     \n",
    "   - Quantum interference effects, resulting from the **superposition** and **manipulation of qubits**, allow for complex calculations, optimizations, and algorithms that `exploit interference patterns among possible states to yield the desired output efficiently`.\n",
    "     \n",
    "   - In other words, `we compute the value of the function for each one of the inputs at the same time`. \n",
    "\n",
    "In summary, the `fundamental difference between classical and quantum computation` lies in the ability of qubits to exist in **superposition**, enabling computations on multiple inputs simultaneously through inherent quantum parallelism, `without relying on external parallel processing units`. This unique property forms the basis for the potential computational advantages of quantum computers for certain problems over classical computers."
   ]
  },
  {
   "cell_type": "markdown",
   "id": "2556edb7-7aa1-4070-a307-6d09c6286264",
   "metadata": {
    "jp-MarkdownHeadingCollapsed": true
   },
   "source": [
    "### Miniaturization Challenges and Landauer's Principle :"
   ]
  },
  {
   "cell_type": "markdown",
   "id": "e100144e-aa9c-4ef8-ab20-9f401578589c",
   "metadata": {},
   "source": [
    "Now when miniaturization proceeds like this `(according to Moore's law)` there are **two** problems associated with, when the separation between different components reach atomic dimensions. We know that from the `quantum mechanical uncertainty principle due to Heisenberg`, and that has a lot of influence on what happens when things reach atomic dimension.\n",
    "\n",
    "1. In other words, `if the components come so close then the results that you get out of that computation will no longer be reliable`.\n",
    "2. The other thing that will happen is that the **heat** produced by one of the components would naturally `affect the performance` of nearby components and so therefore, this will also make the computation unreliable.\n",
    "\n",
    "This heat problem has certain other aspects, for instance, the heat produced by a computer depends on the **volume occupied** by the number of bits. But it is required to remove the heat continuously and heat can be removed only from the surface. So, as a result, when the components come too close, the `efficiency of removing heat will not be quite as good`."
   ]
  },
  {
   "cell_type": "markdown",
   "id": "2160ef28-20d3-499f-b97a-6113b07bc728",
   "metadata": {},
   "source": [
    "#### Landauer Principle :"
   ]
  },
  {
   "cell_type": "markdown",
   "id": "9c8b0a67-1414-4aa2-b949-44649261caf5",
   "metadata": {},
   "source": [
    "The Landauer Principle, proposed by ***Rolf Landauer*** in the 1960s, is a fundamental concept in the field of computational physics and information theory. It establishes a relationship between `information processing`, specifically erasure of information, and `physical thermodynamics`.\n",
    "\n",
    "The principle can be summarized as follows:\n",
    "\n",
    "***`The erasure of information in a computational process is accompanied by an inevitable minimum amount of energy dissipation, which results in an increase in entropy in the environment.`***\n",
    "\n",
    "Key points regarding the Landauer Principle:\n",
    "\n",
    "1. **Information and Entropy**:\n",
    "\n",
    "   - In information theory, erasing information generates **entropy**. When information is erased or reset in a computational process, the uncertainty or randomness in the system increases, which corresponds to an increase in entropy.\n",
    "\n",
    "2. **Thermodynamic Connection**:\n",
    "\n",
    "   - Landauer linked the act of `irreversible information erasure` (like resetting a bit in a computer) to `physical thermodynamics`. He showed that **` to erase information irreversibly, some minimal amount of energy dissipation is inevitable`**.\n",
    "\n",
    "   - The energy associated with the erasure process is dissipated as heat into the environment, leading to an **increase** in the entropy of the environment.\n",
    "\n",
    "3. **Energy Consumption**:\n",
    "\n",
    "   - Landauer's insight implies a fundamental connection between information theory and thermodynamics, stating that there is a `theoretical minimum amount of energy consumption required to erase one bit of information`.\n",
    "\n",
    "   - This theoretical minimum energy is given by the `product of the temperature of the environment and the increase in entropy caused by the erasure of the bit`.\n",
    "\n",
    "4. **Implications**:\n",
    "\n",
    "   - The Landauer Principle has implications for the energy efficiency of computing devices. It sets a **theoretical limit** on the amount of energy needed to perform **irreversible operations** like resetting bits in a computer's memory.\n",
    "\n",
    "   - In the design of ultra-low-power computing devices and in the development of reversible computing (where information is manipulated without loss), the Landauer Principle's constraints and implications are taken into consideration.\n",
    "\n",
    "In essence, the Landauer Principle provides a crucial link between information theory and thermodynamics, highlighting the physical costs associated with information processing, particularly in terms of energy dissipation and entropy increase when information is erased irreversibly."
   ]
  },
  {
   "cell_type": "markdown",
   "id": "c1b7e2b5-cde3-4057-8fae-039b8055451b",
   "metadata": {
    "jp-MarkdownHeadingCollapsed": true
   },
   "source": [
    "### Reversibility :"
   ]
  },
  {
   "cell_type": "markdown",
   "id": "adef227d-929c-4ab5-96ff-d27d86297de7",
   "metadata": {},
   "source": [
    "AND gate is an irreversible process, & most of the processes in classical computing are done irreversibly.\n",
    "\n",
    "The Landauer principles state that every `n bit of information increases the thermodynamic entropy by nk log2`, which would mean that there is a certain amount of **loss of energy** and the process becomes **gradually inefficient** as the number of components increases.\n",
    "The present-day computers dissipate much more energy than this limit. \n",
    "\n",
    "So, the quantum processes, have to be carried out `reversibly`, in fact, the operators which will be performing are unitary operators.\n",
    "\n",
    "`Reversibility` means `every logical step should be capable of getting reversed, which results in negligible energy loss`.\n",
    "\n",
    "Now it is also possible to do classical computing using reversible gates, but then there is always a problem of what we call as **garbage**. \n",
    "\n",
    "- The `garbage arises` because, for example, using AND gate and want it to be reversible, which means we have to store the inputs continuously, in fact, the only classical gate which is a reversible gate is a **NOT** gate. \n",
    "\n",
    "- But for all others, if we want the process should be done reversibly, we need to **collect** the inputs which are not later on require. So, that becomes a very big `disposal problem and it also requires unnecessary storage`.\n",
    "\n",
    "So these are the two primary issues connected with the advent of quantum computers."
   ]
  },
  {
   "cell_type": "markdown",
   "id": "44965683-a775-493c-b875-f9226c2f9bfb",
   "metadata": {
    "jp-MarkdownHeadingCollapsed": true
   },
   "source": [
    "## Wave Particle Duality :"
   ]
  },
  {
   "attachments": {},
   "cell_type": "markdown",
   "id": "2060faa9-c8c4-4ef1-8cf3-c27a308a140f",
   "metadata": {},
   "source": [
    "In the realm of quantum computing, understanding the dual nature of matter is fundamental to comprehending the behavior of particles at the quantum level, which forms the basis of qubits, the building blocks of quantum computers. Here are some key points:\n",
    "\n",
    "1. **Wave-Particle Duality:** Particles at the quantum level, such as electrons and photons, exhibit both wave-like and particle-like behaviors. This duality challenges classical physics, where particles were considered distinct from waves. In quantum mechanics, particles can display wave-like characteristics, described by wave functions.\n",
    "\n",
    "2. **Quantum Superposition:** Particles in a quantum state can exist in multiple states simultaneously, a concept known as superposition. This property is crucial in quantum computing because qubits can represent both 0 and 1 at the same time, enabling parallel computation.\n",
    "\n",
    "3. **Interference:** When waves interact, they can interfere constructively (increasing amplitude) or destructively (canceling each other out). In quantum computing, qubits exploit interference patterns to enhance or minimize specific outcomes, crucial for quantum algorithms like Shor's algorithm or Grover's algorithm.\n",
    "\n",
    "4. **Measurement and Collapse of the Wavefunction:** When a quantum system is measured, it collapses into one of its possible states. Before measurement, the system exists in a superposition of states. This property allows quantum computers to perform multiple calculations simultaneously but requires careful handling to preserve the quantum state.\n",
    "\n",
    "5. **Quantum Entanglement:** Particles can become entangled, where the state of one particle becomes correlated with the state of another, regardless of the distance between them. Entanglement is a powerful resource in quantum computing, enabling the creation of highly interconnected qubits for faster computations.\n",
    "\n",
    "6. **Decoherence:** Quantum systems are fragile and can easily lose their quantum properties due to interactions with the environment. This loss of coherence, known as decoherence, poses a significant challenge in maintaining the stability of qubits and sustaining their quantum state.\n",
    "\n",
    "Understanding the dual nature of matter provides insights into the behavior of particles at the quantum level, forming the theoretical basis for quantum computing. Harnessing these principles effectively is crucial for building and operating robust and efficient quantum computers."
   ]
  },
  {
   "cell_type": "markdown",
   "id": "dcae0ec3-4be7-4776-90b5-d0d23ae50ef6",
   "metadata": {
    "jp-MarkdownHeadingCollapsed": true
   },
   "source": [
    "## Young's Double-slit Experiment :"
   ]
  },
  {
   "attachments": {
    "cfeded4e-7923-4db1-9788-3346ef6f873f.jpg": {
     "image/jpeg": "[encoded data removed]"
    }
   },
   "cell_type": "markdown",
   "id": "5110e5a2-d9bd-42f1-b245-5f45a4440f47",
   "metadata": {},
   "source": [
    "![Double-slit2.jpg](attachment:cfeded4e-7923-4db1-9788-3346ef6f873f.jpg)\n",
    "\n",
    "The double-slit experiment is a cornerstone in understanding the dual nature of matter, revealing the wave-particle duality in quantum mechanics.\n",
    "\n",
    "**Double-Slit Experiment:**\n",
    "\n",
    "In this experiment:\n",
    "\n",
    "- A light source (or any particle source, like electrons) shines particles toward a barrier with two slits.\n",
    "\n",
    "- Behind the barrier, there's a screen to detect where the particles land after passing through the slits.\n",
    "\n",
    "***Observations:***\n",
    "\n",
    "1. **Particle-Like Behavior:** When one slit is open, particles land on the screen directly behind that slit, behaving as if they were tiny bullets going through a single slit.\n",
    "\n",
    "2. **Wave-Like Behavior:** When both slits are open, an interference pattern emerges on the screen, similar to what waves produce when they pass through two slits and interfere with each other. This pattern indicates that particles are behaving like waves, creating areas of reinforcement (constructive interference) and cancellation (destructive interference).\n",
    "\n",
    "***Significance and Implications:***\n",
    "\n",
    "The double-slit experiment shook up classical physics because it demonstrated that particles, like electrons or photons, exhibit behavior characteristic of waves. This duality challenges the traditional view of particles as tiny, solid objects and instead suggests that they also have wave-like properties.\n",
    "\n",
    "***Thought behind the Discovery of Dual Nature:***\n",
    "\n",
    "This experiment led to the concept of \"wave-particle duality.\" The thought was that particles (like electrons) could exhibit wave-like behaviors—such as interference patterns—suggesting they weren't just discrete particles but had some wave-like characteristics as well.\n",
    "\n",
    "The discovery of this duality marked a fundamental shift in our understanding of the nature of matter. It laid the groundwork for quantum mechanics, showing that at the smallest scales, particles don't adhere to classical physics' strict division between particles and waves. Instead, they exhibit both behaviors simultaneously, which is key to comprehending the behavior of particles at the quantum level."
   ]
  },
  {
   "cell_type": "markdown",
   "id": "8dc2caf2-71bd-4763-96ff-c7c5b6057892",
   "metadata": {},
   "source": [
    "## Postulates of Quantum Mechanics :"
   ]
  },
  {
   "cell_type": "markdown",
   "id": "2a6bea79-8a19-458f-97aa-abdd338bf590",
   "metadata": {},
   "source": [
    "There are `6` Postulates of Quantum Mechanics."
   ]
  },
  {
   "cell_type": "markdown",
   "id": "2cd32822-36f9-4594-ba6b-919bad07fe47",
   "metadata": {
    "jp-MarkdownHeadingCollapsed": true
   },
   "source": [
    "### Postulate - 1 :"
   ]
  },
  {
   "cell_type": "markdown",
   "id": "9e0c1937-8b95-4aa6-95e2-e050c9239298",
   "metadata": {},
   "source": [
    "The state of the Quantum-mechanical system is completely specified by the function **&Psi;(r,t)** that depends on the coordinates of the particle, **`r`** and the time, **`t `**.\n",
    "\n",
    "This function is called the $\\color{red}{\\text{Wave-Function}}$ or $\\color{red}{\\text{State-Function}}$ and has the property that $\\color{green}{\\Psi^*(r,t) \\Psi(r,t)\\,d\\tau}$ is the probability that the particle lies in the volumetric element ***d&tau;*** located at `r` and `t`.\n",
    "\n",
    "This is the `Probabilistic` interpretation of wavefunction. As a result, the wave function must satisfy the condition that finding the particle somewhere in space is **`1`** and this gives us the normalisation condition\n",
    "\n",
    "$$\\boxed{\\color{blue}{\\int_{-\\infty}^{\\infty}\\Psi^*(r,t) \\Psi(r,t)\\,d\\tau \\ = 1}}$$\n",
    "\n",
    "The other conditions on the wavefunction that arise from the probabilistic interpretation are that it must be **single-valued**, **continuous** and **finite**. `Generally, wavefunctions are written with the inclusion of normalisation constant`."
   ]
  },
  {
   "cell_type": "markdown",
   "id": "04082de0-b74a-4f9b-8712-09f0a83775d5",
   "metadata": {},
   "source": [
    "#### Explanation :"
   ]
  },
  {
   "cell_type": "markdown",
   "id": "da884e4c-01e3-4b5d-b684-dac982a240b6",
   "metadata": {},
   "source": [
    "Let's break down the first postulate of quantum mechanics using a simple example involving a `particle in a one-dimensional box`.\n",
    "\n",
    "Imagine a particle confined within a box, free to move along a line. The wave function, denoted by **&Psi;(x, t)**, describes the state of this particle. It represents the probability amplitude of finding the particle at a particular position `x` at time `t`.\n",
    "\n",
    "- `(Think of the wave function Ψ(x, t) as a special way to describe where a particle might be in a box at a given time. It's like a mathematical map telling us the likelihood of finding the particle at different spots along this line inside the box.)`\n",
    "\n",
    "- The wave function gives us a way `to calculate the chance of finding the particle in a small space`. \n",
    "\n",
    "Imagine splitting the box into tiny pieces. The probability of finding the particle in one of these tiny pieces is given by `Ψ(x, t)` times its complex conjugate `Ψ*(x, t)`. We then add up these probabilities for all these tiny pieces along the entire length of the box.\n",
    "\n",
    "Now, according to the probabilistic interpretation of the wave function, the probability of finding the particle in a small interval **dx** at a specific time is given by **&Psi;(x, t)** multiplied by its complex conjugate **&Psi;*(x, t)**, and then integrated over that interval:\n",
    "\n",
    "$$\\boxed{\\color{red}{\\int_{x}^{x+dx} \\Psi^*(x, t) \\Psi(x, t) \\,dx}}$$\n",
    "\n",
    "- For simplicity, let's say our box spans from `x = 0` to `x = L`, so the particle can only exist within this region.\n",
    "\n",
    "- For the particle to exist somewhere within the entire box at time `t`, the integral of the probability density over the entire space must equal 1:\n",
    "\n",
    "$$\\implies\\int_{0}^{L} \\Psi^*(x, t) \\Psi(x, t) \\,dx = 1$$\n",
    "\n",
    "To know where the particle is in the whole box, we add up these probabilities for every possible position within the box, from x = 0 to x = L. `The total of all these probabilities should always add up to 1`.\n",
    "\n",
    "This means the particle is definitely somewhere in the box—it's just a matter of figuring out where! This condition ensures that there is a 100% chance of finding the particle somewhere within the box.\n",
    "\n",
    "As an example, consider a simple wave function for a particle in this box:\n",
    "\n",
    "$$\\Psi(x, t) = A \\sin\\left(\\frac{n\\pi x}{L}\\right)$$\n",
    "\n",
    "Here, `A` is a normalization constant and `n` is an integer (1, 2, 3, ...), representing different possible states of the particle.\n",
    "\n",
    "To satisfy the normalization condition, the constant `A` is chosen such that when we square this wave function (**&Psi;*(x, t)** times **&Psi;(x, t)**) and integrate it over the entire length of the box from 0 to `L`, we get 1.\n",
    "\n",
    "When we use a specific wave function like **`Ψ(x, t) = A sin(nπx/L)`**, the constant A is what we adjust. \n",
    "\n",
    "We want the total probability to be `1`, so A is chosen in such a way that when we square this wave function and add it up from `x = 0` to `x = L`, the result equals 1.\n",
    "\n",
    "This normalization constant `A` ensures that the total probability of finding the particle within the box is indeed 1, meeting the requirement of the first postulate of quantum mechanics."
   ]
  },
  {
   "cell_type": "markdown",
   "id": "4055546d-6814-48e5-8a0b-6076d233f23e",
   "metadata": {},
   "source": [
    "#### Example of finding treasure on the planet:"
   ]
  },
  {
   "cell_type": "markdown",
   "id": "109c31d2-fc58-48ec-babc-b82d68659e20",
   "metadata": {},
   "source": [
    "Let's imagine applying the concept of the wave function's probabilistic interpretation to locating a particular point on the Earth's surface using latitude and longitude coordinates.\n",
    "\n",
    "**Scenario:**\n",
    "\n",
    "- Consider a treasure hunt where a hidden treasure represents a particle in the quantum world.\n",
    "\n",
    "- The probability of finding the treasure at any given spot on Earth is akin to the probability of locating a particle in a specific volume element in quantum mechanics.\n",
    "\n",
    "**Equating to Wave Function Probability:**\n",
    "\n",
    "- The Earth's surface is represented by latitude and longitude coordinates.\n",
    "\n",
    "- Each point on the Earth corresponds to a specific coordinate (**`r`**).\n",
    "\n",
    "**Quantum Mechanics Interpretation:**\n",
    "\n",
    "- In quantum mechanics, the square of the wave function at a particular point represents the probability of finding the particle at that position.\n",
    "\n",
    "- Similarly, the probability of finding the treasure at a particular geographic location corresponds to the probability density at that specific lat-long coordinate.\n",
    "\n",
    "**Normalization Condition:**\n",
    "\n",
    "- Ensuring that the treasure exists somewhere on Earth is equivalent to the quantum mechanics normalization condition.\n",
    "\n",
    "- Just as the total probability of finding the particle across all space is **`1`**, in our treasure hunt scenario, the treasure must be located somewhere on Earth.\n",
    "\n",
    "**Application:**\n",
    "\n",
    "- Using the analogy of the wave function, the treasure's probable locations are spread across the globe, each with its probability density.\n",
    "\n",
    "- The quest for the treasure is similar to exploring the quantum state space, searching for the highest probability location.\n",
    "\n",
    "This analogy demonstrates how the wave function's probabilistic nature in quantum mechanics aligns with the probabilistic interpretation of finding an object (like the treasure) at different locations on Earth.\n",
    " \n",
    "In quantum mechanics, the wave function's properties dictate the probability distribution of a particle's location, much like how the treasure's location is probabilistically spread across the Earth's surface."
   ]
  },
  {
   "cell_type": "markdown",
   "id": "71190a8d-acde-4aaa-a9b8-d2429096c0ff",
   "metadata": {},
   "source": [
    "### Postulate - 2 :"
   ]
  },
  {
   "cell_type": "markdown",
   "id": "acd646ca-a8a1-44b7-bd53-9cf0a8439144",
   "metadata": {},
   "source": [
    "***` To every Observable in the classical mechanics there corresponds a linear, Hermitian operator in Quantum mechanics.`***\n",
    "\n",
    "This Postulate comes from the observation that the expectation value of an operator that corresponds to an observable must be real and therefore the operator must be Hermitian. Some example of Hermitian Operators are :\n",
    "\n",
    "| Observable       | Classical Symbol | Quantum Operator | Operation                                                                                      |\n",
    "|------------------|------------------|------------------|-----------------------------------------------------------------------------------------------|\n",
    "| Position         | **r**            |   $\\hat{r}$      |         Multiply by `r`                                                                             |\n",
    "| Momentum         | **p**            | $\\hat{p}$        | $-i \\hbar(\\hat{i}\\frac{\\partial}{\\partial x}+\\hat{j}\\frac{\\partial}{\\partial y}+\\hat{k}\\frac{\\partial}{\\partial z})$ |\n",
    "| Kinetic Energy   | **T**            | $\\hat{T}$        | $\\frac{-\\hbar^2}{2m}(\\frac{\\partial^2}{\\partial x^2} + \\frac{\\partial^2}{\\partial y^2} + \\frac{\\partial^2}{\\partial z^2})$ |\n",
    "| Potential Energy | **V(r)**         | $\\hat{V}(r)$     | Multiply by V(r)                                                                               |\n",
    "| Total Energy     | **E**            | $\\hat{H}$        | $\\frac{-\\hbar^2}{2m}(\\frac{\\partial^2}{\\partial x^2} + \\frac{\\partial^2}{\\partial y^2} + \\frac{\\partial^2}{\\partial z^2})+V(r)$ |\n",
    "| Angular Momentum | $\\bf{l_x}$      | $\\hat{l_x}$      | $-i \\hbar (y \\frac{\\partial}{\\partial z} - z \\frac{\\partial}{\\partial y})$                    |\n",
    "|                  | $\\bf{l_y}$      | $\\hat{l_y}$      | $-i \\hbar (z \\frac{\\partial}{\\partial x} - x \\frac{\\partial}{\\partial z})$                    |\n",
    "|                  | $\\bf{l_z}$      | $\\hat{l_z}$      | $-i \\hbar (x \\frac{\\partial}{\\partial y} - y \\frac{\\partial}{\\partial x})$                    |"
   ]
  },
  {
   "cell_type": "markdown",
   "id": "a0947e23-dc68-4842-bf8c-ae7a61c59d28",
   "metadata": {},
   "source": [
    "#### Explanation :"
   ]
  },
  {
   "cell_type": "markdown",
   "id": "70d508c0-2f9a-4bc8-b9ce-ad8851287141",
   "metadata": {},
   "source": [
    "The second postulate of quantum mechanics connects classical observables (like position, momentum, and energy) to their corresponding quantum operators. Here's a simplified explanation:\n",
    "\n",
    "**Observable Correspondence:**\n",
    "\n",
    "- This postulate establishes a connection between classical observables (like position, momentum, energy) and their counterparts in quantum mechanics.\n",
    "\n",
    "- For every measurable property in classical physics, there exists a corresponding quantum operator in quantum mechanics.\n",
    "\n",
    "**Hermitian Operators:**\n",
    "\n",
    "- These quantum operators must be Hermitian, meaning they satisfy a specific mathematical property.\n",
    "\n",
    "- Hermitian operators in quantum mechanics correspond to observable quantities whose measured values are always real.\n",
    "\n",
    "**Role of Operators:**\n",
    "\n",
    "- In quantum computing, these Hermitian operators are crucial elements. They represent the fundamental properties of quantum systems that we want to measure or manipulate during computations.\n",
    "\n",
    "**Example with Quantum Gates:**\n",
    "\n",
    "- Quantum gates in quantum computing, like the Pauli-X gate or the Hadamard gate, correspond to specific operators.\n",
    "\n",
    "- These gates (operators) perform operations on quantum bits (qubits) to execute quantum algorithms.\n",
    "\n",
    "**Observables in Quantum Algorithms:**\n",
    "\n",
    "- The classical observables' counterparts in quantum mechanics are employed as operators in quantum algorithms.\n",
    "\n",
    "- For instance, the quantum phase estimation algorithm uses the phase as an observable, represented by a specific quantum operator.\n",
    "\n",
    "**Real-Life Analogy:**\n",
    "\n",
    "- Consider classical tools used to measure properties of objects. In quantum computing, the Hermitian operators are like the mathematical tools that allow us to make computations and measurements within the quantum realm.\n",
    "\n",
    "***Practical Impact:***\n",
    "\n",
    "- Hermitian operators' used in quantum computing forms the backbone of quantum algorithms and computations.\n",
    "\n",
    "- They enable us to simulate and analyze quantum systems and perform computations beyond the capabilities of classical computers.\n",
    "\n",
    "In essence, the second postulate underlines the connection between classical observables and their quantum mechanical counterparts, emphasizing the importance of Hermitian operators in quantum computing. These operators are pivotal in designing algorithms and performing computations in the quantum realm."
   ]
  },
  {
   "cell_type": "markdown",
   "id": "bbcb776b-e7d0-487f-91ca-be01179533e6",
   "metadata": {
    "jp-MarkdownHeadingCollapsed": true
   },
   "source": [
    "### Postulate - 3 :"
   ]
  },
  {
   "cell_type": "markdown",
   "id": "d84572e4-e1d9-48b5-9dd0-8a3abbc577eb",
   "metadata": {},
   "source": [
    "In any measurement of the observable associated with operator $\\bf{\\hat{A}}$, the only values that will ever be observed are the `eigenvalue`, ***`a`***, that satisfy the eigenvalue equation,\n",
    "$$\\boxed{\\color{blue}{\\hat{A}\\Psi\\ = a\\Psi}}$$\n",
    "\n",
    "This is the postulate that the values of dynamical variables are quantized in Quantum mechanics (although it is possible to have a continuum of eigenvalues in the case of unbound states). If the system is in an eigenstate of $\\hat{A}$ with eigenvalue ***a*** then any measurement of the quantity ***A*** will always yield the value ***a***.\n",
    "\n",
    "Although measurement will always yield a value, the initial state does not have to be an eigenstate of $\\hat{A}$. An arbitrary state can be expanded in the complete set of Eigenvectors of $\\hat{A}$, $\\hat{A}\\Psi_i\\ = a_i\\Psi_i$, as\n",
    "$$\\boxed{\\color{blue}{\\Psi\\ = \\sum_{i}^{n}\\ c_i\\Psi_i}}$$\n",
    "- where *n* may go to infinity($\\infty$).\n",
    "\n",
    "In this case measurement of ***A*** will yeild one of the eigenvalues, ${a_i}$ but we don't know which one. The *probability* of observing the eigenvalue ${a_i}$ is given by absolute value of the square of the coefficient, $\\left|{c_i}\\right|^2$. \n",
    "\n",
    "The third Postulate also implies that, after the measurement of **&Psi;** yields some value, ${a_i}$, the wavefunction ***collapses*** into eigenstate $\\bf{\\Psi_i}$ that corresponds to ${a_i}$. If ${a_i}$ is degenerate **&Psi;** collapses onto the degenerate subspace. Thus the act of measurement affects the state of the system and this has been used in many elegant experimental explorations of Quantum mechanics (ex: Bell's Theorem)."
   ]
  },
  {
   "cell_type": "markdown",
   "id": "c2ff41f4-41bb-4fd9-86b0-be2b5bc2d154",
   "metadata": {
    "jp-MarkdownHeadingCollapsed": true
   },
   "source": [
    "#### Explanation :"
   ]
  },
  {
   "cell_type": "markdown",
   "id": "bf1207bd-024d-4610-a45b-c7fdcd4b946c",
   "metadata": {},
   "source": [
    "The third postulate of quantum mechanics, often referred to as the **postulate of measurement** or **the collapse of the wave function**, has significant implications for quantum computing. \n",
    "\n",
    "**Quantization of Observable Values:**\n",
    "\n",
    "- In quantum mechanics, when measuring an observable represented by an operator $\\hat{A}$, the only values observed are the eigenvalues $a$ that satisfy the equation $\\color{magenta}{\\hat{A}\\Psi = a\\Psi}$.\n",
    "\n",
    "- This implies that the values of physical properties are quantized in quantum systems. For instance, if a system is in an eigenstate of $\\hat{A}$ with eigenvalue $a$, any measurement of that property will yield the value $a$.\n",
    "\n",
    "**Eigenstates and Probabilities:**\n",
    "\n",
    "- Although the initial state may not be an eigenstate of $\\hat{A}$, it can be expanded into a set of eigenvectors of $\\hat{A}$ $\\hat{A}\\Psi_i = a_i\\Psi_i$ using coefficients $(c_i)$.\n",
    "\n",
    "- The probability of observing the eigenvalue $(a_i)$ upon measurement is given by the absolute value squared of the coefficient $(|c_i|^2)$.\n",
    "\n",
    "- This means that the measurement outcome is probabilistic, with each eigenvalue having a probability associated with it.\n",
    "\n",
    "**Wave Function Collapse:**\n",
    "\n",
    "- After the measurement, the state of the system changes. The wave function **`collapses`** into the eigenstate $\\Psi_i$ corresponding to the observed eigenvalue $(a_i)$.\n",
    "\n",
    "- If $(a_i)$ is degenerate (multiple states with the same eigenvalue), the wave function collapses into the degenerate subspace, affecting the state of the system.\n",
    "\n",
    "**Implications in Quantum Computing:**\n",
    "\n",
    "- In quantum computing, this postulate implies that measurements collapse the quantum state to a specific outcome.\n",
    "\n",
    "- It underscores the probabilistic nature of measurement outcomes in quantum systems.\n",
    "\n",
    "- Quantum algorithms leverage this probabilistic nature and exploit superposition and entanglement to perform computations more efficiently for certain problems.\n",
    "\n",
    "In essence, the act of measurement in quantum computing causes the system to collapse into a specific state, impacting subsequent computations or measurements. This phenomenon is fundamental and central to quantum algorithms and their unique computational power.\n"
   ]
  },
  {
   "cell_type": "markdown",
   "id": "66b1beba-4e71-47eb-bde2-40b0c323b1c4",
   "metadata": {},
   "source": [
    "#### Quantum Coin Example:"
   ]
  },
  {
   "cell_type": "markdown",
   "id": "f2ba42f7-3d97-4c89-a73f-802259459cf8",
   "metadata": {},
   "source": [
    "Let's consider a theoretical scenario with a quantum coin that can be in a superposition of both heads (**`H`**) and tails (**`T`**). When measured, the quantum coin collapses to either `H` or `T` with a certain probability associated with each outcome.\n",
    "\n",
    "Imagine a quantum coin that, when flipped, is in a superposition of **`H`** (heads) and **`T`** (tails) states simultaneously. This coin represents a qubit in a quantum state.\n",
    "\n",
    "1. **Superposition:** The quantum coin is in a superposition state $\\color{red}{|\\Psi\\rangle = \\frac{1}{\\sqrt{2}}|H\\rangle + \\frac{1}{\\sqrt{2}}|T\\rangle\\ }$, meaning it's equally likely to be in both states **`H`** and **`T`** simultaneously.\n",
    "\n",
    "2. **Measurement:** When observed or measured, the quantum coin collapses into either **`H`** or **`T`** based on probabilities.\n",
    "   - The probability of observing **`H`** is $\\color{blue}{\\left|\\frac{1}{\\sqrt{2}}\\right|^2 = \\frac{1}{2}}$.\n",
    "   - Similarly, the probability of observing **`T`** is $\\color{blue}{\\left|\\frac{1}{\\sqrt{2}}\\right|^2 = \\frac{1}{2}}$.\n",
    "\n",
    "3. **Outcome:** Upon measurement, the quantum coin will yield either **`H`** or **`T`**. However, before measurement, it exists in a superposition of both.\n",
    "\n",
    "***Real-Time Analogous Scenario:***\n",
    "\n",
    "Imagine you have a hypothetical quantum coin that behaves as described above. You flip this quantum coin, but instead of observing the result immediately, you're blindfolded and don't see the outcome until later.\n",
    "\n",
    "While blindfolded, the coin exists in a superposition of **`H`** and **`T`**, just like a qubit in a quantum state. Only when you remove the blindfold and observe the result does the quantum coin \"***collapse***\" into either **`H`** or **`T`**.\n",
    "\n",
    "The probabilistic nature of quantum mechanics means that, until you observe the coin, it effectively remains in a simultaneous **`H`** and **`T`** state. The act of observation (removing the blindfold) causes the collapse, revealing the actual outcome.\n",
    "\n",
    "This analogy helps visualize the probabilistic nature of quantum measurements. Until observed, the quantum system exists in multiple states simultaneously, demonstrating the essence of superposition and the impact of observation on the final outcome."
   ]
  },
  {
   "cell_type": "markdown",
   "id": "911a5c6d-8c2d-4c04-9c7d-5f2bdfba8786",
   "metadata": {},
   "source": [
    "### Postulate - 4 :"
   ]
  },
  {
   "cell_type": "markdown",
   "id": "bdc1b6d4-4e77-4345-bebd-36dd41be4cdc",
   "metadata": {},
   "source": [
    "If a system is in a state described by the normalised wavefunction, **&Psi;**, then the average value of the observable corresponding to $\\hat{A}$ is given by\n",
    "$$\\boxed{\\color{green}{\\langle \\hat{A} \\rangle \\ = \\int_{-\\infty}^{+\\infty} \\Psi^* \\hat{A} \\Psi \\,d\\tau}}$$"
   ]
  },
  {
   "cell_type": "markdown",
   "id": "1d7ff489-7a18-4083-a019-003a11dcaede",
   "metadata": {},
   "source": [
    "#### Explanation :"
   ]
  },
  {
   "cell_type": "markdown",
   "id": "1e9a2e00-9850-4301-81c0-605358fce497",
   "metadata": {},
   "source": [
    "The fourth postulate of quantum mechanics addresses how to calculate the average or expected value of an observable associated with a quantum system, represented by the wave function $\\Psi$.\n",
    "\n",
    "**Calculating the Average Value of an Observable:**\n",
    "\n",
    "- For a system described by the normalized wave function $\\Psi$, the average value of an observable represented by the operator $\\hat{A}$ is calculated as:\n",
    "$$\\boxed{\\langle \\hat{A} \\rangle = \\int_{-\\infty}^{+\\infty} \\Psi^* \\hat{A} \\Psi \\,d\\tau}$$\n",
    "\n",
    "where $\\Psi^*$ denotes the complex conjugate of the wave function.\n",
    "\n",
    "**In Simple Terms:**\n",
    "\n",
    "- Consider a quantum system described by the wave function $\\Psi$. This wave function contains information about the system's state, such as its **position**, **momentum**, or **other observables**.\n",
    "\n",
    "- The average or expected value of an observable (like position, energy, etc.) represented by the operator $\\hat{A}$ in this quantum system is calculated using an **integral**.\n",
    "\n",
    "- The integral involves the **complex conjugate of the wave function** $\\Psi^*$, the **operator** $\\hat{A}$, and the **original wave function** $\\Psi$.\n",
    "\n",
    "- This calculation gives us the average value that we would expect to measure if we were to perform measurements on the quantum system multiple times.\n",
    "\n",
    "**Practical Implications:**\n",
    "\n",
    "- This postulate helps in predicting the expected outcomes of measurements on a quantum system.\n",
    "\n",
    "- By calculating the average value of observables, it provides insight into the behavior of the system and what outcomes are likely to be observed in experiments.\n",
    "\n",
    "In essence, the fourth postulate provides a mathematical framework to determine the expected or average outcome of measuring an observable in a quantum system described by its wave function. It's a fundamental aspect of quantum mechanics used to predict and understand measurement outcomes in the quantum world."
   ]
  },
  {
   "cell_type": "markdown",
   "id": "17dd6532-bedd-492b-93db-8f0cf94662ee",
   "metadata": {},
   "source": [
    "#### Particle in a box Example :"
   ]
  },
  {
   "cell_type": "markdown",
   "id": "220dcc34-5a8a-4819-b83b-9716516b23cf",
   "metadata": {},
   "source": [
    "Let's consider a simple real-life example involving a quantum particle's position to understand the fourth postulate.\n",
    "\n",
    "**Finding Average Position of a Particle in a Box:**\n",
    "\n",
    "Imagine a particle confined within a **one-dimensional box**, represented by a wave function $\\Psi(x)$. We want to find the average position of this particle within the box using the fourth postulate.\n",
    "\n",
    "1. **System Description:**\n",
    "\n",
    "   - The wave function $\\Psi(x)$ describes the **probability amplitude** of finding the particle at a specific position $x$ inside the box.\n",
    "\n",
    "2. **Calculating Average Position:**\n",
    "\n",
    "   - Using the fourth postulate, the **average position** $\\langle x \\rangle$ of the particle is determined by the integral:\n",
    "     $$\\boxed{\\langle x \\rangle = \\int_{-\\infty}^{+\\infty} \\Psi^*(x) \\hat{x} \\Psi(x) \\,dx}$$\n",
    "     where $\\hat{x}$ is the **position operator**.\n",
    "\n",
    "3. **Interpretation:**\n",
    "\n",
    "   - This calculation yields the average or expected value of the particle's position if we were to perform measurements on its location multiple times.\n",
    "\n",
    "   - The result provides insight into **where the particle is more likely to be found within the box** based on the given wave function.\n",
    "\n",
    "***Real-Life Analogy:***\n",
    "\n",
    "Think of this scenario as trying to predict where a tiny particle might be inside a confined box without directly observing it. The wave function $\\Psi(x)$ acts like a **probability map**, indicating where the particle is more likely to be found within the box.\n",
    "\n",
    "- Using the fourth postulate is akin to calculating the average position of the particle inside the box based on this probability map.\n",
    "\n",
    "- While we can't directly see the particle's position, this calculation helps us estimate where it's most likely to be found on average, providing a prediction based on the quantum properties described by the wave function.\n",
    "\n",
    "In summary, the fourth postulate allows us to estimate or predict the expected outcome (such as the average position of a quantum particle) based on the mathematical description of the system provided by the wave function, even without directly observing the particle."
   ]
  },
  {
   "cell_type": "markdown",
   "id": "3355b343-725c-43d0-930d-28abfbe4feb9",
   "metadata": {},
   "source": [
    "### Postulate - 5 :"
   ]
  },
  {
   "cell_type": "markdown",
   "id": "3579f322-f7e6-4e18-92b6-371a7c667037",
   "metadata": {},
   "source": [
    "The wavefunction or state function of a system evolves in time according to the time-dependent Schrodinger equation $$\\boxed{ \\hat{H} \\Psi(r,t)\\ = i\\hbar\\frac{\\partial \\Psi}{\\partial t}}$$"
   ]
  },
  {
   "cell_type": "markdown",
   "id": "a390e88f-3097-43d0-80d7-b25418fbc4f3",
   "metadata": {},
   "source": [
    "#### Explanation :"
   ]
  },
  {
   "cell_type": "markdown",
   "id": "0965890b-f1ea-4257-b333-08ff768cd590",
   "metadata": {},
   "source": [
    "The fifth postulate of quantum mechanics deals with how the wave function or state function of a quantum system changes over time. It's described by the time-dependent Schrödinger equation.\n",
    "\n",
    "**Evolution of the Wave Function:**\n",
    "\n",
    "- The **time-dependent Schrödinger equation** represents how the wave function $\\Psi(r, t)$ of a quantum system changes over time.\n",
    "  $$\\color{red}{\\hat{H} \\Psi(r, t) = i\\hbar \\frac{\\partial \\Psi}{\\partial t}}$$\n",
    "  where $\\hat{H}$ is the **Hamiltonian operator**, representing the *total energy of the system*.\n",
    "\n",
    "**Explanation in Simple Terms:**\n",
    "\n",
    "- Consider a quantum system described by its wave function $\\Psi(r, t)$. This wave function contains information about the system's state at different positions $r$ and at time $t$.\n",
    "\n",
    "- The **Schrödinger equation** describes how this wave function evolves over time. It states that the total energy operator $\\hat{H}$ acting on the wave function produces the *rate of change of the wave function with respect to time*.\n",
    "\n",
    "**Interpretation:**\n",
    "\n",
    "- The equation essentially governs how the state of a quantum system changes over time. It links the energy of the system (through the Hamiltonian operator) to the time evolution of its wave function.\n",
    "\n",
    "***Practical Implications:***\n",
    "\n",
    "- Solving the time-dependent Schrödinger equation helps predict the behavior of quantum systems as they evolve over time.\n",
    "\n",
    "- It's fundamental for understanding how quantum states change and develop, aiding in the prediction of outcomes in experiments and real-world applications.\n",
    "\n",
    "In essence, the fifth postulate describes the evolution of a quantum system's state function over time. It's a fundamental equation that underpins the dynamics of quantum systems and allows us to predict how their states change with time, providing crucial insights into the behavior of quantum systems."
   ]
  },
  {
   "cell_type": "markdown",
   "id": "2d3cf71b-4f3f-4a59-98b4-27f6843e8419",
   "metadata": {},
   "source": [
    "#### Example of electron in an Atom:"
   ]
  },
  {
   "cell_type": "markdown",
   "id": "87dd6376-8b58-4e4a-a13e-61ceac307d2c",
   "metadata": {},
   "source": [
    "Let's consider a real-life example involving the time evolution of an electron in an atom.\n",
    "\n",
    "**Scenario:**\n",
    "\n",
    "- An electron in an atom is described by a wave function $\\Psi(r, t)$, where $(r)$ represents its position and $(t)$ represents time.\n",
    "\n",
    "- The time-dependent Schrödinger equation governs how this wave function changes over time.\n",
    "\n",
    "**Explanation:**\n",
    "\n",
    "- The Schrödinger equation for the electron in the atom $\\hat{H} \\Psi(r, t) = i\\hbar \\frac{\\partial \\Psi}{\\partial t}$ describes the evolution of the electron's wave function.\n",
    "\n",
    "- The Hamiltonian operator $\\hat{H}$ encapsulates the total energy of the electron within the atom.\n",
    "\n",
    "- Solving this equation helps predict how the electron's probability density distribution, described by the wave function $\\Psi(r, t)$, changes as time progresses.\n",
    "\n",
    "**Real-Life Analogy:**\n",
    "\n",
    "- Think of the **electron's behavior as a dance within the atom**, where its movement and position are represented by the changing wave function.\n",
    "\n",
    "- The Schrödinger equation acts like the choreography, dictating how the electron's \"dance\" evolves over time. It guides the electron's movements within the atom, determining its probabilities of being in different positions at different times.\n",
    "\n",
    "***Practical Implications:***\n",
    "\n",
    "- Understanding the time evolution of quantum systems, like the electron in an atom, helps predict their behavior and properties at various points in time.\n",
    "\n",
    "- This knowledge is crucial in fields such as quantum chemistry, materials science, and quantum computing, where predicting the behavior of quantum particles over time is essential for designing new materials or understanding chemical reactions.\n",
    "\n",
    "In summary, the time-dependent Schrödinger equation allows us to model and predict the evolution of quantum systems over time, providing valuable insights into the behavior of particles such as electrons in atoms in various real-world applications."
   ]
  },
  {
   "cell_type": "markdown",
   "id": "e87f4892-8d48-4769-84e7-2e7d787971ad",
   "metadata": {},
   "source": [
    "### Postulate - 6 :"
   ]
  },
  {
   "cell_type": "markdown",
   "id": "65b0719c-6b4b-43a8-8de0-4e6ea25f1c35",
   "metadata": {},
   "source": [
    "The total wavefunction must be **antisymmetric** with respect to the interchange of all coordinates of one *fermion* with those of another. Electron spin must be included in this set of coordinates.\n",
    "\n",
    "- The $\\color{green}{\\text{Pauli execlusion principle}}$ is a direct result of this *antisymmetry* postulate"
   ]
  },
  {
   "cell_type": "markdown",
   "id": "3909b830-ca95-43f9-b967-40fcf2da047b",
   "metadata": {},
   "source": [
    "#### Explanation :"
   ]
  },
  {
   "cell_type": "markdown",
   "id": "4412364e-5ae3-4713-aa72-9baf8f525fbf",
   "metadata": {},
   "source": [
    "The sixth and final postulate of quantum mechanics pertains to the **antisymmetric nature of the total wave function** for systems of identical particles, specifically fermions like electrons. This leads directly to the Pauli Exclusion Principle.\n",
    "\n",
    "**Antisymmetric Wave Function:**\n",
    "\n",
    "- For systems of $\\color{red}{\\text{identical particles (fermions)}}$, the total wave function describing their states must be ***antisymmetric*** under the interchange of any two particles' coordinates (including electron spin).\n",
    "\n",
    "**Pauli Exclusion Principle:**\n",
    "\n",
    "- The *Pauli Exclusion Principle* is a consequence of this antisymmetric nature.\n",
    "\n",
    "- It states that no two identical fermions (such as electrons) within a system **can occupy** the same quantum state simultaneously.\n",
    "\n",
    "- Specifically, it prohibits two identical fermions from having the same set of quantum numbers (spin, orbital, etc.) in a given system.\n",
    "\n",
    "**Explanation in Simple Terms:**\n",
    "\n",
    "- Imagine a system of identical particles (like electrons) described by a total wave function.\n",
    "\n",
    "- The wave function must change sign (become negative) when the coordinates of any two particles are interchanged. This antisymmetry ensures that the wave function remains unchanged under permutations, ensuring a unique behavior for identical particles.\n",
    "\n",
    "**Pauli Exclusion Principle in Practice:**\n",
    "\n",
    "- The Pauli Exclusion Principle has profound implications, especially in atomic and molecular systems.\n",
    "\n",
    "- It limits the number of electrons that can occupy a given energy level or orbital in an atom, leading to the stability and structure of atoms and the periodic table.\n",
    "\n",
    "- It prevents the collapse of matter into infinitesimally small volumes by prohibiting too many particles from occupying the same state."
   ]
  },
  {
   "cell_type": "markdown",
   "id": "2f13dbcb-0ac2-4be6-aa22-4d9e236766d5",
   "metadata": {},
   "source": [
    "#### Example of rule at a party :"
   ]
  },
  {
   "cell_type": "markdown",
   "id": "6f5fb3e8-1360-46f8-9b0f-a858d9e64988",
   "metadata": {},
   "source": [
    "Think of the Pauli Exclusion Principle as a rule at a party:\n",
    "\n",
    "- Imagine a dance floor representing quantum states, and individuals (electrons) with their unique dance moves (quantum properties).\n",
    "\n",
    "- The rule states that no two individuals can perform the exact same dance moves simultaneously on the same spot on the dance floor. This ensures diversity and avoids overcrowding in certain spots.\n",
    "\n",
    "***Practical Importance:***\n",
    "\n",
    "- The Pauli Exclusion Principle is crucial in understanding the stability of matter, the behavior of electrons in atoms, and the formation of chemical bonds.\n",
    "\n",
    "- It underpins the electronic structure of atoms and molecules, influencing material properties and chemical reactions.\n",
    "\n",
    "In summary, the sixth postulate's antisymmetric requirement of the wave function for identical particles leads to the Pauli Exclusion Principle, governing the behavior and arrangement of fermions like electrons in quantum systems."
   ]
  },
  {
   "cell_type": "markdown",
   "id": "196d394b-1f79-4d48-89b9-54a634a075b6",
   "metadata": {},
   "source": [
    "## Bits V/s Qubits :"
   ]
  },
  {
   "cell_type": "markdown",
   "id": "1e0980a3-2593-498a-89c7-813661f1d4e5",
   "metadata": {},
   "source": [
    "### Dirac Notations :"
   ]
  },
  {
   "cell_type": "markdown",
   "id": "1de463bd-4c94-4239-acd6-0165132882aa",
   "metadata": {},
   "source": [
    "Any classical computer basically functions on two basic units that are 0s and 1s. These represents states that any memory unit the computer can be in. In Quantum Computer the comparision is with Qubits or Quantum bits. Quantum bits can be in states that are loosely equivalent to 0 and 1. These are better considered as unit vectors rather than states.\n",
    "\n",
    "A Qubit can be more than a 0 or 1, it can be the linear combination of Zero State and one state. This is represented in the below figure where alpha and beta complex numbers, and it is called as **Super-Position** state.\n",
    "\n",
    "**Comparision of Classical Bits Vs Qubits :**\n",
    "\n",
    "|Category               |       Classical Bits      |    Qubits                      |\n",
    "|-----------------------|---------------------------|--------------------------------|\n",
    "| States  representation|   **0** & **1**           | $\\vert 0 \\rangle$ & $\\vert 1 \\rangle$|\n",
    "|States type            |     Binary Values         | Unit Vectors                   |\n",
    "|Usual Representation   |  Binary strings  $$b={0,1}$$  | Linear combination of unit vectors $$\\boxed{|\\Psi\\rangle \\ = \\alpha |0\\rangle \\ + \\ |1\\rangle }$$ |\n",
    "|Nature of States       | Deterministic             | Probabilistic $$\\boxed{\\lvert 0 \\rangle = \\lvert \\alpha \\rvert^2, \\quad \\lvert 1 \\rangle = \\lvert \\beta \\rvert^2}$$|\n",
    "\n",
    "#### Ket :\n",
    "\n",
    "The most convienient way of representing the Quantum states is with **Dirac-Notation** or also called as **Bra-ket Notation**.\n",
    "\n",
    "- **Ket** is basic object in quantum computing and it basically used to represent the Quantum State.\n",
    "\n",
    "- Roughly, we can consider **ket** as equivalent of orthogonal unit vectors in 2D-Vector Space.\n",
    "\n",
    "**Ket-0 representation:**\n",
    "$\\boxed{ |0\\rangle \\ = \\begin{bmatrix} 1 \\\\ 0\\\\  \\end{bmatrix} }$\n",
    "\n",
    "**Ket-1 representation:**\n",
    "$\\boxed{ |1\\rangle \\ = \\begin{bmatrix} 0 \\\\ 1\\\\  \\end{bmatrix} }$\n",
    "\n",
    "Generally any state of a particle $|\\Psi\\rangle$ is represented as linear combination of $|0\\rangle$ and $|1\\rangle$. It is given by\n",
    "$$\\boxed{|\\Psi\\rangle \\ = \\alpha |0\\rangle \\ + \\ |1\\rangle }$$\n",
    "\n",
    "The same can be imagined as the complex number combinations for vector space and for Linear algebra format the **&alpha;** & **&beta;** constants are actually an elements in **Complex Hilbert Space** or **Vector Space**, and this Ket is a **Linear Combination of two OrthoNormal basis States**.\n",
    "\n",
    "| Dirac Notation  | vector Notation | Matrix Notation |\n",
    "|-----------------|-----------------|-----------------|\n",
    "|$\\lvert 0 \\rangle$ $\\lvert 1 \\rangle$|$\\hat{i} \\& \\hat{j}$ are **orthogonal vectors**|$\\boxed{ |0\\rangle \\ = \\begin{bmatrix} 1 \\\\ 0\\\\  \\end{bmatrix} }$ and $\\boxed{ |1\\rangle \\ = \\begin{bmatrix} 0 \\\\ 1\\\\  \\end{bmatrix} }$|\n",
    "|$$\\boxed{|\\Psi\\rangle \\ = \\alpha |0\\rangle \\ + \\ |1\\rangle }$$|$\\alpha\\hat{i}\\ + \\beta\\hat{j}$ where &alpha; & &beta; are complex numbers. | $\\begin{bmatrix} \\alpha \\\\ \\beta \\end{bmatrix}$ elements of Complex Hilbert-Space this matrix forms linear combination of orthonormal basis states| \n",
    "\n",
    "**Hilbert Space :**\n",
    "It is a complex multidimenstional vector space where inner product of any pair of elements is defined as extrapolation of a 2D Space to n-Dimensions and Complex coefficients.\n",
    "\n",
    "- $\\lvert 0 \\rangle$, $\\lvert 1 \\rangle$ are considered as the standard basis states also as orthonormal basis states.\n",
    "\n",
    "- Consider a 2D plane with an x-axis and y-axis and we have a unit vector that aligns with x-axis and a unit vector that aligns with y-axis.\n",
    "\n",
    "- Now we can represent any point on 2D plane as the linear combination of unit vectors of x and y.\n",
    "\n",
    "- Hilbert space is similar to to it. Here the coefficients are complex numbers so the mathematics remains very similar.\n",
    "\n",
    "- It is just like we are having different kind of space and, standard basis roughly equivalent to our **i & j** vectors on a 2D plane which they represent **orthonormal basis states**.(They are perpendicular to each other).\n",
    "\n",
    "#### Bra :\n",
    "\n",
    "It is the opposite operation of **Ket**($\\vert \\rangle;$).\n",
    "\n",
    "- It is actually an operation or a function that can be applied on Ket.\n",
    "\n",
    "- **For a given Ket we can compute Bra as the conjugate Transpose of Ket**\n",
    "\n",
    "**Bra-0 representation :** $\\boxed{\\langle 0 | = [conjugate\\ of\\begin{bmatrix} 1 \\\\ 0\\\\  \\end{bmatrix}]^T \\implies \\langle 0 | = \\begin{bmatrix} 1 \\\\ 0\\\\  \\end{bmatrix}^\\dagger}$\n",
    "\n",
    "**Bra-1 representation :** $\\boxed{\\langle 1 | = [conjugate\\ of\\begin{bmatrix} 0 \\\\ 1\\\\  \\end{bmatrix}]^T \\implies \\langle 1 | = \\begin{bmatrix} 0 \\\\ 1\\\\  \\end{bmatrix}^\\dagger}$\n",
    "\n",
    "- If **A** is any **ket** $\\vert A \\rangle;$ then its bra is given by $\\langle A \\vert$ which is\n",
    "$$\\boxed{\\langle A \\lvert \\ = A^\\dagger \\ = [\\overline{A}]^T}$$\n",
    "and complex conjugate means if $\\alpha = a+ib$ then, $\\alpha^* \\ or \\ \\alpha^\\dagger \\ = a-ib$.\n",
    "\n",
    "Bra is represented as **row vector** and Ket is represented as **column vector**.\n",
    "$$\\boxed{\\color{blue}{ \\begin{bmatrix}\\alpha \\\\ \\beta \\end{bmatrix} \\implies \\begin{bmatrix} \\alpha^* & \\beta^* \\end{bmatrix} }}$$\n",
    "\n",
    "#### At N dimensional scale :\n",
    "\n",
    "Now let us consider vectors with n dimensions.\n",
    "\n",
    "- Consider a general **ket-Si** which is actually a **nx1** matrix.\n",
    "$$\\boxed{\\color{green}{\\lvert\\Psi\\rangle \\ = \\ \\begin{bmatrix}a_1 \\\\ a_2\\\\ . \\\\ .\\\\ .\\\\ a_n \\end{bmatrix}}}$$\n",
    "\n",
    "- Similarly a general **bra-Phi** which is actually a **1xn** matrix.\n",
    "$$\\boxed{\\color{green}{\\langle\\Phi\\lvert \\ = \\ \\begin{bmatrix}b_1^* & b_2* & . & . & . & b_n* \\end{bmatrix}}}$$\n",
    "\n",
    "#### Bra-Ket Operation :\n",
    "\n",
    "This Operation applies **bra-phi** to **Ket-si** and this is actually an inner product of both the vectors or better can be interpreted as Dot product of both the vectors.\n",
    "\n",
    "$$ \\boxed{\\color{red}{bra-ket \\langle\\Phi\\lvert\\Psi\\rangle \\ = \\ \\begin{bmatrix}b_1^* & b_2* & . & . & . & b_n* \\end{bmatrix} \\begin{bmatrix}a_1 \\\\ a_2\\\\ . \\\\ .\\\\ .\\\\ a_n \\end{bmatrix}\\ = \\ b_1^* a_1 + b_2^* a_2 + .... + b_N^* a_N}}$$\n",
    "\n",
    "Here the result is scalar product.\n",
    "\n",
    "If we consider $\\vert 0 \\rangle$ & $\\langle 1 \\vert$ and performed $\\langle 1 \\vert 0 \\rangle$ Bra-Ket operation then the result is as follows :\n",
    "\n",
    "$$\\boxed{\\color{magenta}{\\langle 1 \\vert 0 \\rangle \\ = \\ \\begin{bmatrix} 0 & 1 \\end{bmatrix} \\ . \\begin{bmatrix} 1 \\\\ 0\\\\  \\end{bmatrix} = 0}}$$\n",
    "\n",
    "#### Ket-Bra Operation : (Kronecker Product)\n",
    "\n",
    "This operation is similar to Bra-Ket but here it performs the outer product instead of inner product. It is done as follows:\n",
    "$$ \\boxed{\\color{red}{Ket-Bra \\ \\vert\\Psi\\rangle\\langle\\Phi\\lvert \\ = \\ \\begin{bmatrix}a_1 \\\\ a_2\\\\ . \\\\ .\\\\ .\\\\ a_n \\end{bmatrix}\\ \\begin{bmatrix}b_1^* & b_2* & . & . & . & b_n* \\end{bmatrix}\\ = \\begin{bmatrix}a_1b_1^* & a_1b_2^* & . & . & . & a_1b_N* \\\\ a_2b_1^* & a_2b_2^* & . & . & . & a_2b_N* \\\\ . \\\\ . \\\\ . \\\\ a_Nb_1^* & a_Nb_2^* & . & . & . & a_Nb_N* \\end{bmatrix} }}$$\n",
    "\n",
    "If we consider $\\vert 0 \\rangle$ & $\\langle 1 \\vert$ and performed $\\vert 0 \\rangle\\langle 1 \\vert$ Bra-Ket operation then the result is as follows :\n",
    "\n",
    "$$\\boxed{\\color{magenta}{\\vert 0 \\rangle  \\langle 1 \\vert \\ = \\ \\begin{bmatrix} 1 \\\\ 0\\\\  \\end{bmatrix} \\ . \\ \\begin{bmatrix} 0 & 1 \\end{bmatrix} \\ = \\begin{bmatrix} 0 & 1 \\\\ 0 & 0 \\end{bmatrix}}}$$"
   ]
  },
  {
   "cell_type": "code",
   "execution_count": null,
   "id": "d3cd45a5-7baa-4f2e-a543-b68d7bd014b4",
   "metadata": {},
   "outputs": [],
   "source": []
  }
 ],
 "metadata": {
  "kernelspec": {
   "display_name": "Python 3 (ipykernel)",
   "language": "python",
   "name": "python3"
  },
  "language_info": {
   "codemirror_mode": {
    "name": "ipython",
    "version": 3
   },
   "file_extension": ".py",
   "mimetype": "text/x-python",
   "name": "python",
   "nbconvert_exporter": "python",
   "pygments_lexer": "ipython3",
   "version": "3.11.5"
  }
 },
 "nbformat": 4,
 "nbformat_minor": 5
}
