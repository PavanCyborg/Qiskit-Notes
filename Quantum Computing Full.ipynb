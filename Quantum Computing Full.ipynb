{
 "cells": [
  {
   "cell_type": "markdown",
   "id": "4535550c-8de4-4e2a-be0f-e9b16ed0dab8",
   "metadata": {},
   "source": [
    "# Quantum Computing "
   ]
  },
  {
   "cell_type": "code",
   "execution_count": null,
   "id": "2bb3585b-96ba-4cf9-ad38-6ca35d1d7138",
   "metadata": {},
   "outputs": [],
   "source": []
  }
 ],
 "metadata": {
  "kernelspec": {
   "display_name": "Python 3 (ipykernel)",
   "language": "python",
   "name": "python3"
  },
  "language_info": {
   "codemirror_mode": {
    "name": "ipython",
    "version": 3
   },
   "file_extension": ".py",
   "mimetype": "text/x-python",
   "name": "python",
   "nbconvert_exporter": "python",
   "pygments_lexer": "ipython3",
   "version": "3.11.5"
  }
 },
 "nbformat": 4,
 "nbformat_minor": 5
}
