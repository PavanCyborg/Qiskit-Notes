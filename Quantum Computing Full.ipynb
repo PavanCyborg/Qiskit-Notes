{
 "cells": [
  {
   "cell_type": "markdown",
   "id": "4535550c-8de4-4e2a-be0f-e9b16ed0dab8",
   "metadata": {},
   "source": [
    "# Quantum Computing "
   ]
  },
  {
   "cell_type": "markdown",
   "id": "44965683-a775-493c-b875-f9226c2f9bfb",
   "metadata": {
    "jp-MarkdownHeadingCollapsed": true
   },
   "source": [
    "## Wave Particle Duality :"
   ]
  },
  {
   "attachments": {},
   "cell_type": "markdown",
   "id": "5b9f7a19-9ce6-4c9c-9384-32cfd895e308",
   "metadata": {},
   "source": [
    "In the realm of quantum computing, understanding the dual nature of matter is fundamental to comprehending the behavior of particles at the quantum level, which forms the basis of qubits, the building blocks of quantum computers. Here are some key points:\n",
    "\n",
    "1. **Wave-Particle Duality:** Particles at the quantum level, such as electrons and photons, exhibit both wave-like and particle-like behaviors. This duality challenges classical physics, where particles were considered distinct from waves. In quantum mechanics, particles can display wave-like characteristics, described by wave functions.\n",
    "\n",
    "2. **Quantum Superposition:** Particles in a quantum state can exist in multiple states simultaneously, a concept known as superposition. This property is crucial in quantum computing because qubits can represent both 0 and 1 at the same time, enabling parallel computation.\n",
    "\n",
    "3. **Interference:** When waves interact, they can interfere constructively (increasing amplitude) or destructively (canceling each other out). In quantum computing, qubits exploit interference patterns to enhance or minimize specific outcomes, crucial for quantum algorithms like Shor's algorithm or Grover's algorithm.\n",
    "\n",
    "4. **Measurement and Collapse of the Wavefunction:** When a quantum system is measured, it collapses into one of its possible states. Before measurement, the system exists in a superposition of states. This property allows quantum computers to perform multiple calculations simultaneously but requires careful handling to preserve the quantum state.\n",
    "\n",
    "5. **Quantum Entanglement:** Particles can become entangled, where the state of one particle becomes correlated with the state of another, regardless of the distance between them. Entanglement is a powerful resource in quantum computing, enabling the creation of highly interconnected qubits for faster computations.\n",
    "\n",
    "6. **Decoherence:** Quantum systems are fragile and can easily lose their quantum properties due to interactions with the environment. This loss of coherence, known as decoherence, poses a significant challenge in maintaining the stability of qubits and sustaining their quantum state.\n",
    "\n",
    "Understanding the dual nature of matter provides insights into the behavior of particles at the quantum level, forming the theoretical basis for quantum computing. Harnessing these principles effectively is crucial for building and operating robust and efficient quantum computers."
   ]
  },
  {
   "cell_type": "markdown",
   "id": "34cfa357-a994-4d29-9752-e9728857853e",
   "metadata": {
    "jp-MarkdownHeadingCollapsed": true
   },
   "source": [
    "## Introduction :"
   ]
  },
  {
   "cell_type": "markdown",
   "id": "41f2914d-d448-483c-bb29-d2aa4ff90d3c",
   "metadata": {
    "jp-MarkdownHeadingCollapsed": true
   },
   "source": [
    "### Why Quantum Computing?"
   ]
  },
  {
   "cell_type": "markdown",
   "id": "150e2a67-cebb-4801-a53b-4cb4b732a22e",
   "metadata": {},
   "source": [
    "Modern computing is based on `classical physics` and `Mathematical logic` laws. Even though the working of electronic components works on quantum mechanical principles, the logic they follow is `classical`. Traditional computer software is designed for **`serial computation`**. \n",
    "\n",
    "**`Serial computation`** essentially means that when we write an algorithm, the logic flow takes place from one point to another in terms of time. It means that a particular process must be completed before another process is taken up.\n",
    "\n",
    "The concept of a **`parallel computer`** is also within our traditional computing platform, but the problem can be broken up into independent logic which could be executed at the same time. So in other words, a traditional parallel computer must have an `n` number of processors which could take up the job at the same time and then we should integrate with the results.\n",
    "\n",
    "The Idea of Quantum Computer was first given by `Richard Feynmann` in a paper which he published in 1982. That paper was titled **`\"Simulation of Physics in a Computer\"`**.\n",
    "\n",
    "The question that he asked is **Can one simulate physics using a computer?**\n",
    "\n",
    "Now there are many problems with it, the first problem is `how do you simulate time?` \n",
    "- As we know time is a continuous variable. The problem with stimulating time is to discretize it. We have techniques for discretizing the time by solving **Differential Equations**.\n",
    "\n",
    "But the bigger problem is that, in quantum mechanics, the measurements will give **probabilistic** results.\n",
    "\n",
    "- As we know a state in quantum mechanics is a `linear combination` of certain states and when a measurement is made, let’s consider about linear combination of some `basis` states when we measure any physical property of the system, one of the possible the values of that physical property is realized with certain probability.\n",
    "  \n",
    "But then the problem is to simulate a `quantum process` using a quantum computer *Can we use the quantum principle to our advantage to build a computer?* "
   ]
  },
  {
   "cell_type": "markdown",
   "id": "d6014add-331d-42ad-a221-23644115ba48",
   "metadata": {
    "jp-MarkdownHeadingCollapsed": true
   },
   "source": [
    "### Peter Shor's Approach :"
   ]
  },
  {
   "cell_type": "markdown",
   "id": "ae762033-1e67-4f2f-ae40-648a9697c2b6",
   "metadata": {},
   "source": [
    "In 1994 he came up with an algorithm which showed that a very old problem that we have in computational science can be effectively solved with a quantum computer. The problem is connected with how to factorize a large composite number.\n",
    "\n",
    "Now this has been known to be a very difficult problem or as computer scientists call it `hard problem` in computer science.\n",
    "\n",
    "   - The reason why it is a hard problem is that there are no effective algorithms known, which can compute the factors of a large composite number which in computer science language is referred to as **`polynomial time`**.\n",
    "\n",
    "If it could be done in polynomial time then of course it would be called an `easy problem`. \n",
    "\n",
    "Even today we depend on this difficulty in factorizing a large composite number to have encryption of data and in fact ***`RSA algorithm`*** which provides the data encryption depends on the relative hardness of the factorization problem and w.r.t the multiplication which is relatively easy.\n",
    "\n",
    "   - And if one can break this RSA Code which at least theoretically is possible today thanks to Shor’s algorithm, then it would mean a substantial advancement in both cryptography and in computer science.\n",
    "\n",
    "So what **Peter Shor** showed is that using the principles of quantum mechanics we can *factorize a large composite number*."
   ]
  },
  {
   "cell_type": "markdown",
   "id": "b93b83e5-501c-4677-b728-468e52526937",
   "metadata": {
    "jp-MarkdownHeadingCollapsed": true
   },
   "source": [
    "### Inherent Parallelism :"
   ]
  },
  {
   "cell_type": "markdown",
   "id": "9159c7c4-f2da-4ea1-9a5a-069344bd6b2b",
   "metadata": {},
   "source": [
    "In a Quantum Computer, the same processor can perform operations on multiple inputs simultaneously and the state of a register can exist in a simultaneous superposition of different Quantum states.\n",
    "\n",
    "The reason why quantum computation is different from classical computation is the fact that while a classical register can at a given time have or be in one state i.e., let us consider a simple classical bit and I have a one-bit register.\n",
    "\n",
    "1. **`States and Superposition`**:\n",
    "\n",
    "   - In classical computation, a **bit** in a register can exist in one of two states: `0` or `1`. For example, a **2-bit** register can represent one of the four classical states: `00`, `01`, `10`, or `11`.\n",
    "\n",
    "   - In quantum computation, quantum bits or qubits can exist in a state of superposition. This means a qubit can represent both 0 and 1 simultaneously, in varying proportions. For instance, a 2-qubit quantum register can be in a linear combination of the classical states (00, 01, 10, 11) at the same time.\n",
    "\n",
    "2. **`Superposition in Computation`**:\n",
    "\n",
    "   - When performing computations on classical bits, you can only process `one state at a time`. If you have multiple inputs, you'd need `multiple processors or sequential operations` to compute the function for each input individually.\n",
    "\n",
    "   - Quantum computation allows for computation on **superpositions**. This means when a function is applied to a quantum register in superposition, the computation is carried out on all the possible inputs simultaneously due to the nature of quantum parallelism. This inherent parallelism enables computations on multiple inputs at once, without the need for separate processors.\n",
    "\n",
    "3. **`Parallelism`**:\n",
    "\n",
    "   - In classical computing, parallelism is achieved by using `multiple processors`, where different processors handle different computations **concurrently**. This external parallelism involves dividing tasks among processors to speed up computation.\n",
    "     \n",
    "   - Quantum parallelism, on the other hand, `is inherent to the nature of qubits and superposition`. Quantum algorithms take advantage of this intrinsic property, allowing for computations on multiple states simultaneously without requiring additional hardware.\n",
    "\n",
    "   - And the parallelism that we are talking about for a quantum computer is ***`inherent`***. And it is not outside parallelism which has trust in us by having several processors.\n",
    "\n",
    "4. **` Measurement and Quantum Interference`**:\n",
    "\n",
    "   - In quantum computation, after performing operations on a qubit or a quantum register, when a measurement is made, the superposition **collapses to a definite classical state**.\n",
    "     \n",
    "   - Quantum interference effects, resulting from the **superposition** and **manipulation of qubits**, allow for complex calculations, optimizations, and algorithms that exploit interference patterns among possible states to yield the desired output efficiently.\n",
    "     \n",
    "   - In other words, we compute the value of the function for each one of the inputs at the same time. \n",
    "\n",
    "In summary, the fundamental difference between classical and quantum computation lies in the ability of qubits to exist in **superposition**, enabling computations on multiple inputs simultaneously through inherent quantum parallelism, *without relying on external parallel processing units*. This unique property forms the basis for the potential computational advantages of quantum computers for certain problems over classical computers."
   ]
  },
  {
   "cell_type": "markdown",
   "id": "2556edb7-7aa1-4070-a307-6d09c6286264",
   "metadata": {
    "jp-MarkdownHeadingCollapsed": true
   },
   "source": [
    "### Miniaturization Challenges and Landauer's Principle :"
   ]
  },
  {
   "cell_type": "markdown",
   "id": "e100144e-aa9c-4ef8-ab20-9f401578589c",
   "metadata": {},
   "source": [
    "Now when miniaturization proceeds like this `(according to Moore's law)` there are **two** problems associated with, when the separation between different components reach atomic dimensions. We know that from the quantum mechanical `uncertainty principle` due to `Heisenberg`, and that has a lot of influence on what happens when things reach atomic dimension.\n",
    "\n",
    "1. In other words, if the components come so close then the results that you get out of that computation will no longer be reliable.\n",
    "2. The other thing that will happen is that the **heat** produced by one of the components would naturally `affect the performance` of nearby components and so therefore, this will also make the computation unreliable.\n",
    "\n",
    "This heat problem has certain other aspects, for instance, the heat produced by a computer depends on the **volume occupied** by the number of bits. But it is required to remove the heat continuously and heat can be removed only from the surface. So, as a result, when the components come too close, the `efficiency` of removing heat will not be quite as good."
   ]
  },
  {
   "cell_type": "markdown",
   "id": "2160ef28-20d3-499f-b97a-6113b07bc728",
   "metadata": {
    "jp-MarkdownHeadingCollapsed": true
   },
   "source": [
    "#### Landauer Principle :"
   ]
  },
  {
   "cell_type": "markdown",
   "id": "9c8b0a67-1414-4aa2-b949-44649261caf5",
   "metadata": {},
   "source": [
    "The Landauer Principle, proposed by ***Rolf Landauer*** in the 1960s, is a fundamental concept in the field of computational physics and information theory. It establishes a relationship between `information processing`, specifically erasure of information, and `physical thermodynamics`.\n",
    "\n",
    "The principle can be summarized as follows:\n",
    "\n",
    "**The erasure of information in a computational process is accompanied by an inevitable minimum amount of energy dissipation, which results in an increase in entropy in the environment.**\n",
    "\n",
    "Key points regarding the Landauer Principle:\n",
    "\n",
    "1. **Information and Entropy**:\n",
    "\n",
    "   - In information theory, erasing information generates **entropy**. When information is erased or reset in a computational process, the uncertainty or randomness in the system increases, which corresponds to an increase in entropy.\n",
    "\n",
    "2. **Thermodynamic Connection**:\n",
    "\n",
    "   - Landauer linked the act of `irreversible information erasure` (like resetting a bit in a computer) to `physical thermodynamics`. He showed that to erase information irreversibly, some minimal amount of energy dissipation is inevitable.\n",
    "\n",
    "   - The energy associated with the erasure process is dissipated as heat into the environment, leading to an **increase** in the entropy of the environment.\n",
    "\n",
    "3. **Energy Consumption**:\n",
    "\n",
    "   - Landauer's insight implies a fundamental connection between information theory and thermodynamics, stating that there is a *theoretical minimum amount of energy consumption required to erase one bit of information*.\n",
    "\n",
    "   - This theoretical minimum energy is given by the *product of the temperature of the environment and the increase in entropy caused by the erasure of the bit*.\n",
    "\n",
    "4. **Implications**:\n",
    "\n",
    "   - The Landauer Principle has implications for the energy efficiency of computing devices. It sets a **theoretical limit** on the amount of energy needed to perform **irreversible operations** like resetting bits in a computer's memory.\n",
    "\n",
    "   - In the design of ultra-low-power computing devices and in the development of reversible computing (where information is manipulated without loss), the Landauer Principle's constraints and implications are taken into consideration.\n",
    "\n",
    "In essence, the Landauer Principle provides a crucial link between information theory and thermodynamics, highlighting the physical costs associated with information processing, particularly in terms of energy dissipation and entropy increase when information is erased irreversibly."
   ]
  },
  {
   "cell_type": "markdown",
   "id": "c1b7e2b5-cde3-4057-8fae-039b8055451b",
   "metadata": {
    "jp-MarkdownHeadingCollapsed": true
   },
   "source": [
    "### Reversibility :"
   ]
  },
  {
   "cell_type": "markdown",
   "id": "adef227d-929c-4ab5-96ff-d27d86297de7",
   "metadata": {},
   "source": [
    "AND gate is an irreversible process, & most of the processes in classical computing are done irreversibly.\n",
    "\n",
    "The Landauer principles state that every ***n bit of information increases the thermodynamic entropy by nk log2**, which would mean that there is a certain amount of **loss of energy** and the process becomes **gradually inefficient** as the number of components increases.\n",
    "The present-day computers dissipate much more energy than this limit. \n",
    "\n",
    "So, the quantum processes, have to be carried out `reversibly`, in fact, the operators which will be performing are unitary operators.\n",
    "\n",
    "`Reversibility` means every logical step should be capable of getting reversed, which results in negligible energy loss.\n",
    "\n",
    "Now it is also possible to do classical computing using reversible gates, but then there is always a problem of what we call as **garbage**. \n",
    "\n",
    "- The `garbage arises` because, for example, using AND gate and want it to be reversible, which means we have to store the inputs continuously, in fact, the only classical gate which is a reversible gate is a **NOT** gate. \n",
    "\n",
    "- But for all others, if we want the process should be done reversibly, we need to **collect** the inputs which are not later on require. So, that becomes a very big `disposal problem` and it also requires unnecessary storage.\n",
    "\n",
    "So these are the two primary issues connected with the advent of quantum computers."
   ]
  },
  {
   "cell_type": "markdown",
   "id": "dcae0ec3-4be7-4776-90b5-d0d23ae50ef6",
   "metadata": {
    "jp-MarkdownHeadingCollapsed": true
   },
   "source": [
    "## Young's Double-slit Experiment :"
   ]
  },
  {
   "attachments": {
    "cfeded4e-7923-4db1-9788-3346ef6f873f.jpg": {
     "image/jpeg": "[encoded data removed]"
    }
   },
   "cell_type": "markdown",
   "id": "5110e5a2-d9bd-42f1-b245-5f45a4440f47",
   "metadata": {},
   "source": [
    "![Double-slit2.jpg](attachment:cfeded4e-7923-4db1-9788-3346ef6f873f.jpg)\n",
    "\n",
    "The double-slit experiment is a cornerstone in understanding the dual nature of matter, revealing the wave-particle duality in quantum mechanics.\n",
    "\n",
    "**Double-Slit Experiment:**\n",
    "\n",
    "In this experiment:\n",
    "\n",
    "- A light source (or any particle source, like electrons) shines particles toward a barrier with two slits.\n",
    "\n",
    "- Behind the barrier, there's a screen to detect where the particles land after passing through the slits.\n",
    "\n",
    "***Observations:***\n",
    "\n",
    "1. **Particle-Like Behavior:** When one slit is open, particles land on the screen directly behind that slit, behaving as if they were tiny bullets going through a single slit.\n",
    "\n",
    "2. **Wave-Like Behavior:** When both slits are open, an interference pattern emerges on the screen, similar to what waves produce when they pass through two slits and interfere with each other. This pattern indicates that particles are behaving like waves, creating areas of reinforcement (constructive interference) and cancellation (destructive interference).\n",
    "\n",
    "***Significance and Implications:***\n",
    "\n",
    "The double-slit experiment shook up classical physics because it demonstrated that particles, like electrons or photons, exhibit behavior characteristic of waves. This duality challenges the traditional view of particles as tiny, solid objects and instead suggests that they also have wave-like properties.\n",
    "\n",
    "***Thought behind the Discovery of Dual Nature:***\n",
    "\n",
    "This experiment led to the concept of \"wave-particle duality.\" The thought was that particles (like electrons) could exhibit wave-like behaviors—such as interference patterns—suggesting they weren't just discrete particles but had some wave-like characteristics as well.\n",
    "\n",
    "The discovery of this duality marked a fundamental shift in our understanding of the nature of matter. It laid the groundwork for quantum mechanics, showing that at the smallest scales, particles don't adhere to classical physics' strict division between particles and waves. Instead, they exhibit both behaviors simultaneously, which is key to comprehending the behavior of particles at the quantum level.\n"
   ]
  },
  {
   "cell_type": "markdown",
   "id": "8dc2caf2-71bd-4763-96ff-c7c5b6057892",
   "metadata": {
    "jp-MarkdownHeadingCollapsed": true
   },
   "source": [
    "## Postulates of Quantum Mechanics :"
   ]
  },
  {
   "cell_type": "markdown",
   "id": "2a6bea79-8a19-458f-97aa-abdd338bf590",
   "metadata": {},
   "source": [
    "There are `6` Postulates of Quantum Mechanics."
   ]
  },
  {
   "cell_type": "markdown",
   "id": "2cd32822-36f9-4594-ba6b-919bad07fe47",
   "metadata": {
    "jp-MarkdownHeadingCollapsed": true
   },
   "source": [
    "### Postulate - 1 :"
   ]
  },
  {
   "cell_type": "markdown",
   "id": "9e0c1937-8b95-4aa6-95e2-e050c9239298",
   "metadata": {},
   "source": [
    "The state of the Quantum-mechanical system is completely specified by the function **$\\Psi(r,t)$** that depends on the coordinates of the particle, **`r`** and the time, **`t `**.\n",
    "\n",
    "This function is called the **Wave-Function** or **State-Function** and has the property that $\\color{green}{\\Psi^*(r,t) \\Psi(r,t)\\,d\\tau}$ is the probability that the particle lies in the volumetric element ***$d\\tau$*** located at `r` and `t`.\n",
    "\n",
    "This is the `Probabilistic` interpretation of wavefunction. As a result, the wave function must satisfy the condition that finding the particle somewhere in space is **`1`** and this gives us the normalisation condition\n",
    "\n",
    "$$\\boxed{\\color{blue}{\\int_{-\\infty}^{\\infty}\\Psi^*(r,t) \\Psi(r,t)\\,d\\tau \\ = 1}}$$\n",
    "\n",
    "The other conditions on the wavefunction that arise from the probabilistic interpretation are that it must be **single-valued**, **continuous** and **finite**. Generally, wavefunctions are written with the inclusion of `normalisation constant`."
   ]
  },
  {
   "cell_type": "markdown",
   "id": "04082de0-b74a-4f9b-8712-09f0a83775d5",
   "metadata": {
    "jp-MarkdownHeadingCollapsed": true
   },
   "source": [
    "#### Explanation :"
   ]
  },
  {
   "cell_type": "markdown",
   "id": "da884e4c-01e3-4b5d-b684-dac982a240b6",
   "metadata": {},
   "source": [
    "Let's break down the first postulate of quantum mechanics using a simple example involving a `particle in a one-dimensional box`.\n",
    "\n",
    "Imagine a particle confined within a box, free to move along a line. The wave function, denoted by **$\\Psi(x, t)$**, describes the state of this particle. It represents the probability amplitude of finding the particle at a particular position `x` at time `t`.\n",
    "\n",
    "- Think of the wave function **$\\Psi(x, t)$** as a special way to describe where a particle might be in a box at a given time.\n",
    "\n",
    "- It's like a mathematical map telling us the likelihood of finding the particle at different spots along this line inside the box.\n",
    "\n",
    "- The wave function gives us a way to calculate the **chance of finding the particle in a small space**. \n",
    "\n",
    "Imagine splitting the box into tiny pieces. The probability of finding the particle in one of these tiny pieces is given by $\\Psi(x, t)$ times its complex conjugate $\\Psi^*(x, t)$. We then add up these probabilities for all these tiny pieces along the entire length of the box.\n",
    "\n",
    "Now, according to the probabilistic interpretation of the wave function, the probability of finding the particle in a small interval **dx** at a specific time is given by **$\\Psi(x, t)$** multiplied by its complex conjugate $\\Psi^*(x, t)$, and then integrated over that interval:\n",
    "\n",
    "$$\\boxed{\\color{red}{\\int_{x}^{x+dx} \\Psi^*(x, t) \\Psi(x, t) \\,dx}}$$\n",
    "\n",
    "- For simplicity, let's say our box spans from `x = 0` to `x = L`, so the particle can only exist within this region.\n",
    "\n",
    "- For the particle to exist somewhere within the entire box at time `t`, the integral of the probability density over the entire space must equal 1:\n",
    "\n",
    "$$\\implies\\int_{0}^{L} \\Psi^*(x, t) \\Psi(x, t) \\,dx = 1$$\n",
    "\n",
    "To know where the particle is in the whole box, we add up these probabilities for every possible position within the box, from x = 0 to x = L. `The total of all these probabilities should always add up to 1`.\n",
    "\n",
    "This means the particle is definitely somewhere in the box—it's just a matter of figuring out where! This condition ensures that there is a 100% chance of finding the particle somewhere within the box.\n",
    "\n",
    "As an example, consider a simple wave function for a particle in this box:\n",
    "\n",
    "$$\\Psi(x, t) = A \\sin\\left(\\frac{n\\pi x}{L}\\right)$$\n",
    "\n",
    "Here, `A` is a normalization constant and `n` is an integer (1, 2, 3, ...), representing different possible states of the particle.\n",
    "\n",
    "To satisfy the normalization condition, the constant `A` is chosen such that when we square this wave function ($\\Psi^*(x, t)$ times $\\Psi(x, t)$) and integrate it over the entire length of the box from 0 to `L`, we get 1.\n",
    "\n",
    "When we use a specific wave function like **$\\Psi(x, t) = A \\sin\\left(\\frac{n\\pi x}{L}\\right)$**, the constant A is what we adjust. \n",
    "\n",
    "We want the total probability to be `1`, so A is chosen in such a way that when we square this wave function and add it up from `x = 0` to `x = L`, the result equals 1.\n",
    "\n",
    "This normalization constant `A` ensures that the total probability of finding the particle within the box is indeed 1, meeting the requirement of the first postulate of quantum mechanics."
   ]
  },
  {
   "cell_type": "markdown",
   "id": "4055546d-6814-48e5-8a0b-6076d233f23e",
   "metadata": {
    "jp-MarkdownHeadingCollapsed": true
   },
   "source": [
    "#### Example of finding treasure on the planet:"
   ]
  },
  {
   "cell_type": "markdown",
   "id": "109c31d2-fc58-48ec-babc-b82d68659e20",
   "metadata": {},
   "source": [
    "Let's imagine applying the concept of the wave function's probabilistic interpretation to locating a particular point on the Earth's surface using latitude and longitude coordinates.\n",
    "\n",
    "**Scenario:**\n",
    "\n",
    "- Consider a treasure hunt where a hidden treasure represents a particle in the quantum world.\n",
    "\n",
    "- The probability of finding the treasure at any given spot on Earth is akin to the probability of locating a particle in a specific volume element in quantum mechanics.\n",
    "\n",
    "**Equating to Wave Function Probability:**\n",
    "\n",
    "- The Earth's surface is represented by latitude and longitude coordinates.\n",
    "\n",
    "- Each point on the Earth corresponds to a specific coordinate (**`r`**).\n",
    "\n",
    "**Quantum Mechanics Interpretation:**\n",
    "\n",
    "- In quantum mechanics, the square of the wave function at a particular point represents the probability of finding the particle at that position.\n",
    "\n",
    "- Similarly, the probability of finding the treasure at a particular geographic location corresponds to the probability density at that specific lat-long coordinate.\n",
    "\n",
    "**Normalization Condition:**\n",
    "\n",
    "- Ensuring that the treasure exists somewhere on Earth is equivalent to the quantum mechanics normalization condition.\n",
    "\n",
    "- Just as the total probability of finding the particle across all space is **`1`**, in our treasure hunt scenario, the treasure must be located somewhere on Earth.\n",
    "\n",
    "**Application:**\n",
    "\n",
    "- Using the analogy of the wave function, the treasure's probable locations are spread across the globe, each with its probability density.\n",
    "\n",
    "- The quest for the treasure is similar to exploring the quantum state space, searching for the highest probability location.\n",
    "\n",
    "This analogy demonstrates how the wave function's probabilistic nature in quantum mechanics aligns with the probabilistic interpretation of finding an object (like the treasure) at different locations on Earth.\n",
    " \n",
    "In quantum mechanics, the wave function's properties dictate the probability distribution of a particle's location, much like how the treasure's location is probabilistically spread across the Earth's surface."
   ]
  },
  {
   "cell_type": "markdown",
   "id": "71190a8d-acde-4aaa-a9b8-d2429096c0ff",
   "metadata": {
    "jp-MarkdownHeadingCollapsed": true
   },
   "source": [
    "### Postulate - 2 :"
   ]
  },
  {
   "cell_type": "markdown",
   "id": "acd646ca-a8a1-44b7-bd53-9cf0a8439144",
   "metadata": {},
   "source": [
    "***To every Observable in the classical mechanics there corresponds a linear, Hermitian operator in Quantum mechanics.***\n",
    "\n",
    "This Postulate comes from the observation that the expectation value of an operator that corresponds to an observable must be real and therefore the operator must be Hermitian. Some example of Hermitian Operators are :\n",
    "\n",
    "| Observable| Classical Symbol | Quantum Operator | Operation|\n",
    "|------------------|------------------|------------------|----------|\n",
    "| Position | **r**|$\\hat{r}$| Multiply by `r`  |\n",
    "| Momentum | **p** | $\\hat{p}$ | $-i \\hbar(\\hat{i}\\frac{\\partial }{\\partial x}+\\hat{j}\\frac{\\partial }{\\partial y} +\\hat{k}\\frac{\\partial }{\\partial z})$ |\n",
    "| Kinetic Energy   | **T** | $\\hat{T}$ | $\\frac{-\\hbar^2}{2m}(\\frac{\\partial ^2}{\\partial x^2} + \\frac{\\partial ^2}{\\partial y^2} + \\frac{\\partial ^2}{\\partial z^2})$ |\n",
    "| Potential Energy | **V(r)** | $\\hat{V}(r)$ | Multiply by V(r) |\n",
    "| Total Energy     | **E** | $\\hat{H}$ | $\\frac{-\\hbar^2}{2m}(\\frac{\\partial ^2}{\\partial x^2} + \\frac{\\partial ^2}{\\partial y^2} + \\frac{\\partial ^2}{\\partial z^2})+V(r)$ |\n",
    "| Angular Momentum | $\\bf{l_x}$ |$\\hat{l_x}$| $-i \\hbar (y \\frac{\\partial }{\\partial z} - z \\frac{\\partial }{\\partial y})$|\n",
    "|| $\\bf{l_y}$ | $\\hat{l_y}$| $-i \\hbar (z \\frac{\\partial }{\\partial x} - x \\frac{\\partial }{\\partial z})$|\n",
    "|| $\\bf{l_z}$ | $\\hat{l_z}$| $-i \\hbar (x \\frac{\\partial }{\\partial y} - y \\frac{\\partial }{\\partial x})$|"
   ]
  },
  {
   "cell_type": "markdown",
   "id": "a0947e23-dc68-4842-bf8c-ae7a61c59d28",
   "metadata": {
    "jp-MarkdownHeadingCollapsed": true
   },
   "source": [
    "#### Explanation :"
   ]
  },
  {
   "cell_type": "markdown",
   "id": "70d508c0-2f9a-4bc8-b9ce-ad8851287141",
   "metadata": {},
   "source": [
    "The second postulate of quantum mechanics connects classical observables (like position, momentum, and energy) to their corresponding quantum operators. Here's a simplified explanation:\n",
    "\n",
    "**Observable Correspondence:**\n",
    "\n",
    "- This postulate establishes a connection between classical observables (like position, momentum, energy) and their counterparts in quantum mechanics.\n",
    "\n",
    "- For every measurable property in classical physics, there exists a corresponding quantum operator in quantum mechanics.\n",
    "\n",
    "**Hermitian Operators:**\n",
    "\n",
    "- These quantum operators must be Hermitian, meaning they satisfy a specific mathematical property.\n",
    "\n",
    "- Hermitian operators in quantum mechanics correspond to observable quantities whose measured values are always real.\n",
    "\n",
    "**Role of Operators:**\n",
    "\n",
    "- In quantum computing, these Hermitian operators are crucial elements. They represent the fundamental properties of quantum systems that we want to measure or manipulate during computations.\n",
    "\n",
    "**Example with Quantum Gates:**\n",
    "\n",
    "- Quantum gates in quantum computing, like the Pauli-X gate or the Hadamard gate, correspond to specific operators.\n",
    "\n",
    "- These gates (operators) perform operations on quantum bits (qubits) to execute quantum algorithms.\n",
    "\n",
    "**Observables in Quantum Algorithms:**\n",
    "\n",
    "- The classical observables' counterparts in quantum mechanics are employed as operators in quantum algorithms.\n",
    "\n",
    "- For instance, the quantum phase estimation algorithm uses the phase as an observable, represented by a specific quantum operator.\n",
    "\n",
    "**Real-Life Analogy:**\n",
    "\n",
    "- Consider classical tools used to measure properties of objects. In quantum computing, the Hermitian operators are like the mathematical tools that allow us to make computations and measurements within the quantum realm.\n",
    "\n",
    "***Practical Impact:***\n",
    "\n",
    "- Hermitian operators' used in quantum computing forms the backbone of quantum algorithms and computations.\n",
    "\n",
    "- They enable us to simulate and analyze quantum systems and perform computations beyond the capabilities of classical computers.\n",
    "\n",
    "In essence, the second postulate underlines the connection between classical observables and their quantum mechanical counterparts, emphasizing the importance of Hermitian operators in quantum computing. These operators are pivotal in designing algorithms and performing computations in the quantum realm."
   ]
  },
  {
   "cell_type": "markdown",
   "id": "bbcb776b-e7d0-487f-91ca-be01179533e6",
   "metadata": {
    "jp-MarkdownHeadingCollapsed": true
   },
   "source": [
    "### Postulate - 3 :"
   ]
  },
  {
   "cell_type": "markdown",
   "id": "d84572e4-e1d9-48b5-9dd0-8a3abbc577eb",
   "metadata": {},
   "source": [
    "In any measurement of the observable associated with operator $\\bf{\\hat{A}}$, the only values that will ever be observed are the `eigenvalue`, ***`a`***, that satisfy the eigenvalue equation,\n",
    "$$\\boxed{\\color{blue}{\\hat{A}\\Psi\\ = a\\Psi}}$$\n",
    "\n",
    "This is the postulate that the values of dynamical variables are quantized in Quantum mechanics (although it is possible to have a continuum of eigenvalues in the case of unbound states). If the system is in an eigenstate of $\\hat{A}$ with eigenvalue ***a*** then any measurement of the quantity ***A*** will always yield the value ***a***.\n",
    "\n",
    "Although measurement will always yield a value, the initial state does not have to be an eigenstate of $\\hat{A}$. An arbitrary state can be expanded in the complete set of Eigenvectors of $\\hat{A}$, $\\hat{A}\\Psi_i\\ = a_i\\Psi_i$, as\n",
    "$$\\boxed{\\color{blue}{\\Psi\\ = \\sum_{i}^{n}\\ c_i\\Psi_i}}$$\n",
    "- where *n* may go to infinity($\\infty$).\n",
    "\n",
    "In this case measurement of ***A*** will yeild one of the eigenvalues, ${a_i}$ but we don't know which one. The *probability* of observing the eigenvalue ${a_i}$ is given by absolute value of the square of the coefficient, $\\left|{c_i}\\right|^2$. \n",
    "\n",
    "The third Postulate also implies that, after the measurement of **$\\Psi$** yields some value, ${a_i}$, the wavefunction ***collapses*** into eigenstate $\\Psi_i$ that corresponds to ${a_i}$. If ${a_i}$ is degenerate **$\\Psi$** collapses onto the degenerate subspace. Thus the act of measurement affects the state of the system and this has been used in many elegant experimental explorations of Quantum mechanics (ex: Bell's Theorem)."
   ]
  },
  {
   "cell_type": "markdown",
   "id": "c2ff41f4-41bb-4fd9-86b0-be2b5bc2d154",
   "metadata": {
    "jp-MarkdownHeadingCollapsed": true
   },
   "source": [
    "#### Explanation :"
   ]
  },
  {
   "cell_type": "markdown",
   "id": "bf1207bd-024d-4610-a45b-c7fdcd4b946c",
   "metadata": {},
   "source": [
    "The third postulate of quantum mechanics, often referred to as the **postulate of measurement** or **the collapse of the wave function**, has significant implications for quantum computing. \n",
    "\n",
    "**Quantization of Observable Values:**\n",
    "\n",
    "- In quantum mechanics, when measuring an observable represented by an operator $\\hat{A}$, the only values observed are the eigenvalues $a$ that satisfy the equation $\\color{magenta}{\\hat{A}\\Psi = a\\Psi}$.\n",
    "\n",
    "- This implies that the values of physical properties are quantized in quantum systems. For instance, if a system is in an eigenstate of $\\hat{A}$ with eigenvalue $a$, any measurement of that property will yield the value $a$.\n",
    "\n",
    "**Eigenstates and Probabilities:**\n",
    "\n",
    "- Although the initial state may not be an eigenstate of $\\hat{A}$, it can be expanded into a set of eigenvectors of $\\hat{A}$ $\\hat{A}\\Psi_i = a_i\\Psi_i$ using coefficients $(c_i)$.\n",
    "\n",
    "- The probability of observing the eigenvalue $(a_i)$ upon measurement is given by the absolute value squared of the coefficient $(|c_i|^2)$.\n",
    "\n",
    "- This means that the measurement outcome is probabilistic, with each eigenvalue having a probability associated with it.\n",
    "\n",
    "**Wave Function Collapse:**\n",
    "\n",
    "- After the measurement, the state of the system changes. The wave function **`collapses`** into the eigenstate $\\Psi_i$ corresponding to the observed eigenvalue $(a_i)$.\n",
    "\n",
    "- If $(a_i)$ is degenerate (multiple states with the same eigenvalue), the wave function collapses into the degenerate subspace, affecting the state of the system.\n",
    "\n",
    "**Implications in Quantum Computing:**\n",
    "\n",
    "- In quantum computing, this postulate implies that measurements collapse the quantum state to a specific outcome.\n",
    "\n",
    "- It underscores the probabilistic nature of measurement outcomes in quantum systems.\n",
    "\n",
    "- Quantum algorithms leverage this probabilistic nature and exploit superposition and entanglement to perform computations more efficiently for certain problems.\n",
    "\n",
    "In essence, the act of measurement in quantum computing causes the system to collapse into a specific state, impacting subsequent computations or measurements. This phenomenon is fundamental and central to quantum algorithms and their unique computational power.\n"
   ]
  },
  {
   "cell_type": "markdown",
   "id": "66b1beba-4e71-47eb-bde2-40b0c323b1c4",
   "metadata": {
    "jp-MarkdownHeadingCollapsed": true
   },
   "source": [
    "#### Quantum Coin Example:"
   ]
  },
  {
   "cell_type": "markdown",
   "id": "f2ba42f7-3d97-4c89-a73f-802259459cf8",
   "metadata": {},
   "source": [
    "Let's consider a theoretical scenario with a quantum coin that can be in a superposition of both heads (**`H`**) and tails (**`T`**). When measured, the quantum coin collapses to either `H` or `T` with a certain probability associated with each outcome.\n",
    "\n",
    "Imagine a quantum coin that, when flipped, is in a superposition of **`H`** (heads) and **`T`** (tails) states simultaneously. This coin represents a qubit in a quantum state.\n",
    "\n",
    "1. **Superposition:** The quantum coin is in a superposition state $\\color{red}{|\\Psi\\rangle = \\frac{1}{\\sqrt{2}}|H\\rangle + \\frac{1}{\\sqrt{2}}|T\\rangle\\ }$, meaning it's equally likely to be in both states **`H`** and **`T`** simultaneously.\n",
    "\n",
    "2. **Measurement:** When observed or measured, the quantum coin collapses into either **`H`** or **`T`** based on probabilities.\n",
    "   - The probability of observing **`H`** is $\\color{blue}{\\left|\\frac{1}{\\sqrt{2}}\\right|^2 = \\frac{1}{2}}$.\n",
    "   - Similarly, the probability of observing **`T`** is $\\color{blue}{\\left|\\frac{1}{\\sqrt{2}}\\right|^2 = \\frac{1}{2}}$.\n",
    "\n",
    "3. **Outcome:** Upon measurement, the quantum coin will yield either **`H`** or **`T`**. However, before measurement, it exists in a superposition of both.\n",
    "\n",
    "***Real-Time Analogous Scenario:***\n",
    "\n",
    "Imagine you have a hypothetical quantum coin that behaves as described above. You flip this quantum coin, but instead of observing the result immediately, you're blindfolded and don't see the outcome until later.\n",
    "\n",
    "While blindfolded, the coin exists in a superposition of **`H`** and **`T`**, just like a qubit in a quantum state. Only when you remove the blindfold and observe the result does the quantum coin \"***collapse***\" into either **`H`** or **`T`**.\n",
    "\n",
    "The probabilistic nature of quantum mechanics means that, until you observe the coin, it effectively remains in a simultaneous **`H`** and **`T`** state. The act of observation (removing the blindfold) causes the collapse, revealing the actual outcome.\n",
    "\n",
    "This analogy helps visualize the probabilistic nature of quantum measurements. Until observed, the quantum system exists in multiple states simultaneously, demonstrating the essence of superposition and the impact of observation on the final outcome."
   ]
  },
  {
   "cell_type": "markdown",
   "id": "911a5c6d-8c2d-4c04-9c7d-5f2bdfba8786",
   "metadata": {
    "jp-MarkdownHeadingCollapsed": true
   },
   "source": [
    "### Postulate - 4 :"
   ]
  },
  {
   "cell_type": "markdown",
   "id": "bdc1b6d4-4e77-4345-bebd-36dd41be4cdc",
   "metadata": {},
   "source": [
    "If a system is in a state described by the normalised wavefunction, **$\\Psi$**, then the average value of the observable corresponding to $\\hat{A}$ is given by\n",
    "$$\\boxed{\\color{green}{\\langle \\hat{A} \\rangle \\ = \\int_{-\\infty}^{+\\infty} \\Psi^* \\hat{A} \\Psi \\,d\\tau}}$$"
   ]
  },
  {
   "cell_type": "markdown",
   "id": "1d7ff489-7a18-4083-a019-003a11dcaede",
   "metadata": {},
   "source": [
    "#### Explanation :"
   ]
  },
  {
   "cell_type": "markdown",
   "id": "1e9a2e00-9850-4301-81c0-605358fce497",
   "metadata": {},
   "source": [
    "The fourth postulate of quantum mechanics addresses how to calculate the average or expected value of an observable associated with a quantum system, represented by the wave function $\\Psi$.\n",
    "\n",
    "**Calculating the Average Value of an Observable:**\n",
    "\n",
    "- For a system described by the normalized wave function $\\Psi$, the average value of an observable represented by the operator $\\hat{A}$ is calculated as:\n",
    "$$\\boxed{\\langle \\hat{A} \\rangle = \\int_{-\\infty}^{+\\infty} \\Psi^* \\hat{A} \\Psi \\,d\\tau}$$\n",
    "\n",
    "where $\\Psi^*$ denotes the complex conjugate of the wave function.\n",
    "\n",
    "**In Simple Terms:**\n",
    "\n",
    "- Consider a quantum system described by the wave function $\\Psi$. This wave function contains information about the system's state, such as its **position**, **momentum**, or **other observables**.\n",
    "\n",
    "- The average or expected value of an observable (like position, energy, etc.) represented by the operator $\\hat{A}$ in this quantum system is calculated using an **integral**.\n",
    "\n",
    "- The integral involves the **complex conjugate of the wave function** $\\Psi^*$, the **operator** $\\hat{A}$, and the **original wave function** $\\Psi$.\n",
    "\n",
    "- This calculation gives us the average value that we would expect to measure if we were to perform measurements on the quantum system multiple times.\n",
    "\n",
    "**Practical Implications:**\n",
    "\n",
    "- This postulate helps in predicting the expected outcomes of measurements on a quantum system.\n",
    "\n",
    "- By calculating the average value of observables, it provides insight into the behavior of the system and what outcomes are likely to be observed in experiments.\n",
    "\n",
    "In essence, the fourth postulate provides a mathematical framework to determine the expected or average outcome of measuring an observable in a quantum system described by its wave function. It's a fundamental aspect of quantum mechanics used to predict and understand measurement outcomes in the quantum world."
   ]
  },
  {
   "cell_type": "markdown",
   "id": "17dd6532-bedd-492b-93db-8f0cf94662ee",
   "metadata": {
    "jp-MarkdownHeadingCollapsed": true
   },
   "source": [
    "#### Particle in a box Example :"
   ]
  },
  {
   "cell_type": "markdown",
   "id": "220dcc34-5a8a-4819-b83b-9716516b23cf",
   "metadata": {},
   "source": [
    "Let's consider a simple real-life example involving a quantum particle's position to understand the fourth postulate.\n",
    "\n",
    "**Finding Average Position of a Particle in a Box:**\n",
    "\n",
    "Imagine a particle confined within a **one-dimensional box**, represented by a wave function $\\Psi(x)$. We want to find the average position of this particle within the box using the fourth postulate.\n",
    "\n",
    "1. **System Description:**\n",
    "\n",
    "   - The wave function $\\Psi(x)$ describes the **probability amplitude** of finding the particle at a specific position $x$ inside the box.\n",
    "\n",
    "2. **Calculating Average Position:**\n",
    "\n",
    "   - Using the fourth postulate, the **average position** $\\langle x \\rangle$ of the particle is determined by the integral:\n",
    "     $$\\boxed{\\langle x \\rangle = \\int_{-\\infty}^{+\\infty} \\Psi^*(x) \\hat{x} \\Psi(x) \\,dx}$$\n",
    "     where $\\hat{x}$ is the **position operator**.\n",
    "\n",
    "3. **Interpretation:**\n",
    "\n",
    "   - This calculation yields the average or expected value of the particle's position if we were to perform measurements on its location multiple times.\n",
    "\n",
    "   - The result provides insight into **where the particle is more likely to be found within the box** based on the given wave function.\n",
    "\n",
    "***Real-Life Analogy:***\n",
    "\n",
    "Think of this scenario as trying to predict where a tiny particle might be inside a confined box without directly observing it. The wave function $\\Psi(x)$ acts like a **probability map**, indicating where the particle is more likely to be found within the box.\n",
    "\n",
    "- Using the fourth postulate is akin to calculating the average position of the particle inside the box based on this probability map.\n",
    "\n",
    "- While we can't directly see the particle's position, this calculation helps us estimate where it's most likely to be found on average, providing a prediction based on the quantum properties described by the wave function.\n",
    "\n",
    "In summary, the fourth postulate allows us to estimate or predict the expected outcome (such as the average position of a quantum particle) based on the mathematical description of the system provided by the wave function, even without directly observing the particle."
   ]
  },
  {
   "cell_type": "markdown",
   "id": "3355b343-725c-43d0-930d-28abfbe4feb9",
   "metadata": {
    "jp-MarkdownHeadingCollapsed": true
   },
   "source": [
    "### Postulate - 5 :"
   ]
  },
  {
   "cell_type": "markdown",
   "id": "3579f322-f7e6-4e18-92b6-371a7c667037",
   "metadata": {},
   "source": [
    "The wavefunction or state function of a system evolves in time according to the time-dependent Schrodinger equation $$\\boxed{ \\hat{H} \\Psi(r,t)\\ = i\\hbar\\frac{\\partial \\Psi}{\\partial t}}$$"
   ]
  },
  {
   "cell_type": "markdown",
   "id": "a390e88f-3097-43d0-80d7-b25418fbc4f3",
   "metadata": {},
   "source": [
    "#### Explanation :"
   ]
  },
  {
   "cell_type": "markdown",
   "id": "0965890b-f1ea-4257-b333-08ff768cd590",
   "metadata": {},
   "source": [
    "The fifth postulate of quantum mechanics deals with how the wave function or state function of a quantum system changes over time. It's described by the time-dependent Schrödinger equation.\n",
    "\n",
    "**Evolution of the Wave Function:**\n",
    "\n",
    "- The **time-dependent Schrödinger equation** represents how the wave function $\\Psi(r, t)$ of a quantum system changes over time.\n",
    "  $$\\color{red}{\\hat{H} \\Psi(r, t) = i\\hbar \\frac{\\partial \\Psi}{\\partial t}}$$\n",
    "  where $\\hat{H}$ is the **Hamiltonian operator**, representing the *total energy of the system*.\n",
    "\n",
    "**Explanation in Simple Terms:**\n",
    "\n",
    "- Consider a quantum system described by its wave function $\\Psi(r, t)$. This wave function contains information about the system's state at different positions $r$ and at time $t$.\n",
    "\n",
    "- The **Schrödinger equation** describes how this wave function evolves over time. It states that the total energy operator $\\hat{H}$ acting on the wave function produces the *rate of change of the wave function with respect to time*.\n",
    "\n",
    "**Interpretation:**\n",
    "\n",
    "- The equation essentially governs how the state of a quantum system changes over time. It links the energy of the system (through the Hamiltonian operator) to the time evolution of its wave function.\n",
    "\n",
    "***Practical Implications:***\n",
    "\n",
    "- Solving the time-dependent Schrödinger equation helps predict the behavior of quantum systems as they evolve over time.\n",
    "\n",
    "- It's fundamental for understanding how quantum states change and develop, aiding in the prediction of outcomes in experiments and real-world applications.\n",
    "\n",
    "In essence, the fifth postulate describes the evolution of a quantum system's state function over time. It's a fundamental equation that underpins the dynamics of quantum systems and allows us to predict how their states change with time, providing crucial insights into the behavior of quantum systems."
   ]
  },
  {
   "cell_type": "markdown",
   "id": "2d3cf71b-4f3f-4a59-98b4-27f6843e8419",
   "metadata": {},
   "source": [
    "#### Example of electron in an Atom:"
   ]
  },
  {
   "cell_type": "markdown",
   "id": "87dd6376-8b58-4e4a-a13e-61ceac307d2c",
   "metadata": {},
   "source": [
    "Let's consider a real-life example involving the time evolution of an electron in an atom.\n",
    "\n",
    "**Scenario:**\n",
    "\n",
    "- An electron in an atom is described by a wave function $\\Psi(r, t)$, where $(r)$ represents its position and $(t)$ represents time.\n",
    "\n",
    "- The time-dependent Schrödinger equation governs how this wave function changes over time.\n",
    "\n",
    "**Explanation:**\n",
    "\n",
    "- The Schrödinger equation for the electron in the atom $\\hat{H} \\Psi(r, t) = i\\hbar \\frac{\\partial \\Psi}{\\partial t}$ describes the evolution of the electron's wave function.\n",
    "\n",
    "- The Hamiltonian operator $\\hat{H}$ encapsulates the total energy of the electron within the atom.\n",
    "\n",
    "- Solving this equation helps predict how the electron's probability density distribution, described by the wave function $\\Psi(r, t)$, changes as time progresses.\n",
    "\n",
    "**Real-Life Analogy:**\n",
    "\n",
    "- Think of the **electron's behavior as a dance within the atom**, where its movement and position are represented by the changing wave function.\n",
    "\n",
    "- The Schrödinger equation acts like the choreography, dictating how the electron's \"dance\" evolves over time. It guides the electron's movements within the atom, determining its probabilities of being in different positions at different times.\n",
    "\n",
    "***Practical Implications:***\n",
    "\n",
    "- Understanding the time evolution of quantum systems, like the electron in an atom, helps predict their behavior and properties at various points in time.\n",
    "\n",
    "- This knowledge is crucial in fields such as quantum chemistry, materials science, and quantum computing, where predicting the behavior of quantum particles over time is essential for designing new materials or understanding chemical reactions.\n",
    "\n",
    "In summary, the time-dependent Schrödinger equation allows us to model and predict the evolution of quantum systems over time, providing valuable insights into the behavior of particles such as electrons in atoms in various real-world applications."
   ]
  },
  {
   "cell_type": "markdown",
   "id": "e87f4892-8d48-4769-84e7-2e7d787971ad",
   "metadata": {
    "jp-MarkdownHeadingCollapsed": true
   },
   "source": [
    "### Postulate - 6 :"
   ]
  },
  {
   "cell_type": "markdown",
   "id": "65b0719c-6b4b-43a8-8de0-4e6ea25f1c35",
   "metadata": {},
   "source": [
    "The total wavefunction must be **antisymmetric** with respect to the interchange of all coordinates of one *fermion* with those of another. Electron spin must be included in this set of coordinates.\n",
    "\n",
    "- The $\\color{green}{\\text{Pauli execlusion principle}}$ is a direct result of this *antisymmetry* postulate"
   ]
  },
  {
   "cell_type": "markdown",
   "id": "3909b830-ca95-43f9-b967-40fcf2da047b",
   "metadata": {},
   "source": [
    "#### Explanation :"
   ]
  },
  {
   "cell_type": "markdown",
   "id": "4412364e-5ae3-4713-aa72-9baf8f525fbf",
   "metadata": {},
   "source": [
    "The sixth and final postulate of quantum mechanics pertains to the **antisymmetric nature of the total wave function** for systems of identical particles, specifically fermions like electrons. This leads directly to the Pauli Exclusion Principle.\n",
    "\n",
    "**Antisymmetric Wave Function:**\n",
    "\n",
    "- For systems of $\\color{red}{\\text{identical particles (fermions)}}$, the total wave function describing their states must be ***antisymmetric*** under the interchange of any two particles' coordinates (including electron spin).\n",
    "\n",
    "**Pauli Exclusion Principle:**\n",
    "\n",
    "- The *Pauli Exclusion Principle* is a consequence of this antisymmetric nature.\n",
    "\n",
    "- It states that no two identical fermions (such as electrons) within a system **can occupy** the same quantum state simultaneously.\n",
    "\n",
    "- Specifically, it prohibits two identical fermions from having the same set of quantum numbers (spin, orbital, etc.) in a given system.\n",
    "\n",
    "**Explanation in Simple Terms:**\n",
    "\n",
    "- Imagine a system of identical particles (like electrons) described by a total wave function.\n",
    "\n",
    "- The wave function must change sign (become negative) when the coordinates of any two particles are interchanged. This antisymmetry ensures that the wave function remains unchanged under permutations, ensuring a unique behavior for identical particles.\n",
    "\n",
    "**Pauli Exclusion Principle in Practice:**\n",
    "\n",
    "- The Pauli Exclusion Principle has profound implications, especially in atomic and molecular systems.\n",
    "\n",
    "- It limits the number of electrons that can occupy a given energy level or orbital in an atom, leading to the stability and structure of atoms and the periodic table.\n",
    "\n",
    "- It prevents the collapse of matter into infinitesimally small volumes by prohibiting too many particles from occupying the same state."
   ]
  },
  {
   "cell_type": "markdown",
   "id": "2f13dbcb-0ac2-4be6-aa22-4d9e236766d5",
   "metadata": {},
   "source": [
    "#### Example of rule at a party :"
   ]
  },
  {
   "cell_type": "markdown",
   "id": "6f5fb3e8-1360-46f8-9b0f-a858d9e64988",
   "metadata": {},
   "source": [
    "Think of the Pauli Exclusion Principle as a rule at a party:\n",
    "\n",
    "- Imagine a dance floor representing quantum states, and individuals (electrons) with their unique dance moves (quantum properties).\n",
    "\n",
    "- The rule states that no two individuals can perform the exact same dance moves simultaneously on the same spot on the dance floor. This ensures diversity and avoids overcrowding in certain spots.\n",
    "\n",
    "***Practical Importance:***\n",
    "\n",
    "- The Pauli Exclusion Principle is crucial in understanding the stability of matter, the behavior of electrons in atoms, and the formation of chemical bonds.\n",
    "\n",
    "- It underpins the electronic structure of atoms and molecules, influencing material properties and chemical reactions.\n",
    "\n",
    "In summary, the sixth postulate's antisymmetric requirement of the wave function for identical particles leads to the Pauli Exclusion Principle, governing the behavior and arrangement of fermions like electrons in quantum systems."
   ]
  },
  {
   "cell_type": "markdown",
   "id": "196d394b-1f79-4d48-89b9-54a634a075b6",
   "metadata": {
    "jp-MarkdownHeadingCollapsed": true
   },
   "source": [
    "## Bits V/s Qubits :"
   ]
  },
  {
   "cell_type": "markdown",
   "id": "1e0980a3-2593-498a-89c7-813661f1d4e5",
   "metadata": {},
   "source": [
    "### Dirac Notations :"
   ]
  },
  {
   "cell_type": "markdown",
   "id": "1de463bd-4c94-4239-acd6-0165132882aa",
   "metadata": {
    "jp-MarkdownHeadingCollapsed": true
   },
   "source": [
    "Any classical computer basically functions on two basic units that are 0s and 1s. These represents states that any memory unit the computer can be in. In Quantum Computer the comparision is with Qubits or Quantum bits. Quantum bits can be in states that are loosely equivalent to 0 and 1. These are better considered as unit vectors rather than states.\n",
    "\n",
    "A Qubit can be more than a 0 or 1, it can be the linear combination of Zero State and one state. This is represented in the below figure where alpha and beta complex numbers, and it is called as **Super-Position** state.\n",
    "\n",
    "**Comparision of Classical Bits Vs Qubits :**\n",
    "\n",
    "|Category | Classical Bits| Qubits|\n",
    "|-----------------------|---------------------------|--------------------------------|\n",
    "| States  representation|   **0** & **1**| $\\vert 0 \\rangle$ & $\\vert 1 \\rangle$|\n",
    "|States type | Binary Values | Unit Vectors |\n",
    "|Usual Representation |  Binary strings  $$b={0,1}$$|Linear combination of unit vectors $$\\boxed{\\vert\\Psi\\rangle \\ = \\alpha \\vert 0\\rangle \\ + \\beta \\vert 1 \\rangle }$$|\n",
    "|Nature of States | Deterministic| Probabilistic $$\\boxed{\\lvert 0 \\rangle = \\lvert \\alpha \\rvert^2, \\quad \\lvert 1 \\rangle = \\lvert \\beta \\rvert^2}$$|\n",
    "\n",
    "#### Ket :\n",
    "\n",
    "The most convienient way of representing the Quantum states is with **Dirac-Notation** or also called as **Bra-ket Notation**.\n",
    "\n",
    "- **Ket** is basic object in quantum computing and it basically used to represent the Quantum State.\n",
    "\n",
    "- Roughly, we can consider **ket** as equivalent of orthogonal unit vectors in 2D-Vector Space.\n",
    "\n",
    "**Ket-0 representation:**\n",
    "$\\boxed{ |0\\rangle \\ = \\begin{bmatrix} 1 \\\\ 0\\\\  \\end{bmatrix} }$\n",
    "\n",
    "**Ket-1 representation:**\n",
    "$\\boxed{ |1\\rangle \\ = \\begin{bmatrix} 0 \\\\ 1\\\\  \\end{bmatrix} }$\n",
    "\n",
    "Generally any state of a particle $|\\Psi\\rangle$ is represented as linear combination of $|0\\rangle$ and $|1\\rangle$. It is given by\n",
    "$$\\boxed{|\\Psi\\rangle \\ = \\alpha |0\\rangle \\ + \\ |1\\rangle }$$\n",
    "\n",
    "The same can be imagined as the complex number combinations for vector space and for Linear algebra format the **$\\alpha$** & **$\\beta$** constants are actually an elements in **Complex Hilbert Space** or **Vector Space**, and this Ket is a **Linear Combination of two OrthoNormal basis States**.\n",
    "\n",
    "| Dirac Notation  | vector Notation | Matrix Notation |\n",
    "|-----------------|-----------------|-----------------|\n",
    "|$\\lvert 0 \\rangle$ $\\lvert 1 \\rangle$|$\\hat{i} \\& \\hat{j}$ are **orthogonal vectors**|$\\boxed{\\vert 0\\rangle \\ = \\begin{bmatrix} 1 \\\\ 0\\\\ \\end{bmatrix} }$ and $\\boxed{\\vert 1\\rangle \\ = \\begin{bmatrix} 0 \\\\ 1\\\\  \\end{bmatrix}}$|\n",
    "|$$\\boxed{\\vert\\Psi\\rangle \\ = \\alpha \\vert 0 \\rangle \\ + \\ \\vert 1\\rangle }$$|$\\alpha\\hat{i}\\ + \\beta\\hat{j}$ where $\\alpha$ & $\\beta$ are complex numbers. | $\\begin{bmatrix} \\alpha \\\\ \\beta \\end{bmatrix}$ elements of Complex Hilbert-Space this matrix forms linear combination of orthonormal basis states| \n",
    "\n",
    "**Hilbert Space :**\n",
    "It is a complex multidimenstional vector space where inner product of any pair of elements is defined as extrapolation of a 2D Space to n-Dimensions and Complex coefficients.\n",
    "\n",
    "- $\\lvert 0 \\rangle$, $\\lvert 1 \\rangle$ are considered as the standard basis states also as orthonormal basis states.\n",
    "\n",
    "- Consider a 2D plane with an x-axis and y-axis and we have a unit vector that aligns with x-axis and a unit vector that aligns with y-axis.\n",
    "\n",
    "- Now we can represent any point on 2D plane as the linear combination of unit vectors of x and y.\n",
    "\n",
    "- Hilbert space is similar to to it. Here the coefficients are complex numbers so the mathematics remains very similar.\n",
    "\n",
    "- It is just like we are having different kind of space and, standard basis roughly equivalent to our **i & j** vectors on a 2D plane which they represent **orthonormal basis states**.(They are perpendicular to each other).\n",
    "\n",
    "#### Bra :\n",
    "\n",
    "It is the opposite operation of **Ket**($\\vert \\rangle;$).\n",
    "\n",
    "- It is actually an operation or a function that can be applied on Ket.\n",
    "\n",
    "- **For a given Ket we can compute Bra as the conjugate Transpose of Ket**\n",
    "\n",
    "**Bra-0 representation :** $\\boxed{\\langle 0 | = [conjugate\\ of\\begin{bmatrix} 1 \\\\ 0\\\\  \\end{bmatrix}]^T \\implies \\langle 0 | = \\begin{bmatrix} 1 \\\\ 0\\\\  \\end{bmatrix}^\\dagger}$\n",
    "\n",
    "**Bra-1 representation :** $\\boxed{\\langle 1 | = [conjugate\\ of\\begin{bmatrix} 0 \\\\ 1\\\\  \\end{bmatrix}]^T \\implies \\langle 1 | = \\begin{bmatrix} 0 \\\\ 1\\\\  \\end{bmatrix}^\\dagger}$\n",
    "\n",
    "- If **A** is any **ket** $\\vert A \\rangle;$ then its bra is given by $\\langle A \\vert$ which is\n",
    "$$\\boxed{\\langle A \\lvert \\ = A^\\dagger \\ = [\\overline{A}]^T}$$\n",
    "and complex conjugate means if $\\alpha = a+ib$ then, $\\alpha^* \\ or \\ \\alpha^\\dagger \\ = a-ib$.\n",
    "\n",
    "Bra is represented as **row vector** and Ket is represented as **column vector**.\n",
    "$$\\boxed{\\color{blue}{ \\begin{bmatrix}\\alpha \\\\ \\beta \\end{bmatrix} \\implies \\begin{bmatrix} \\alpha^* & \\beta^* \\end{bmatrix} }}$$\n",
    "\n",
    "#### At N dimensional scale :\n",
    "\n",
    "Now let us consider vectors with n dimensions.\n",
    "\n",
    "- Consider a general **ket-Si** which is actually a **nx1** matrix.\n",
    "$$\\boxed{\\color{green}{\\lvert\\Psi\\rangle \\ = \\ \\begin{bmatrix}a_1 \\\\ a_2\\\\ . \\\\ .\\\\ .\\\\ a_n \\end{bmatrix}}}$$\n",
    "\n",
    "- Similarly a general **bra-Phi** which is actually a **1xn** matrix.\n",
    "$$\\boxed{\\color{green}{\\langle\\Phi\\lvert \\ = \\ \\begin{bmatrix}b_1^* & b_2* & . & . & . & b_n* \\end{bmatrix}}}$$\n",
    "\n",
    "#### Bra-Ket Operation :\n",
    "\n",
    "This Operation applies **bra-phi** to **Ket-si** and this is an inner product of both the vectors or better can be interpreted as the Dot product of both the vectors.\n",
    "\n",
    "$$ \\boxed{\\color{red}{bra-ket \\langle\\Phi\\lvert\\Psi\\rangle \\ = \\ \\begin{bmatrix}b_1^* & b_2^* & . & . & . & b_n* \\end{bmatrix} \\begin{bmatrix}a_1 \\\\ a_2\\\\ . \\\\ .\\\\ .\\\\ a_n \\end{bmatrix}\\ = \\ b_1^* a_1 + b_2^* a_2 + .... + b_N^* a_N}}$$\n",
    "\n",
    "Here the result is the scalar product.\n",
    "\n",
    "If we consider $\\vert 0 \\rangle$ & $\\langle 1 \\vert$ and performed $\\bf{\\langle 1 \\vert 0 \\rangle}$ Bra-Ket operation then the result is as follows :\n",
    "\n",
    "$$\\boxed{\\color{magenta}{\\langle 1 \\vert 0 \\rangle \\ = \\ \\begin{bmatrix} 0 & 1 \\end{bmatrix} \\ . \\begin{bmatrix} 1 \\\\ 0\\\\  \\end{bmatrix} = 0}}$$\n",
    "\n",
    "   - If the **inner product** of any two **unequal** vectors (i.e bra-ket operation of two vectors) is **0** then the vectors are **Orthogonal** to each other. \n",
    "    \n",
    "   - The inner product of any two **same** vectors is always **1** which is the indication for the **normalization**. All quantum states are always normalized.\n",
    "\n",
    "#### Ket-Bra Operation : (Kronecker Product)\n",
    "\n",
    "This operation is similar to Bra-Ket but here it performs the outer product instead of inner product. It is done as follows:\n",
    "$$ \\boxed{\\color{red}{Ket-Bra \\ \\vert\\Psi\\rangle\\langle\\Phi\\lvert \\ = \\ \\begin{bmatrix}a_1 \\\\ a_2\\\\ . \\\\ .\\\\ .\\\\ a_n \\end{bmatrix}\\ \\begin{bmatrix}b_1^* & b_2* & . & . & . & b_n* \\end{bmatrix}\\ = \\begin{bmatrix}a_1b_1^* & a_1b_2^* & . & . & . & a_1b_N* \\\\ a_2b_1^* & a_2b_2^* & . & . & . & a_2b_N* \\\\ . \\\\ . \\\\ . \\\\ a_Nb_1^* & a_Nb_2^* & . & . & . & a_Nb_N* \\end{bmatrix} }}$$\n",
    "\n",
    "If we consider $\\vert 0 \\rangle$ & $\\langle 1 \\vert$ and performed $\\bf{\\vert 0 \\rangle\\langle 1 \\vert}$ Bra-Ket operation then the result is as follows :\n",
    "\n",
    "$$\\boxed{\\color{magenta}{\\vert 0 \\rangle  \\langle 1 \\vert \\ = \\ \\begin{bmatrix} 1 \\\\ 0\\\\  \\end{bmatrix} \\ . \\ \\begin{bmatrix} 0 & 1 \\end{bmatrix} \\ = \\begin{bmatrix} 0 & 1 \\\\ 0 & 0 \\end{bmatrix}}}$$\n",
    "\n",
    "**Kronecker Product of two Matrices:**\n",
    "Consider two matrices **A** and **B** as shown below:\n",
    "$$\n",
    "\\begin{bmatrix}\n",
    "a11 & a12 \\\\\n",
    "a21 & a22 \\\\\n",
    "\\end{bmatrix}\n",
    "\\begin{bmatrix}\n",
    "b11 & b12 \\\\\n",
    "b21 & b22 \\\\\n",
    "\\end{bmatrix}\n",
    "$$\n",
    "- The product of **A & B** is:\n",
    "$$\n",
    "\\color{red}{\n",
    "\\begin{bmatrix}\n",
    "a11*B & a12*B \\\\\n",
    "a21*B & a22*B \\\\\n",
    "\\end{bmatrix}}\n",
    "=\n",
    "\\color{blue}{\n",
    "\\begin{bmatrix}\n",
    "a11*b11 & a11*b12 & a12*b11 & a12*b12 \\\\\n",
    "a11*b21 & a11*b22 & a12*b21 & a12*b22 \\\\\n",
    "a21*b11 & a21*b12 & a22*b11 & a22*b12 \\\\\n",
    "a21*b21 & a21*b22 & a22*b21 & a22*b22 \\\\\n",
    "\\end{bmatrix}}\n",
    "$$\n"
   ]
  },
  {
   "cell_type": "markdown",
   "id": "4cdd006a-cfa2-423f-b6cf-fe9b2e725d50",
   "metadata": {
    "jp-MarkdownHeadingCollapsed": true
   },
   "source": [
    "### For Single Qubit :"
   ]
  },
  {
   "cell_type": "markdown",
   "id": "5add79b7-d2c1-449f-ae53-2105b7d0a1e2",
   "metadata": {},
   "source": [
    "A Single qubit is nothing but a vector in a complex 2D-Hilbert Space.\n",
    "\n",
    "A general Qubit state is represented as Arbitary Ket which is linear combination of orthonormal basis state 0 and with complex Coefficients. It is given as follows :\n",
    "$$\\boxed{|q\\rangle \\ = \\alpha |0\\rangle \\ + \\beta |1\\rangle } $$\n",
    "\n",
    "$$ where \\vert q \\rangle \\implies \\begin{bmatrix} \\alpha \\\\ \\beta \\end{bmatrix} \\ and \\ \\alpha,\\beta \\ \\epsilon \\ C(complex numbers)$$\n",
    "\n",
    "$$ \\vert 0 \\rangle \\ and \\ \\vert 1 \\rangle \\ are \\ Ortho-Normal\\ Basis \\ States (\\ inner\\ Product\\ = 0) $$\n",
    "\n",
    "The matrix representation of this is a **2x1** matrix Which represent the Quantum States. Generally they can be described as a linear combination of basis states, as well as a superposition of **0** and **1**.\n",
    "\n",
    "When we actually look at those qubits, they **probabilistically collapse to either of those basis states** so they do not remain in same form when we look at them. So they can be assumed as either 0 or 1 which means that being in state 0 or state 1 happens to be definite.\n",
    "\n",
    "Consider the following example where we need to find the probability of qubit q in state 0 and state 1.\n",
    "$$\\text{Probability of qubit in the standard basis } \\{ |0\\rangle, |1\\rangle \\}$$\n",
    "\n",
    "$$\n",
    "\\boxed{\n",
    "\\begin{aligned}\n",
    "&P(|q\\rangle = |0\\rangle) = |\\langle 0| q \\rangle|^2 = |\\langle 0| (\\alpha|0\\rangle + \\beta|1\\rangle)|^2 = |\\alpha\\langle 0|0\\rangle + \\beta\\langle 0|1\\rangle|^2 = |\\alpha|^2 \\\\\n",
    "&P(|q\\rangle = |1\\rangle) = |\\langle 1 | q \\rangle|^2 = |\\langle 1| (\\alpha|0\\rangle + \\beta|1\\rangle)|^2 = |\\alpha\\langle 1|0\\rangle + \\beta\\langle 1 | 1 \\rangle|^2 = |\\beta|^2 \\\\\n",
    "\\end{aligned}\n",
    "}\n",
    "$$\n",
    "\n",
    "$$\\boxed{\\color{blue}{\\vert \\alpha \\vert^2 + \\vert \\beta \\vert^2 = 1}}$$\n",
    "\n",
    "$$\n",
    "\\boxed{\n",
    "\\begin{aligned} \n",
    "&\\text{Since Complex number} \\implies \\alpha = a+ib \\text{ or } re^{i \\theta} \\\\\n",
    "&\\text{Modulus} \\implies  |\\alpha| = \\sqrt{a^2+b^2}\n",
    "\\end{aligned}\n",
    "}\n",
    "$$\n",
    "\n",
    "First conider the probability of qubit q in state 0. So initally we need to find product of bra-0 and Ket-q, we will get any complex scalar as the result.\n",
    "\n",
    "- So we need to apply modulus to find the magnitude of the scalar and apply square on it. But we have considered the ket-q as the linear combination of ket-0 and Ket-1 with coefficients alpha and Beta. \n",
    "\n",
    "- So we need to expand the expression of bra-ket of 0 and q.\n",
    "\n",
    "As all the operations we are performing are linear transformations only, we can take all the distribute all the scalar parts in the expression. Here we make product of bra-0 with Ket-0 and ket-1 by taking coefficients common.\n",
    "\n",
    "We know that Bra-ket 0-0 is 1 and Bra-Ket 0-1 is 0. So we will remain with $|\\alpha|^2$. Similarly we can find the probability of qubit q being in state 1.\n",
    "\n",
    "We know that sum of all probabilities is equals to 1. So the sum of the results of probabilities of q being in state-0 and state-1 is equals to **1**.\n",
    "\n",
    "This state of qubits is called **normalized state of qubits** which are represented as **bra-ket of q-q**.The coefficients Alpha & Beta are also called as **Probability Amplitudes** for a general qubit.\n",
    "\n",
    "$$\\boxed{\\bf{\\langle q \\vert q \\rangle} = \\ 1 \\implies \\text{Normalized State}}$$"
   ]
  },
  {
   "cell_type": "markdown",
   "id": "0baca673-6e37-4878-a25d-53d4ca36c0fc",
   "metadata": {
    "jp-MarkdownHeadingCollapsed": true
   },
   "source": [
    "### Ray representation of Physical States :"
   ]
  },
  {
   "cell_type": "markdown",
   "id": "1c6e4ec0-a97f-445b-913c-795e8f949419",
   "metadata": {},
   "source": [
    "Physical states are represented by **Rays** in **Hilbert Space (H)**. These vectors in Hilbert space are the represented as **Kets**.\n",
    "\n",
    "- A Hilbert space is a **normed vector space** in which the concept of an inner product is defined.\n",
    "\n",
    "- Usually this space is **infinite dimensional** and it has another property that the space is **complete** in the sense it is closed.\n",
    "\n",
    "However in quantum computing we normally deal with finite vector spaces as a result of which the closedness or the completeness of the vector space is automatically satisfied.\n",
    "\n",
    "The inner product as we will see is very much like a **scalar product of two vectors with some minor differences**.\n",
    "\n",
    "And the concept of a norm, that is a length essentially is defined in this space. So this is an abstract vector space in which we define vectors or the vectors represent the physical states of the system.\n",
    "\n",
    "- **$\\lvert\\Psi\\rangle$** is the vector standing for a physical system in this space.\n",
    "\n",
    "Now the corresponding to this space there is a **dual space** which is represented by **$\\langle\\vert$**. As we know that **$\\langle\\vert\\rangle$** operation is the inner product of two vectors they are not same as Dot Product.\n",
    "- This inner Product is defined in this space which is linear. If we look at the inner product of the bra corresponding to **$\\Psi$** with the vectors **$\\Psi$** itself now this is **greater than or equal to 0** and it becomes zero only when $\\lvert\\Psi\\rangle$ is a null vector.\n",
    "\n",
    "$$\n",
    "\\boxed{\\color{red}{\n",
    "\\begin{aligned}\n",
    "\\textbf{Dual-Space}\\implies \\vert\\Psi\\rangle\\equiv\\ c\\vert\\Psi\\rangle \\ and\\ \\langle\\Psi\\vert\\equiv\\ c^*\\langle\\Psi\\vert \\\\\n",
    "\\\\ \\textbf{Positivity}\\implies \\langle\\Psi\\vert\\Psi\\rangle \\geq\\ 0 \\text{ [equal only if ket is null]}\\\\\n",
    "\\\\ \\textbf{Linearity}\\implies \\left\\langle \\phi_1 | a \\psi_1 + b \\psi_2 \\right\\rangle = a \\left\\langle \\phi_1 | \\psi_1 \\right\\rangle + b \\left\\langle \\phi_1 | \\psi_2  \\right\\rangle\n",
    "\\end{aligned}}\n",
    "}\n",
    "$$\n",
    "\n",
    "$$\\text{In Linear vector space}$$\n",
    "$$\n",
    "\\begin{aligned}\n",
    "\\\\ \\langle \\psi | a \\phi_1 + b \\phi_2 \\rangle = a \\langle \\psi | \\phi_1 \\rangle + b \\langle \\psi | \\phi_2 \\rangle\\\\\n",
    "\\\\ \\langle \\psi | \\phi\\rangle^* = \\langle \\phi | \\psi \\rangle\\\\\n",
    "\\\\ \\langle \\psi | \\psi \\rangle = 1 \\text{ Normalization}\n",
    "\\end{aligned}\n",
    "$$\n",
    "\n",
    "Now we know that Physical systems are often referred as Rays in Space. Now this is because in reality there is no difference between a state **C$\\lvert\\Psi\\rangle$** and **$\\lvert\\Psi\\rangle$** where C is a general complex number.\n",
    "\n",
    "Now as a result **C$\\lvert\\Psi\\rangle$ and $\\lvert\\Psi\\rangle$** represents the same physical states and so therefore instead of a physical system being represented by a particular vector in the Hilbert space it is represented by a one-dimensional subspace of the Hilbert space for which any multiplication of the vector **$\\lvert\\Psi\\rangle$** gives me the same, it represents the same physical state."
   ]
  },
  {
   "cell_type": "markdown",
   "id": "26b0b197-801e-40a7-86b0-141ec59e5f19",
   "metadata": {
    "jp-MarkdownHeadingCollapsed": true
   },
   "source": [
    "### Basis States :"
   ]
  },
  {
   "cell_type": "markdown",
   "id": "fbd4ef4e-a911-4190-b2c7-e57885d5f806",
   "metadata": {},
   "source": [
    "**Basis:** \n",
    "$$\n",
    "\\boxed{\\color{green}{\n",
    "\\begin{aligned}\n",
    "\\text{If the vector space is spanned by } \\{ |e_n \\rangle \\} \\text{ where } n&=1,2,...,d&\\\\\n",
    "| \\psi \\rangle &= \\sum a_n | e_n \\rangle &\\\\\n",
    "\\text{The basis may be chosen orthonormal} \\\\\n",
    "\\langle e_m | e_n \\rangle &= \\delta_{m,n}\\\\\n",
    "a_n &= \\langle e_n | \\psi \\rangle\n",
    "\\end{aligned}}}\n",
    "$$\n",
    "\n",
    "- A basis refers to a set of vectors that are linearly independent (meaning none can be expressed as a combination of the others) and span the entire space (meaning any vector in that space can be expressed as a linear combination of those basis vectors).\n",
    "\n",
    "For instance, in a three-dimensional space, the standard basis might consist of three vectors: **(1, 0, 0), (0, 1, 0), and (0, 0, 1)**, which span the entire three-dimensional space.\n",
    "\n",
    "Let us suppose I have a basis in this vector space and let me say that this space is spanned by the vectors which are $\\bf{|e_n\\rangle}$.\n",
    "\n",
    "Suppose it is **d** dimensional vector space I have spanned it, the kets $\\bf{|e_n\\rangle}$ so that any arbitrary vector can be written at the linear combination of this basis with the coefficients being $\\bf{ \\alpha_n }$.\n",
    "\n",
    "The difference between a normal vector space and this space is, our space is over a field of complex numbers and so therefore all numbers could be complex so this $\\bf{\\alpha_n}$ are in general complex.\n",
    "\n",
    "Here we can choose this basis to be **orthonormal**.\n",
    "\n",
    "An orthonormal basis is a fundamental concept in linear algebra. **It refers to a set of vectors within a vector space that are both orthogonal and normalized**.\n",
    "\n",
    "Let's break down the two components:\n",
    "\n",
    "- ***Orthogonal vectors:*** Vectors are orthogonal when they are perpendicular to each other. In an n-dimensional vector space, two vectors are orthogonal if their dot product (also known as the inner product) is zero. Geometrically, this means the vectors are at right angles to each other.\n",
    "\n",
    "- ***Normalized vectors:*** A vector is normalized when its length (magnitude) is equal to 1. This involves dividing the vector by its own magnitude, effectively scaling it to unit length. The magnitude of a vector is calculated using the square root of the sum of the squares of its components.\n",
    "\n",
    "An orthonormal basis combines these properties.\n",
    "\n",
    "In a vector space, an orthonormal basis is a set of vectors that are **mutually orthogonal** (i.e., any pair of vectors from the set is orthogonal) and each vector is **normalized** (i.e., each vector in the set has a magnitude of 1).\n",
    "\n",
    "So if i choose the basis to be orthonormal then we can take the definition of basis as $\\bf{\\langle e_m\\vert e_n\\rangle}$ whose inner product is made to be equal to $\\bf{\\delta_{m,n}}$.\n",
    "\n",
    "So, we can conclude that $\\bf{\\alpha_n}$ s are given by inner product of $\\bf{\\langle e_n\\vert \\Psi \\rangle}$."
   ]
  },
  {
   "cell_type": "markdown",
   "id": "74c7e00e-c0a2-41fb-aef8-2e54da6e5871",
   "metadata": {
    "jp-MarkdownHeadingCollapsed": true
   },
   "source": [
    "### Copenhagen Interpretation :"
   ]
  },
  {
   "cell_type": "markdown",
   "id": "07098eed-5654-4981-999a-76bf768c6333",
   "metadata": {},
   "source": [
    "\n",
    "***State $\\lvert\\Psi\\rangle$ has a probabilistic interpretation with $\\lvert\\alpha_n\\rvert^2$ as the probability with which the system would be found in the state $\\lvert e_n\\rangle$.***\n",
    "\n",
    "The statement is discussing a fundamental concept in quantum mechanics known as the probabilistic interpretation of quantum states.\n",
    "\n",
    "**Breakdown of the Statement:**\n",
    "\n",
    "1. **\"State $\\vert\\Psi\\rangle$ has a probabilistic interpretation\":**\n",
    "   - In quantum mechanics, the state of a system is described by a quantum state vector, often denoted as $\\vert\\Psi\\rangle$ (Psi), representing the quantum state of the system.\n",
    "   - This state vector represents all the information that can be known about the system.\n",
    "\n",
    "2. **\"with $\\vert\\alpha_n\\vert^2$ as the probability\":**\n",
    "   - In a quantum system, when it's in a state $\\vert\\Psi\\rangle$, it can be expressed as a linear combination of basis states, like $\\vert e_n \\rangle$ (where n represents different states in the system).\n",
    "   - The coefficients of these basis states, represented by $\\alpha_n$, are complex numbers known as probability amplitudes.\n",
    "   - The squared modulus of these probability amplitudes, $\\vert\\alpha_n\\vert^2$, gives the probability of finding the system in the corresponding basis state $\\vert e_n \\rangle$ upon measurement.\n",
    "\n",
    "3. **\"with which the system would be found in the state $\\vert e_n \\rangle$\":**\n",
    "   - The squared modulus of the probability amplitudes $\\vert\\alpha_n\\vert^2$ represents the probability of observing the system in a particular state $\\vert e_n \\rangle$ when a measurement is performed.\n",
    "   - Upon measurement, the system \"collapses\" into one of the possible states $\\vert e_n \\rangle$, and the probability of collapsing into a specific state is given by $\\vert\\alpha_n\\vert^2$.\n",
    "\n",
    "In essence, the statement highlights that in quantum mechanics, the state of a system is described probabilistically. The probability of finding the system in a particular state upon measurement is encoded in the squared modulus of the complex probability amplitudes associated with that state in the system's quantum state vector.\n",
    "\n",
    "Now according to ***Copenhagen interpretation***, the state vector, which I have said is a ray $|\\Psi\\rangle$, it has only a probabilistic interpretation.\n",
    "\n",
    "For example, Consider a a physical system and suppose we want to make a measurement of that system. For this we go for measuring energy or angular momentum or whatever the physical property we want to do.\n",
    "\n",
    "so therefore, if we want to make a measurement of this system represented by a ket $|\\Psi\\rangle$ the best we can predict is that what is the probability with which we will get a certain result. This caused a philosophical disagreement and the one of the prime opponent of this interpretation is Albert Einstein.\n",
    "\n",
    "Imagine we are playing with a toy that's covered by a blanket. We can feel the shape and size of the toy by touching the blanket, but until we uncover it, we don't know its exact appearance.\n",
    "\n",
    "In the quantum world, particles behave similarly.\n",
    "\n",
    "- They exist in many possible states at once, like the hidden toy under the blanket. When we measure or observe them, they \"choose\" a specific state, just like when we reveal the toy by lifting the blanket. Before we measure, the particle is in a superposition of states, and the act of measurement forces it into one definite state.\n",
    "\n",
    "- The Copenhagen interpretation suggests that at the quantum level, particles don't have definite properties until we measure or observe them.\n",
    "\n",
    "It also proposes that the act of measurement itself affects the outcome, influencing what state the particle will take.\n",
    "This idea challenges our classical intuition, where we expect things to have precise properties regardless of whether we observe them.\n",
    "\n",
    "1. **Probabilistic Nature:** The Copenhagen interpretation asserts that in the quantum world, the state of a system is described by a wave function (quantum state vector), denoted as $\\vert\\Psi\\rangle$ in the statement. This wave function represents all possible states the system can be in simultaneously. However, upon measurement, the system \"collapses\" into one of these states probabilistically.\n",
    "\n",
    "2. **Collapse of the Wave Function:** According to the Copenhagen interpretation, when a measurement is made on a quantum system described by the wave function $\\vert\\Psi\\rangle$, the act of measurement causes the wave function to \"collapse\" to a single state (one of the possible basis states $\\vert e_n \\rangle$) with a probability determined by the squared modulus of the probability amplitudes ($\\vert\\alpha_n\\vert^2$).\n",
    "\n",
    "3. **Observer's Role:** The Copenhagen interpretation emphasizes the role of the observer or measurement apparatus in the process. It states that until measurement occurs, the system exists in a superposition of states, and it's only upon measurement that a specific state is observed, with the probabilities given by the squared moduli of the probability amplitudes.\n",
    "\n",
    "Therefore, the probabilistic interpretation of quantum states, where the squared moduli of probability amplitudes determine the likelihood of finding a system in a particular state upon measurement, aligns with the central tenets of the Copenhagen interpretation. This interpretation forms the foundation for how quantum mechanics is understood and applied in various experimental contexts."
   ]
  },
  {
   "cell_type": "markdown",
   "id": "ec798357-b9d2-41b1-bddb-048d0f19708c",
   "metadata": {
    "jp-MarkdownHeadingCollapsed": true
   },
   "source": [
    "### Observables and Operators :"
   ]
  },
  {
   "cell_type": "markdown",
   "id": "7cf150e8-da37-431a-88b6-b6c6e102c223",
   "metadata": {},
   "source": [
    "Observable (position, momentum, energy etc.) are represented by linear, self-adjoint operators in **Hilbert Space**. An **Operator** acts on a Ket an produces another vector in same Hilbert Space.\n",
    "$$ A \\vert\\Psi\\rangle \\ =|\\Phi\\rangle\\ \\text{ or } \\langle\\Psi\\vert B\\ = \\langle\\chi\\vert$$\n",
    "\n",
    "Now we have already defined the vector space, now we also need to define operators in that vector space because it is the operations that we will do in a vector space which will take us from one vector to another.\n",
    "\n",
    "**What is an observable?** \n",
    "\n",
    "- As we mentioned that an observable could be things like a position, momentum, energy etc. whatever we would like to measure as property of the particle.\n",
    "\n",
    "- Now these are represented by, linear, self adjoint operators in the same Hilbert space.\n",
    "\n",
    "So, basically an operator acting on a given vector of the Hilbert space gives us or takes into another vector in the same space.\n",
    "\n",
    "From above snapshot we can observe that, $A \\vert\\Psi\\rangle$ the operator **A** acting on $\\vert\\Psi\\rangle$ , gives us a vector $\\vert\\Phi\\rangle$.\n",
    "- The operators are linear:\n",
    "  \n",
    "   $$ A.(a\\vert\\Psi\\rangle + b\\vert\\Phi\\rangle) = a(A\\vert\\Psi\\rangle) + b(A\\vert\\Phi\\rangle) $$\n",
    "\n",
    "- Identity operator:\n",
    "\n",
    "   $$ I.\\vert\\Psi\\rangle = \\vert\\Psi\\rangle $$\n",
    "\n",
    "- Operators are associative but are not, in general, commutative.\n",
    "\n",
    "- If there exists an operator B such that \n",
    "\n",
    "   $ BA=AB=I $ then B is called the inverse of A.\n",
    "\n",
    "All these operators we are using are oftenly referred to as **Linear Operators**.\n",
    "\n",
    "**What is a Linear Operator?**\n",
    "A linear operator means that an operator **A** acting on a linear superposition of two vectors let us suppose it acts on $\\alpha|\\Psi\\rangle + \\beta|\\Phi\\rangle$ , **$\\alpha$** and **$\\beta$** are complex numbers.\n",
    "\n",
    "$$\\boxed{\\alpha|\\Psi\\rangle + \\beta|\\Phi\\rangle = \\alpha A|\\Psi\\rangle + \\beta B|\\Phi\\rangle}$$\n",
    "\n",
    "So this is what a linearity of an operator means.\n",
    "$$\\boxed{\n",
    "\\begin{aligned}\n",
    "\\hat{H} ( \\alpha | \\Psi \\rangle + \\beta | \\Phi \\rangle ) = \\alpha \\hat{H} | \\Psi \\rangle + \\beta \\hat{H} | \\Phi \\rangle \\\\\n",
    "\\\\\n",
    "\\implies I | \\Psi \\rangle = | \\Psi \\rangle \\text{ where} I = \\text{Identity}\\\\\n",
    "\\\\ [A,B] = AB - BA \\neq 0 \\\\\n",
    "\\implies AB = BA = I \\implies B = A^{-1}\\\\\n",
    "\\end{aligned}\n",
    "}\n",
    "$$\n",
    "\n",
    "An identity operator acting on any state vector **$|\\Psi\\rangle$** gives me the same vector, it does not do anything actually.\n",
    "\n",
    "- The point that is to be noted here is that these operators, though they are associative, in the sense. If you add A with B+C or add A+B with C their result is the same. \n",
    "\n",
    "    $$\\boxed{(A+B)+C = A+(B+C)}$$\n",
    "\n",
    "- But these operators in general **do not commute**. So these operators A and B, so in general A, B commutator which is as defined as **AB-BA**, in general, is not equal to zero.\n",
    "\n",
    "- Now suppose there exists, corresponding to an operator **A** supposing there exists another operator **B**, such that **A times B is equal to B times A is equal to I (the identity)**. Then **B** is called **inverse of A** and is represented as $\\bf{A^{-1}}$.\n",
    "\n",
    "    $$\\boxed{B=A^{-1}}$$\n",
    "\n",
    "This is the Operator Relationship.\n",
    "\n",
    "**Adjoint Operator :**\n",
    "\n",
    "Adjoint of a vector is commonly represented with Adj or $\\dagger$ - Dagger.\n",
    "\n",
    "$$\n",
    "\\boxed{\n",
    "\\begin{aligned}\n",
    "\\textbf{Adjoint of an operator:}\\\\ \n",
    "\\text{The dual of the ket } A|\\Psi\\rangle \\text{ is a bra } \\langle\\Psi|A^\\dagger\\\\\n",
    "\\langle\\Phi|A|\\Psi\\rangle &= \\langle A^\\dagger\\Phi|\\Psi\\rangle \\\\\n",
    "\\langle\\Psi|A^\\dagger\\Phi\\rangle &= \\langle(A^\\dagger)^\\dagger\\Psi|\\Phi\\rangle = \\langle A\\Psi|\\Phi\\rangle \\\\\n",
    "(A^\\dagger)^\\dagger &= A\n",
    "\\end{aligned}}$$\n",
    "\n",
    "**Hermitian Operator :**\n",
    "\n",
    "Every physical variable in the Hilbert space is represented by an operator which are known as self adjoint operator or, also called hermitian operator.\n",
    "\n",
    "- Special property of an hermitian operator is that it satisfies **Adj(A)=A** or $A^\\dagger=A$.\n",
    "\n",
    "$$\n",
    "\\boxed{\n",
    "\\begin{aligned}\n",
    "\\langle \\Phi | A \\Psi \\rangle =& \\langle A^\\dagger \\Phi | \\Psi \\rangle \\\\\n",
    "(A^\\dagger)^\\dagger &= A \\\\\n",
    "\\\\ \\text{Hermitian Operators:} \\\\\n",
    "A^\\dagger = A \\\\\n",
    "\\hat{A} = \\frac{|\\alpha\\rangle\\langle\\beta|}{|\\alpha\\rangle\\langle\\beta|\\Psi\\rangle = c|\\alpha\\rangle}\n",
    "\\end{aligned}}\n",
    "$$\n",
    "Now since we said that an operator acting on a vector gives me another vector in the same space,a general representation of an operator could be of the form that it is a ket followed by a bra i.e $\\vert\\alpha\\rangle\\langle\\beta\\vert$.\n",
    "This order of Ket-followed by-Bra is important. \n",
    "\n",
    "- Let us consider Ket -> $|\\alpha\\rangle$ and bra -> $\\langle\\beta|$.\n",
    "\n",
    "- Let us consider that this ket-bra acts on any state like ket $|\\Psi\\rangle$ it gives the scalar inner product with the bra-ket operation $\\langle\\beta|\\Psi\\rangle$.\n",
    "\n",
    "- Let this scalar be C. We know that **C times a Vector Ket $|\\alpha\\rangle$** doesn't have any different physical significance from that of **Ket $|\\alpha\\rangle$**.\n",
    "\n",
    "A complex vector place a space in n dimension is usually represented by $C^n$. Since we are mostly dealing with 2D this can be represented as $C^2$. So the Basis in $C^2$ are:\n",
    "$$\\boxed{\\color{red}{\\begin{pmatrix} 0 \\\\ 1 \\\\ \\end{pmatrix} \\text{ and } \\begin{pmatrix} 1 \\\\ 0 \\\\ \\end{pmatrix}}}$$\n",
    "\n",
    "Any vector in this space can be written as a complex number times the first column vector plus another complex number times the second column vector. But, this is not the unique representation. For instance we can also have a basis with column matrices having **1** and **-1** as elements.\n",
    "\n",
    "$$\n",
    "\\begin{aligned}\n",
    "& \\text{for any }C^n \\\\\n",
    "& C^2 : \\\\\n",
    "& \\begin{pmatrix} 0 \\\\ 1 \\\\ \\end{pmatrix} \\text{ and } \\begin{pmatrix} 1 \\\\ 0 \\\\ \\end{pmatrix}\\\\\n",
    "& \\color{blue}{\\begin{pmatrix} 1 \\\\ 1 \\\\ \\end{pmatrix} \\text{ and } \\begin{pmatrix} 1 \\\\ -1 \\\\ \\end{pmatrix}}\\\\\n",
    "& C^3 : \\\\\n",
    "& \\begin{pmatrix} 1 \\\\ 0 \\\\ 0 \\end{pmatrix}, \\begin{pmatrix} 0 \\\\ 1 \\\\ 0 \\end{pmatrix} \\text{ and } \\begin{pmatrix} 0 \\\\ 0 \\\\ 1 \\end{pmatrix}\n",
    "\\end{aligned}\n",
    "$$\n",
    "\n",
    "But the difference is that these two vectors are not normalized where are the previous two vectors are normalized. We can normalize them by finding $$\\bf\\boxed{{\\frac{1}{norm(vector)} = \\frac{1}{\\sqrt{2}}}}$$ \n",
    "\n",
    "So if a **ket is represented by a column vector** and **bra is represented by a row vector**, this form is essentially what is known as a **matrix direct product**.\n",
    "\n",
    "Let us consider an example of the following matrix which is the resultant(**A**) of product of Ket and Bra operation.\n",
    "$$\n",
    "\\begin{bmatrix}\n",
    "1+2i & -5i \\\\\n",
    "3i & 4 \\\\\n",
    "\\end{bmatrix}\n",
    "$$\n",
    "\n",
    "- if we want to find the Adjoint of A then we need to solve **conjugate(A-Transpose)**. $A^T$ is given by\n",
    "$$\n",
    "\\begin{bmatrix}\n",
    "1+2i & 3i \\\\\n",
    "-5i & 4 \\\\\n",
    "\\end{bmatrix}\n",
    "$$\n",
    "\n",
    "- **Conjugate of $A^T$** is given as:\n",
    "$$\n",
    "\\begin{bmatrix}\n",
    "1-2i & -3i \\\\\n",
    "5i & 4 \\\\\n",
    "\\end{bmatrix}\n",
    "$$\n",
    "\n",
    "By this we can see that **Adj(A)!=A**.\n",
    "\n",
    "Let us conider another 3x3 Matrix B.\n",
    "$$\n",
    "\\begin{bmatrix}\n",
    "3 & 2-i & -3i \\\\\n",
    "2+i & 0 & 1-i \\\\\n",
    "3i & 1+i & 0 \\\\\n",
    "\\end{bmatrix}\n",
    "$$\n",
    "\n",
    "Here we can observe some symmetry in the matrix. This makes the **Adj(B) = B**. This means B will be an **Hermitian Matrix**.\n",
    "\n",
    "Hence, if **A** and **B** are two vectors in hilbert space of Dimension **d** then a ket followed by **A** and a bra followed by **B** has same dimension **dxd**.\n",
    "- Then that matrix product is called as **Kronecker Product or Direct Matrix Product**.\n",
    "\n",
    "Now we already knew that physical observables such as energy, angular-momentum, momentum etc are represented by self adjoint or Hermitian operator.\n",
    "- According to this postulate, any state $|\\Psi\\rangle$ has a definite value $\\lambda$ for an observable.\n",
    "\n",
    "Consider an example we need to find energy of any state $|\\Psi\\rangle$. Here the observable is Energy.\n",
    "\n",
    "- Here, we can say that energy has a particular value ,only if, the state $|\\Psi\\rangle$ happens to be an eigen state of the operator corresponding to energy with an **eigen value $\\lambda$**.\n",
    "\n",
    "$$\\boxed{\\hat{A}|\\Psi\\rangle = \\lambda|\\Psi\\rangle \\ \\text{where}\\ \\vert\\Psi\\rangle \\text{is eigen vector and} \\ \\lambda\\ \\text{is eigen value}}$$\n",
    "\n",
    "Now an arbitrary state is not necessarily an eigen state of an operator, but the if we take the collection of eigen states corresponding to a given operator in the Hilbert space then this set of eigen states form a complete basis.\n",
    "\n",
    "**What is meant by a complete basis?**\n",
    "- it simply means that an arbitrary vector in that state can be expanded in terms of the eigen states of any operator corresponding to whatever observable you have.\n",
    "In other words, I can expand an arbitrary state in terms of, a complete set of eigen states of the energy of it, or I can do the same thing in terms of the complete set of eigen states of let us say angular momentum operator.\n",
    "\n",
    "Let us consider Energy as a particular observable which we need to find out. So we need to find out eigen states of that energy.\n",
    "\n",
    "Consider the problem of Hydrogen Atom where we find that energy levels given by **Bohr's Energy conditions** as **-13.6 eV** for ground state, next higher state is having **-13.6/4 eV** and next higher state is having **-13.6/9 eV** etc.\n",
    "\n",
    "- Now the state corresponding to each one of these energy values are called **Eigen Values**\n",
    "\n",
    "By this we can say that **arbitrary state of the hydrogen atom can be expanded in terms of these eigen states corresponding to definite eigen values**.\n",
    "\n",
    "So, according to this second postulate, when we are looking at the measurement of energy, the best we can do is to predict various probabilities with which they will occur.\n",
    "- We cannot surely say that after measuring the energy states of hydrogen atom we will get the value of **-13.6eV**.\n",
    "\n",
    "Consider the basis of 2D space as discussed before. They we considered vectors of basis as:\n",
    "$$\\begin{bmatrix}1 \\\\ 0 \\\\ \\end{bmatrix}and \\begin{bmatrix}0 \\\\ 1 \\\\ \\end{bmatrix}$$\n",
    "\n",
    "But Let us Consider another basis now which are normalized basis.\n",
    "$$(1/\\sqrt{2})\\begin{bmatrix}1 \\\\ 1 \\\\ \\end{bmatrix}\\ with\\ \\lambda = 1 \\ and \\  (1/\\sqrt{2})\\begin{bmatrix}1 \\\\-1 \\\\ \\end{bmatrix} \\ with\\ \\lambda = -1$$\n",
    "\n",
    "In other words, in terms of these two bases I can expand any vector in that two dimensional space. Now these vectors are eigen states of a matrix which looks like: $$\\begin{bmatrix}0 & 1 \\\\ 1 & 0 \\\\ \\end{bmatrix}$$\n",
    "\n",
    "$Now (1/\\sqrt{2})\\begin{bmatrix}1 \\\\ 1 \\\\ \\end{bmatrix} is\\ eigen \\ state\\ of \\ the\\ operator\\ \\begin{bmatrix}0 & 1 \\\\ 1 & 0 \\\\ \\end{bmatrix}$\n",
    "\n",
    "Now so this is an eigen state of this operator with an eigen value let us consider as **$\\lambda$=+1** and the other one corresponds to **$\\lambda$=-1**.\n",
    "\n",
    "- Let us consider both basis vectors as $e_1$ & $e_2$.\n",
    "\n",
    "- Then any operator **$P_1$** corresponding to eigen state **$e_1$** is given by **$|e_1 \\rangle\\langle e_1|$**.\n",
    "- Similarly for **$P_2$** eigen state operator is given by **$|e_2 \\rangle\\langle e_2|$**.\n",
    "\n",
    "The results of ket-bra operations of the operators can be observed here.\n",
    "\n",
    "$$ P_1 \\ = \\ |e_1 \\rangle\\langle e_1| \\ = \\frac{1}{2}\\begin{bmatrix} 1 \\\\ 1\\end{bmatrix} \\begin{bmatrix} 1 & 1\\end{bmatrix} \\ = \\ \\frac{1}{2}\\begin{bmatrix} 1 & 1 \\\\ 1 & 1\\end{bmatrix} $$\n",
    "\n",
    "$$ P_2 \\ = \\ |e_2 \\rangle\\langle e_2| \\ = \\frac{1}{2}\\begin{bmatrix} 1 \\\\ -1\\end{bmatrix} \\begin{bmatrix} 1 & -1\\end{bmatrix} \\ = \\ \\frac{1}{2}\\begin{bmatrix} 1 & -1 \\\\ -1 & 1\\end{bmatrix} $$\n",
    "\n",
    "- These  **$P_1$** &  **$P_2$** are can be considered as **Projection Operator**. \n",
    "\n",
    "So from spectral theorem we can conclude the following:\n",
    "$$\\begin{bmatrix}0 & 1 \\\\ 1 & 0 \\\\ \\end{bmatrix}\\ = \\ 1* (1/2)\\begin{bmatrix}1 & 1 \\\\ 1 & 1 \\\\ \\end{bmatrix}\\ + \\ -1*  (1/2)\\begin{bmatrix}1 & -1 \\\\ -1 & 1 \\\\ \\end{bmatrix}\\ $$\n",
    "$$=>\\boxed{ \\begin{bmatrix}0 & 1 \\\\ 1 & 0 \\\\ \\end{bmatrix}\\ = \\begin{bmatrix}0 & 1 \\\\ 1 & 0 \\\\ \\end{bmatrix}\\ }$$"
   ]
  },
  {
   "cell_type": "markdown",
   "id": "e6ca7ded-549f-4026-8b67-0bc0922808e1",
   "metadata": {
    "jp-MarkdownHeadingCollapsed": true
   },
   "source": [
    "### Spectral Theorem :"
   ]
  },
  {
   "cell_type": "markdown",
   "id": "ec8df32c-8d4b-4cff-984c-1a2f6d2d3f72",
   "metadata": {},
   "source": [
    "**What is a Spectral Theorem?**\n",
    "\n",
    "The Spectral Theorem is a fundamental result in linear algebra that provides a deep understanding of the properties of Hermitian (or self-adjoint) matrices. This theorem reveals crucial insights into their diagonalizability, eigenvalues, and eigenvectors.\n",
    "\n",
    "***Statement of the Spectral Theorem:***\n",
    "\n",
    "Let *A* be a Hermitian matrix (also known as a self-adjoint matrix). The Spectral Theorem states:\n",
    "\n",
    "1. **Existence of Eigenvalues:** Every Hermitian matrix has a set of real eigenvalues (possibly repeated).\n",
    "\n",
    "2. **Orthogonal Eigenvectors:** Corresponding to each eigenvalue, there exists a set of linearly independent eigenvectors. Furthermore, eigenvectors corresponding to distinct eigenvalues are orthogonal to each other.\n",
    "\n",
    "3. **Diagonalization:** The matrix *A* can be diagonalized by a unitary transformation *U* such that $A = UDU^\\dagger$, where *D* is a diagonal matrix containing the eigenvalues of *A* and *U* is a unitary matrix formed by the eigenvectors of *A*.\n",
    "\n",
    "***Simple Explanation:***\n",
    "\n",
    "1. **Real Eigenvalues:** For Hermitian matrices, all eigenvalues are real. This is significant because it ensures stability and specific properties in various applications, including physics and optimization.\n",
    "\n",
    "2. **Orthogonal Eigenvectors:** Each eigenvalue has its set of corresponding eigenvectors. These sets are not only linearly independent but also orthogonal (perpendicular) to each other when corresponding to different eigenvalues. This orthogonality property is crucial in many applications, like quantum mechanics.\n",
    "\n",
    "3. **Diagonalization:** The Spectral Theorem guarantees that a Hermitian matrix can be broken down into a form where the matrix becomes diagonal. This diagonal matrix consists of the eigenvalues of the original matrix, and the unitary matrix contains the corresponding eigenvectors. This representation simplifies many computations and analyses.\n",
    "\n",
    "***Importance:***\n",
    "\n",
    "The Spectral Theorem plays a vital role in various areas:\n",
    "\n",
    "- **Quantum Mechanics:** It's essential for understanding observables like energy, spin, and angular momentum, which are represented by Hermitian operators.\n",
    "\n",
    "- **Signal Processing:** It's used in areas like Fourier analysis, where Hermitian matrices represent self-adjoint linear operators.\n",
    "\n",
    "- **Optimization:** In fields like machine learning, the Spectral Theorem is essential in understanding the geometry of optimization problems.\n",
    "\n",
    "In summary, the Spectral Theorem for Hermitian matrices provides deep insights into the nature of these matrices, their eigenvalues, and eigenvectors, and it has profound implications across mathematics, physics, engineering, and various scientific disciplines."
   ]
  },
  {
   "cell_type": "code",
   "execution_count": 1,
   "id": "ecad9340-b5ae-4ae1-808d-e20c6089d073",
   "metadata": {},
   "outputs": [
    {
     "name": "stdout",
     "output_type": "stream",
     "text": [
      "A= [[ 3.+0.j  0.+2.j]\n",
      " [-0.-2.j  4.+0.j]]\n",
      "******************************\n",
      "Eigenvalues: [1.43844719+0.j 5.56155281+0.j]\n",
      "******************************\n",
      "Eigenvectors:\n",
      " [[ 0.78820544+0.j         -0.        +0.61541221j]\n",
      " [-0.        +0.61541221j  0.78820544+0.j        ]]\n",
      "******************************\n",
      "\n",
      "Reconstructed A (PDP^(-1)):\n",
      " [[3.+0.j 0.+2.j]\n",
      " [0.-2.j 4.+0.j]]\n",
      "******************************\n",
      "*******Hence satisfied Spectral theorem*******\n"
     ]
    }
   ],
   "source": [
    "# Consider Below example for Spectral theorem.\n",
    "import numpy as np\n",
    "\n",
    "# Define the Hermitian matrix\n",
    "A = np.array([[3, 2j],\n",
    "              [-2j, 4]])\n",
    "print(\"A=\",A)\n",
    "print(\"******************************\")\n",
    "# Find eigenvalues and eigenvectors\n",
    "eigenvalues, eigenvectors = np.linalg.eig(A)\n",
    "print(\"Eigenvalues:\", eigenvalues)\n",
    "print(\"******************************\")\n",
    "print(\"Eigenvectors:\\n\", eigenvectors)\n",
    "print(\"******************************\")\n",
    "# Construct matrix P and D for diagonalization\n",
    "P = eigenvectors\n",
    "D = np.diag(eigenvalues)\n",
    "# Check if A = PDP^(-1)\n",
    "reconstructed_A = P @ D @ np.linalg.inv(P)\n",
    "print(\"\\nReconstructed A (PDP^(-1)):\\n\", reconstructed_A)\n",
    "print(\"******************************\")\n",
    "\n",
    "print(\"*******Hence satisfied Spectral theorem*******\")"
   ]
  },
  {
   "cell_type": "markdown",
   "id": "05fbfe9d-c7ea-4a9e-8b8c-dc77cb06eb8b",
   "metadata": {},
   "source": [
    "## Information in Single Systems :"
   ]
  },
  {
   "cell_type": "markdown",
   "id": "ea496d22-c507-4e72-af39-f4fdb0e19fb7",
   "metadata": {
    "jp-MarkdownHeadingCollapsed": true
   },
   "source": [
    "### Descriptions of Quantum Information :"
   ]
  },
  {
   "cell_type": "markdown",
   "id": "ce88bfee-dc71-49db-b805-ec0aada0529d",
   "metadata": {},
   "source": [
    "**Simplified Description :**\n",
    "\n",
    "Quantum States represented by **vectors**, and operations are represented by **Unitary Matrices**. Here, we will restrict our attention in to the comparatively *simple setting* in which a **single system** is considered in isolation. \n",
    "\n",
    "There are, in fact, **two** common mathematical descriptions of quantum information. The one introduced here is the simpler of the two. This description is **sufficient for understanding many (or perhaps most) quantum algorithms**, and is a natural place to start from a pedagogical viewpoint. \n",
    "\n",
    "But if we are considering the noise present in information then this simple approach does not provide sufficient information about them. \n",
    "\n",
    "**General Description :**\n",
    "\n",
    "A more general, and ultimately more **powerful description** of quantum information, in which quantum states are represented by **density matrices**, are to be considered.\n",
    "\n",
    "- The density matrix description is essential to the study of quantum information, for several reasons.\n",
    "\n",
    "- As examples, they can be **used to model the effects of noise on quantum computations**, or **the state of one piece of an entangled pair**.\n",
    "\n",
    "- More generally, density matrices serve as a **mathematical basis** for quantum information theory and quantum cryptography, and are quite beautiful from a mathematical perspective. "
   ]
  },
  {
   "cell_type": "markdown",
   "id": "bcf8a3dd-81bd-46c0-8f13-cc76d87933b9",
   "metadata": {
    "jp-MarkdownHeadingCollapsed": true
   },
   "source": [
    "### CLassical Information in Single Systems :"
   ]
  },
  {
   "cell_type": "markdown",
   "id": "4295e1f6-59bd-4958-9c6a-87eb98a844d7",
   "metadata": {},
   "source": [
    "To describe quantum information and how it works, we will begin with an overview of classical information.\n",
    "\n",
    "**What is the requirement for Classical Information in Quantum Computing ?**\n",
    "\n",
    "- Although quantum and classical information are different in some pretty spectacular ways, their mathematical descriptions are actually quite similar.\n",
    "\n",
    "- Classical information also serves as a familiar point of reference when studying quantum information, as well as a source of analogy that goes a surprisingly long way. \n",
    "\n",
    "- Indeed, it is not at all unreasonable to claim that one cannot truly understand quantum information without understanding classical information.\n",
    "\n",
    "- In addition to highlighting the aspects of classical information that are most relevant to an introduction to quantum information, this section introduces the Dirac notation, which is often used to describe vectors and matrices in quantum information and computation. \n",
    "\n",
    "- As it turns out, the Dirac notation is not specific to quantum information: it can equally well be used in the context of classical information, as well as for many other settings in which vectors and matrices arise."
   ]
  },
  {
   "cell_type": "markdown",
   "id": "1fec1023-4f3a-4401-84f5-b07a9b4d918f",
   "metadata": {},
   "source": [
    "#### Classical States and Probability Vectors :"
   ]
  },
  {
   "cell_type": "markdown",
   "id": "b0d7763f-f2ee-4626-b30e-701adee4599e",
   "metadata": {},
   "source": [
    "Consider that we have a system **X** which stores the information. Let's assume that this system can be in one of a finite number of classical states at each instant. \n",
    "\n",
    "- Here **classical state** should be considered as a configuration that can be recognized and described unambiguously.\n",
    "\n",
    "Let us use $\\sum$ as the notation that denotes classical-states set. For example :\n",
    "1. If $X$ is a **Bit**, then $\\sum$={0,1}.\n",
    "2. If $X$ is a **Six-sided die**, then $\\sum$={1,2,3,4,5,6}.\n",
    "3. If $X$ is a **Switch of a standard electric fan**, then $\\sum$={high,medium,low,off}.\n",
    "\n",
    "In mathematical terms, the specification of the classical states of a system are, in fact, the starting point: we define a bit to be a system that has classical states **0** and **1** and likewise for systems having different classical state sets.\n",
    "\n",
    "We naturally assume that $\\sum$ as nonempty, because it is nonsensical for a physical system to have no states at all. \n",
    "\n",
    "Although it does make sense to consider physical systems having infinitely many classical states. For the sake of convenience and brevity, we will hereafter use the term classical state set to mean any finite and nonempty set.\n",
    "\n",
    "When thinking about $X$ as a carrier of information, the different classical states of $X$ could be assigned certain meanings, leading to different outcomes or consequences. \n",
    "\n",
    "- In such cases, it may be sufficient to describe $X$ as simply being in one of its possible classical states.\n",
    "\n",
    "- For instance, if $X$ is a fan switch, we might happen to know with certainty that it is set to high.\n",
    "\n",
    "But in information processing, our knowledge of $X$ is **uncertain**. So, we represent our knowledge of the classical state of $X$ by assigning **probabilities** to each classical state, resulting in a ***probabilistic*** state.\n",
    "\n",
    "For example, if $X$ is a bit, then perhaps it is in **classical state-0** with probability of $\\boxed{\\frac{3}{4}}$ and in **classical state-1** with probability of $\\boxed{\\frac{1}{4}}$. This is called Probabilistic state of $X$.\n",
    "\n",
    "$$\\boxed{ Pr(X = 0)\\ = \\frac{3}{4}\\ and \\ Pr(X = 1)\\ = \\frac{1}{4}}$$\n",
    "\n",
    "The better way to represent this states is by using column vectors.$$\\begin{pmatrix} \\frac{3}{4} \\\\ \\frac{1}{4} \\end{pmatrix}$$\n",
    "\n",
    "The probability of the bit being **0** is placed at the **top** of the vector and the probability of the bit being **1** is placed at the **bottom**, simply because this is the conventional way to order the set **{0,1}**.\n",
    "\n",
    "In general, we can represent a probabilistic state of a system having any classical state set in the same way, as a vector of probabilities. The probabilities can be ordered in any way we choose — which is typically determined by some natural or default way to order the classical state set we're working with. \n",
    "\n",
    "To be precise, we can represent any probabilistic state through a column vector satisfying two properties:\n",
    "\n",
    "1. All entries of the vector are **nonnegative real numbers**.\n",
    "\n",
    "2. The sum of the entries is equal to **1**.\n",
    "\n",
    "Conversely, any column vector that satisfies these two properties can be taken as a representation of a probabilistic state. Hereafter, we will refer to vectors of this form as ***probability vectors***."
   ]
  },
  {
   "cell_type": "markdown",
   "id": "fc08becc-a3c1-465b-8c43-b22a078b88c6",
   "metadata": {},
   "source": [
    "#### Measuring Probabilistic Areas :"
   ]
  },
  {
   "cell_type": "markdown",
   "id": "e6a82d85-bd3f-46b8-a925-c7db882e7102",
   "metadata": {},
   "source": [
    "Now let us briefly consider what happens if we measure a system when it is in a probabilistic state. By measuring a system, we mean that we look at the system and unambiguously recognize whatever classical state it is in. Intuitively, we can never \"see\" a system in a probabilistic state; a measurement will yield exactly one of the allowed classical states.\n",
    "\n",
    "Measurement changes our knowledge of the system, and therefore changes the probabilistic state that we associate with that system: if we recognize that $\\mathsf{X}$ is in the classical state **a** $\\in \\Sigma$, then the new probability vector representing our knowledge of $\\mathsf{X}$ becomes a vector having a **1** in the entry corresponding to **a** and **0** for all other entries.\n",
    "\n",
    "This vector indicates that $\\mathsf{X}$ is in the classical state **a** with certainty, which we know having just recognized it.\n",
    "\n",
    "We denote the vector just described, meaning the vector having a **1** in the entry corresponding to **a** and **0** for all other entries, by $\\vert a \\rangle$. This vector is read as ***ket-a*** for a reason that will be explained shortly. Vectors of this sort are also called ***standard basis vectors***.\n",
    "\n",
    "For example, assuming that the system we have in mind is a bit, the standard basis vectors are given by\n",
    "$$\\boxed{\\vert 0\\rangle = \\begin{pmatrix}1\\\\[1mm] 0\\end{pmatrix} \\quad\\text{and}\\quad \\vert 1\\rangle = \\begin{pmatrix}0\\\\[1mm] 1\\end{pmatrix}}$$\n",
    "\n",
    "Notice that any two-dimensional column vector can be expressed as a linear combination of these two vectors. For example, we have\n",
    "\n",
    "$$\\boxed{\\begin{pmatrix} \\frac{3}{4}\\\\[2mm] \\frac{1}{4} \\end{pmatrix} = \\frac{3}{4}\\,\\vert 0\\rangle + \\frac{1}{4}\\,\\vert 1\\rangle}$$\n",
    "This fact naturally generalizes to any classical state set: any column vector is a linear combination over the classical states. We will often express vectors in this way.\n",
    "\n",
    "We measure a classical state $ a \\in \\Sigma $ where $\\Sigma$ is the set of all possible states. This changes the probabilistic state of $\\mathsf{X}$ (from our viewpoint). This means we recognized $\\mathsf{X}$ at certain state **a**. This means $Pr( \\mathsf{X} =a)=1$. This **Probabilistic state** of *a* is represented as $\\vert a \\rangle$.\n",
    "\n",
    "If we consider the above example of bit being in two states **{0,1}** when we measure the trasition takes place. Measuring $\\mathsf{X}$ chooses any trasistion at random i.e, transition of being in $\\vert 0 \\rangle$ or $\\vert 1 \\rangle$.\n",
    "\n",
    "Returning to the change of a probabilistic state upon being measured, we may note the following connection to our everyday experiences. Suppose we flip a fair coin, but cover up the coin before looking at it. We would then say that its probabilistic state is\n",
    "\n",
    "$$\\begin{pmatrix} \\frac{1}{2}\\\\[2mm] \\frac{1}{2} \\end{pmatrix} = \\frac{1}{2}\\,\\vert\\text{heads}\\rangle + \\frac{1}{2}\\,\\vert\\text{tails}\\rangle$$\n",
    "\n",
    "Here, the classical state set of our coin is $\\text{heads},\\text{tails}$. We'll choose to order these states as *heads first, tails second*.\n",
    "\n",
    "$$\\vert\\text{heads}\\rangle = \\begin{pmatrix}1\\\\[1mm] 0\\end{pmatrix} \\quad\\text{and}\\quad \\vert\\text{tails}\\rangle = \\begin{pmatrix}0\\\\[1mm] 1\\end{pmatrix}$$\n",
    "\n",
    "If we were to uncover the coin and look at it, we would see one of the two classical states: **heads or tails**. \n",
    "\n",
    "Supposing that the result were tails, we would naturally update our description of the probabilistic state of the coin so that it becomes $\\text{tails}\\rangle$. \n",
    "\n",
    "Of course, if we were then to cover up the coin, and then uncover it and look at it again, the classical state would still be **tails**, which is consistent with the probabilistic state being described by the vector $|\\text{tails}\\rangle$. \n",
    "\n",
    "This may seem trivial, and in some sense it is. However, quantum systems behave in an entirely analogous way, yet their measurement properties are frequently considered unusual or \"spooky\". \n",
    "\n",
    "By establishing the measurement properties of classical systems, the analogous behavior for quantum information might seem less unusual."
   ]
  },
  {
   "cell_type": "markdown",
   "id": "753b1e33-be80-4761-9a30-00955ac7ace7",
   "metadata": {},
   "source": [
    "#### Deterministic Operations :"
   ]
  },
  {
   "cell_type": "markdown",
   "id": "4791f3d6-a987-4fab-b9e4-023b6503a8b0",
   "metadata": {},
   "source": [
    "An operation is `deterministic` if the input completely determines the result without any element of chance or uncertainty. Here, we are interested in deterministic operations, where the output is entirely determined by the input.\n",
    "\n",
    "When we perform an Operation on a System, its state generally changes. In this case `deterministic` refers that the result of  the operation depends entirely on whatever the classical state the system was in before the operation was performed.\n",
    "\n",
    "- This means there is no element of **`chance`** when the deterministic operation is performed. There is no concept of randomness or uncertainty involved here.\n",
    "\n",
    "Mathematically, the deterministic operations are often represented as functions. \n",
    "\n",
    "First, there are deterministic operations, where each classical state $\\bf{a}\\in\\Sigma$ is transformed into $f(a)$ for some function $f$ of the form $\\boxed{f:\\Sigma\\rightarrow\\Sigma}$.\n",
    "\n",
    "For example, if $\\Sigma = \\{0,1\\}$, there are four functions of this form, $f_1$, $f_2$, $f_3$, and $f_4$, which can be represented by tables of values as follows:\n",
    "$$\n",
    "\\begin{array}{c|c} a & f_1(a)\\\\ \\hline 0 & 0\\\\ 1 & 0 \\end{array} \\qquad \\begin{array}{c|c} a & f_2(a)\\\\ \\hline 0 & 0\\\\ 1 & 1 \\end{array} \\qquad \\begin{array}{c|c} a & f_3(a)\\\\ \\hline 0 & 1\\\\ 1 & 0 \\end{array} \\qquad \\begin{array}{c|c} a & f_4(a)\\\\ \\hline 0 & 1\\\\ 1 & 1 \\end{array}\n",
    "$$\n",
    "\n",
    "The first and last of these functions are constant: $f_1(a) = 0$ and $f_4(a) = 1$ for each $a\\in\\Sigma$. \n",
    "\n",
    "The middle two are not constant, they are balanced, in the sense that the two possible output values occur the same number of times as we range over the possible inputs. \n",
    "\n",
    "- The function $f_2$ is the identity function: $f_2(a) = a$ for each $a\\in\\Sigma$.\n",
    "\n",
    "- And $f_3$ is the function $f_3(0) = 1$ and $f_3(1) = 0$, which is better-known as the **`NOT`** function.\n",
    "\n",
    "The actions of deterministic operations on probabilistic states can be represented by `matrix-vector multiplication`. Specifically, the matrix **M** that represents a given function $f:\\Sigma\\rightarrow\\Sigma$ is the one that satisfies\n",
    "$$ \\boxed{M \\vert a \\rangle = \\vert f(a)\\rangle} for\\ every\\ a\\in\\Sigma$$ \n",
    "\n",
    "Such a matrix always exists and is unique.\n",
    "\n",
    "For example, the matrices $M_1,\\ldots,M_4$ corresponding to the functions $f_1,\\ldots,f_4$ above are as follows:\n",
    "\n",
    "$$ M_1 = \\begin{pmatrix} 1 & 1\\\\ 0 & 0 \\end{pmatrix}, \\hspace{4mm} M_2 = \\begin{pmatrix} {1} & {0}\\\\ {0} & {1} \\end{pmatrix}, \\hspace{4mm} M_3 = \\begin{pmatrix} {0} & {1}\\\\ {1} & {0} \\end{pmatrix}, \\hspace{4mm} M_4 = \\begin{pmatrix} {0} & {0}\\\\ {1} & {1} \\end{pmatrix}$$\n",
    "\n",
    "***Matrices that represent deterministic operations always have exactly one 1 in each column, and 0 for all other entries.***\n",
    "\n",
    "The matrices $M_1$ to $M_4$ are constructed to capture the transformation of states based on each function. These matrices follow a specific pattern: a single \"1\" in each column and 0 elsewhere.\n",
    "\n",
    "A convenient way to represent matrices of these and other forms makes use of an analogous notation for row vectors to the one for column vectors discussed previously. \n",
    "\n",
    "We denote by $\\langle a \\vert$ the row vector having a $\\mathsf{1}$ in the entry corresponding to $a$ and **zero** for all other entries, for each $a\\in\\Sigma$. This vector is read as \"bra $a$\". For example, if $\\Sigma = \\{0,1\\}$, then\n",
    "\n",
    "$$ \\langle 0 \\vert = \\begin{pmatrix} 1 & 0 \\end{pmatrix} \\quad\\text{and}\\quad \\langle 1 \\vert = \\begin{pmatrix} 0 & 1 \\end{pmatrix}$$\n",
    "\n",
    "For an arbitrary choice of a classical state set $\\Sigma$, viewing row vectors and column vectors as matrices and performing the matrix multiplication $\\vert b\\rangle \\langle a\\vert$, one obtains a square matrix having a $\\mathsf{1}$ in the entry corresponding to the pair $(b, a)$, meaning that the row of the entry corresponds to $b$ and the column corresponds to $a$, and $\\mathsf{0}$ for all other entries. For example, $$\\vert 0 \\rangle \\langle 1 \\vert = \\begin{pmatrix} 0 & 1 \\\\ 0 & 0 \\end{pmatrix}$$\n",
    "\n",
    "Using this notation, for any function $f:\\Sigma\\rightarrow\\Sigma$, we may express the matrix $M$ corresponding to the function $f$ as\n",
    "\n",
    "$$\\boxed{\\color{red}{M = \\sum_{a\\in\\Sigma} \\vert f(a) \\rangle \\langle a \\vert}}$$\n",
    "\n",
    "Now, if we again think about vectors as matrices, but this time consider the multiplication $\\langle a \\vert \\vert b \\rangle$, then we obtain a $1\\times 1$matrix, which we can think about as a **`scalar`** (i.e., a number). \n",
    "\n",
    "For the sake of tidiness, we write this product as $\\color{magenta}{\\langle a \\vert b\\rangle}$ rather than $\\color{blue}{\\langle a \\vert \\vert b \\rangle}$. This product satisfies the following simple formula:\n",
    "\n",
    "$$\\boxed{\\color{magenta}{\\langle a \\vert b \\rangle = \\begin{cases} 1 & a = b\\\\ 0 & a \\neq b. \\end{cases}}}$$\n",
    "​\n",
    "Using this observation, together with the fact that matrix multiplication is `associative and linear`, we obtain\n",
    "\n",
    "$$\\boxed{\\color{green}{ M \\vert b \\rangle = \\Biggl( \\sum_{a\\in\\Sigma} \\vert f(a) \\rangle \\langle a \\vert \\Biggr) \\vert b\\rangle = \\sum_{a\\in\\Sigma} \\vert f(a) \\rangle \\langle a \\vert b \\rangle = \\vert f(b)\\rangle}}$$\n",
    "\n",
    "for each $b\\in\\Sigma$, which is what we require of $M$. Thus, the above example indicates the transformed state after applying the identity function.\n"
   ]
  },
  {
   "cell_type": "markdown",
   "id": "546f0fb1-4e05-4b34-b761-3b47daf2651e",
   "metadata": {},
   "source": [
    "#### Probabilistic Operations :"
   ]
  },
  {
   "cell_type": "markdown",
   "id": "c5648f63-4920-47d2-bdbc-a8060808fffb",
   "metadata": {},
   "source": [
    "In addition to deterministic operations, we have probabilistic operations. This means the classical operations can introduce the **`randomness`** or **`uncertainty `**.\n",
    "\n",
    "For example, consider an operation on a bit where, \n",
    "\n",
    "- if the classical state of the bit is $0$, it is left alone, (***do nothing***)\n",
    "\n",
    "- and if the classical state of the bit is $1$, it is flipped to $0$ with probability $1/2$. \n",
    "\n",
    "This operation is represented by the matrix $$\\begin{pmatrix} 1 & \\frac{1}{2}\\\\[1mm] 0 & \\frac{1}{2} \\end{pmatrix}$$\n",
    "\n",
    "For an arbitrary choice of a classical state set, we can describe the set of all probabilistic operations in mathematical terms as those that are represented by **`stochastic matrices`**, which are matrices satisfying these two properties:\n",
    "\n",
    "1. All entries are nonnegative real numbers.\n",
    "\n",
    "2. The entries in every column sum to $1$.\n",
    "\n",
    "Equivalently, stochastic matrices are matrices whose columns all form probability vectors.\n",
    "\n",
    "We can think about probabilistic operations at an intuitive level as ones where randomness might somehow be used or introduced during the operation, just like in the example above. \n",
    "\n",
    "With respect to the stochastic matrix description of a probabilistic operation, each column can be viewed as a vector representation of the probabilistic state that is generated given whatever classical state input corresponds to that column. This means *`Stochastic matrices`* represent operations where each **column is like a vector** showing the ***probabilities of different outcomes given the corresponding classical state***.\n",
    "\n",
    "We can also think about stochastic matrices as being exactly those matrices that always map probability vectors (vectors representing probabilities of different outcomes) to probability vectors. \n",
    "\n",
    "- That is, stochastic matrices always map probability vectors to probability vectors, and any matrix that always maps probability vectors to probability vectors must be a stochastic matrix.\n",
    "\n",
    "Finally, another way to think about probabilistic operations is that they are **random choices of deterministic operations**. For instance, we can think about the operation in the example above as applying either the **`identity function`** or the **`constant 0 function`**, each with probability $1/2$. This is consistent with the equation\n",
    "\n",
    "$$\\begin{pmatrix} 1 & \\frac{1}{2}\\\\[1mm] 0 & \\frac{1}{2} \\end{pmatrix} = \\frac{1}{2} \\begin{pmatrix} 1 & 0 \\\\[1mm] 0 & 1 \\end{pmatrix} + \\frac{1}{2} \\begin{pmatrix} 1 & 1 \\\\[1mm] 0 & 0 \\end{pmatrix}.$$\n",
    "\n",
    "**The matrix representing a probabilistic operation can be expressed as a combination of deterministic operations weighted by their respective probabilities.**\n",
    "\n",
    "Such an expression is always possible, for an arbitrary choice of a classical state set and any stochastic matrix with rows and columns identified with that classical state set."
   ]
  },
  {
   "cell_type": "markdown",
   "id": "e282011e-bf3a-42d3-9e6e-beee8d529be4",
   "metadata": {},
   "source": [
    "#### Compositions of probabilistic operations :"
   ]
  },
  {
   "cell_type": "markdown",
   "id": "7a970dca-e279-47ac-bd91-f3b63474030f",
   "metadata": {},
   "source": [
    "Suppose that $\\mathsf{X}$ is a system having classical state set $\\Sigma$, and $M_1,\\ldots,M_n$ are stochastic matrices representing probabilistic operations on the system $\\mathsf{X}$.\n",
    "\n",
    "If the first operation $M_1$ is applied to the probabilistic state represented by a probability vector $u$, the resulting probabilistic state is represented by the vector $M_1 u$. \n",
    "\n",
    "If we then apply the second probabilistic operation $M_2$ to this new probability vector, we obtain the probability vector\n",
    "$$\\boxed{\\color{blue}{ M_2 (M_1 u) = (M_2 M_1) u}}$$\n",
    "\n",
    "The equality follows from the fact that matrix multiplication (which includes matrix-vector multiplication as a special case) is an **`associative operation`**. Thus, the probabilistic operation obtained by composing the first and second probabilistic operations, where we first apply $M_1$ and then apply $M_2$, is represented by the matrix $M_2 M_1$, which is necessarily stochastic.\n",
    "\n",
    "More generally, composing the probabilistic operations represented by the matrices $M_1, \\ldots, M_n$ in that order, meaning that $M_1$ is applied first, $M_2$ is applied second, and so on, with $M_n$ applied last, is represented by the matrix $$ M_n, \\cdots\\, M_1$$\n",
    "\n",
    "Note that the ordering is important here: *although matrix multiplication is associative, it is not a commutative operation in general*.\n",
    "\n",
    "For example, if we have\n",
    "\n",
    "$$M_1 = \\begin{pmatrix} 1 & 1\\\\[1mm] 0 & 0 \\end{pmatrix} \\quad\\text{and}\\quad M_2 = \\begin{pmatrix} 0 & 1\\\\[1mm] 1 & 0 \\end{pmatrix}$$\n",
    "\n",
    "then,\n",
    "\n",
    "$$ M_2 M_1 = \\begin{pmatrix} 0 & 0 \\\\[1mm] 1 & 1 \\end{pmatrix} \\quad\\text{and}\\quad M_1 M_2 = \\begin{pmatrix} 1 & 1\\\\[1mm] 0 & 0 \\end{pmatrix}$$\n",
    "\n",
    "That is, the *order in which probabilistic operations are composed matters*: changing the order in which operations are applied in a composition can change the resulting operation."
   ]
  },
  {
   "cell_type": "markdown",
   "id": "0b55ce90-63ab-46a4-90ec-c3ba8c56ec6e",
   "metadata": {},
   "source": [
    "### Quantum Information in Single Systems :"
   ]
  },
  {
   "cell_type": "markdown",
   "id": "f6bfd591-35b6-45f1-ba96-0144cfbfdf6d",
   "metadata": {},
   "source": [
    "Now we move on to quantum information, where we make a different choice for the type of vector that represents a state — in this case, a quantum state — of the system being considered. \n",
    "\n",
    "Quantum information works in a very similar way to classical information but, with some key differences."
   ]
  },
  {
   "cell_type": "markdown",
   "id": "d53242c8-5a1e-4f66-ad23-98b7e3d25172",
   "metadata": {
    "jp-MarkdownHeadingCollapsed": true
   },
   "source": [
    "#### Quantum State Vectors :"
   ]
  },
  {
   "cell_type": "markdown",
   "id": "be99ea2d-745c-4b8c-94c4-84a1387da671",
   "metadata": {},
   "source": [
    "The major difference we can see between classical and Quantum information is regarding **` how we define a state`**. And the procedure to define the Quantum State largely determines how Quantum Information works.  \n",
    "\n",
    "A **`Quantum State`** of a system is represented by a *column vector* whose indices are placed in correspondence with the classical states of that system.\n",
    "\n",
    "This means The quantum state of a system is represented by a column vector, similar to ***`probabilistic states`***. As before, the indices of the vector, label the classical states of the system. \n",
    "\n",
    "Vectors representing quantum states are characterized by these two properties:\n",
    "\n",
    "1. The entries of a quantum state vector are `complex numbers`.\n",
    "\n",
    "2. The `sum of the absolute values squared of the entries` of a quantum state vector is $1$.\n",
    "\n",
    "Thus, in contrast to the probabilistic case, vectors representing quantum states need not have nonnegative real number entries, and it is the sum of the absolute values squared of the entries (as opposed to the sum of the entries) that must equal 1. \n",
    "\n",
    "Simple as these changes are, they give rise to all the differences between quantum and classical information. Any speedup from a quantum computer, or improvement in a communication protocol, ultimately derives from these simple mathematical changes.\n",
    "\n",
    "The `Euclidean norm` of a column vector defined as follows:\n",
    "\n",
    "$$\\boxed{\\color{purple}{v = \\begin{pmatrix} \\alpha_1\\\\ \\vdots\\\\ \\alpha_n \\end{pmatrix} \\implies \\| v \\| = \\sqrt{\\sum_{k=1}^n |\\alpha_k|^2}}}$$\n",
    "\n",
    "The condition that the sum of the absolute values squared of a quantum state vector equals $1$ is therefore equivalent to that vector having Euclidean norm equal to $1$. That is, quantum state vectors are unit vectors with respect to the Euclidean norm.\n",
    "\n",
    "**Examples of qubit states**\n",
    "\n",
    "The term `qubit` refers to  a quantum system whose classical state set is {0,1}. That is, a qubit is really just a bit — but by using this name we explicitly recognize that this bit can be in a quantum state.\n",
    "\n",
    "These are examples of quantum states of a qubit:\n",
    "\n",
    "$$ \\boxed{\\begin{pmatrix} 1\\\\[2mm] 0 \\end{pmatrix} = \\vert 0\\rangle \\quad\\text{and}\\quad \\begin{pmatrix} 0\\\\[2mm] 1 \\end{pmatrix} = \\vert 1\\rangle}$$\n",
    "\n",
    "$$\\color{red}{\\begin{pmatrix} \\frac{1}{\\sqrt{2}}\\\\[2mm] \\frac{1}{\\sqrt{2}} \\end{pmatrix} = \\frac{1}{\\sqrt{2}}\\,\\vert 0\\rangle + \\frac{1}{\\sqrt{2}}\\,\\vert 1\\rangle}, \\tag{1}$$ \n",
    "and \n",
    "$$\\color{blue}{\\begin{pmatrix} \\frac{1+2i}{3}\\\\[2mm] -\\frac{2}{3} \\end{pmatrix} = \\frac{1+2i}{3}\\,\\vert 0\\rangle - \\frac{2}{3}\\,\\vert 1\\rangle}$$\n",
    "\n",
    "The first two examples, $\\vert 0\\rangle$ and $\\vert 1\\rangle$ illustrate that standard basis elements are valid quantum state vectors: their entries are `complex numbers` (where the imaginary part of these numbers happens to be $0$) and computing the sum of the absolute values squared of the entries yields\n",
    "\n",
    "$$ \\vert 1\\vert^2 + \\vert 0\\vert^2 = 1 \\quad\\text{and}\\quad \\vert 0\\vert^2 + \\vert 1\\vert^2 = 1,$$\n",
    "\n",
    "as required. \n",
    "\n",
    "Similar to the classical setting, we associate the quantum state vectors $\\vert 0\\rangle$ and $\\vert 1\\rangle$ with a qubit being in the classical state $0$ or $1$, respectively, with certainty.\n",
    "\n",
    "For the other two examples, we again have `complex number` entries, and computing the sum of the absolute value squared of the entries yields\n",
    "\n",
    "$$\\boxed{\\color{red}{\\implies\\biggl\\vert\\frac{1}{\\sqrt{2}}\\biggr\\vert^2 + \\biggl\\vert\\frac{1}{\\sqrt{2}}\\biggr\\vert^2 = \\frac{1}{2} + \\frac{1}{2} = 1}}$$\n",
    "​\n",
    "and\n",
    "\n",
    "$$\\boxed{\\color{blue}{\\implies\\biggl\\vert \\frac{1+2i}{3} \\biggr\\vert^2 + \\biggl\\vert -\\frac{2}{3} \\biggr\\vert^2 = \\frac{5}{9} + \\frac{4}{9} = 1}}$$\n",
    "\n",
    "These are therefore valid quantum state vectors. \n",
    "\n",
    "Note that they are `linear combinations` of the states $\\vert 0\\rangle$ and $\\vert 1\\rangle$. We often say that these states are **`superpositions of the 0 and 1 states`**. Within the context of quantum states, `superposition` and `linear combination` are essentially synonymous.\n",
    "\n",
    "The example of a qubit state vector above is very commonly encountered — it is called the ***`plus state`*** and is denoted as follows:\n",
    "\n",
    "$$\\boxed{\\vert + \\rangle = \\frac{1}{\\sqrt{2}} \\vert 0\\rangle + \\frac{1}{\\sqrt{2}} \\vert 1\\rangle \\tag{plus state}}$$\n",
    "\n",
    "We also use the notation\n",
    "$$\\boxed{\\vert - \\rangle = \\frac{1}{\\sqrt{2}} \\vert 0\\rangle - \\frac{1}{\\sqrt{2}} \\vert 1\\rangle \\tag{minus state}}$$\n",
    "to refer to a related quantum state vector where the second entry is negative rather than positive, and we call this state the ***`minus state`***.\n",
    "\n",
    "This sort of notation, where some symbol other than one referring to a classical state appears inside of a ket, is common — we can use whatever name we wish inside of a ket to name a vector. Indeed, it is quite common to use the notation $\\vert\\Psi\\rangle$, or other names in place of $\\Psi$, to refer to an arbitrary vector that may not necessarily be a standard basis vector.\n",
    "\n",
    "Notice that if we have a vector $\\vert\\Psi\\rangle$ whose indices correspond to some classical state set $\\Sigma$, and if $a\\in\\Sigma$ is an element of this classical state set, then the (matrix) product $\\langle a\\vert \\vert \\Psi\\rangle$ *is equal to the entry of the vector* $\\vert \\Psi \\rangle$ whose index corresponds to $a$. \n",
    "\n",
    "This means The entry of the vector $\\vert\\psi\\rangle$ corresponding to the classical state $a$ is the specific value in the vector at the position indexed by $a$. For example, If $$\\boxed{\\Sigma = \\{0, 1\\}, and\\ \\vert \\Psi \\rangle = \\begin{pmatrix} x_0 \\\\ x_1 \\end{pmatrix}\\implies \\langle 0\\vert \\vert \\Psi \\rangle = x_0\\ { and } \\ \\langle 1\\vert \\vert \\Psi \\rangle = x_1}$$\n",
    "\n",
    "In simpler terms, the expression $\\langle a\\vert \\vert \\Psi\\rangle$ retrieves the specific value from the vector $\\vert \\Psi \\rangle$ corresponding to the classical state $a$. This operation is fundamental in quantum mechanics and linear algebra, where it helps extract information about specific components of quantum states.\n",
    "\n",
    "As we did when $\\vert \\Psi \\rangle$ is a `standard basis vector`, we write $\\langle a \\vert \\Psi \\rangle$ rather than $\\langle a\\vert \\vert \\Psi\\rangle$ for the sake of readability.\n",
    "\n",
    "Another example, if $\\Sigma = \\{0,1\\}$ and $\\color{blue}{\\vert \\Psi \\rangle = \\frac{1+2i}{3} \\vert 0\\rangle - \\frac{2}{3} \\vert 1\\rangle}$ then,\n",
    "\n",
    "$$\\boxed{\\vert \\Psi \\rangle = \\frac{1+2i}{3} \\vert 0\\rangle - \\frac{2}{3} \\vert 1\\rangle = \\begin{pmatrix} \\frac{1+2i}{3}\\\\[2mm] -\\frac{2}{3} \\end{pmatrix} \\tag{2} \\implies \\langle 0 \\vert \\Psi \\rangle = \\frac{1+2i}{3} \\quad\\text{and}\\quad \\langle 1 \\vert \\Psi \\rangle = -\\frac{2}{3}}$$\n",
    "\n",
    "It must be understood when using this notation that $\\langle \\Psi \\vert$ refers to the row vector obtained by taking the `conjugate-transpose` of the column vector $\\vert\\Psi\\rangle$, where the vector is transposed from a column vector to a row vector and each entry is replaced by its complex conjugate.\n",
    "\n",
    "For example, if $\\vert\\Psi\\rangle$ is the vector defined in $(2)$, then\n",
    "\n",
    "$$\\boxed{\\langle\\Psi\\vert = \\frac{1-2i}{3} \\langle 0\\vert - \\frac{2}{3} \\langle 1\\vert = \\begin{pmatrix} \\frac{1-2i}{3} & -\\frac{2}{3} \\end{pmatrix}}$$"
   ]
  },
  {
   "cell_type": "markdown",
   "id": "2fd1111a-cd90-49ca-83ce-9a3025f42ee3",
   "metadata": {},
   "source": [
    "**Quantum states of other systems :**\n",
    "\n",
    "We can consider quantum states of systems having arbitrary classical state sets.\n",
    "\n",
    "For example, here is a quantum state vector for an `electrical fan switch`:\n",
    "\n",
    "$$\\begin{pmatrix} \\frac{1}{2}\\\\[1mm] 0 \\\\[1mm] -\\frac{i}{2}\\\\[1mm] \\frac{1}{\\sqrt{2}} \\end{pmatrix} = \\frac{1}{2} \\vert\\mathrm{high}\\rangle - \\frac{i}{2} \\vert\\mathrm{low}\\rangle + \\frac{1}{\\sqrt{2}} \\vert\\mathrm{off}\\rangle$$\n",
    "\n",
    "- The assumption here is that the classical states are ordered as `high`, `medium`, `low`, and ` off`.\n",
    "\n",
    "- There may be no particular reason why one would want to consider the quantum state of an electrical fan switch, but it is possible in principle.\n",
    "\n",
    "Here's another example, this time of a `quantum decimal digit` whose classical states are $0, 1, \\ldots, 9$:\n",
    "\n",
    "$$ \\frac{1}{\\sqrt{385}} \\begin{pmatrix} 1\\\\ 2\\\\ 3\\\\ 4\\\\ 5\\\\ 6\\\\ 7\\\\ 8\\\\ 9\\\\ 10 \\end{pmatrix} = \\frac{1}{\\sqrt{385}}\\sum_{k = 0}^9 (k+1) \\vert k \\rangle$$\n",
    "\n",
    "- This example illustrates the convenience of writing state vectors using the Dirac notation.\n",
    "\n",
    "- For this particular example, the column vector representation is merely cumbersome — but if there were significantly more classical states it would become unusable. \n",
    "\n",
    "**The Dirac notation, in contrast, supports precise descriptions of large and complicated vectors in a compact form.**\n",
    "\n",
    "- The Dirac notation also allows for the expression of vectors where different aspects of the vectors are `indeterminate` (meaning unknown or not yet established). \n",
    "\n",
    "For example, for an arbitrary classical state set $\\Sigma$, we can consider the quantum state vector\n",
    "\n",
    "$$\\frac{1}{\\sqrt{|\\Sigma|}} \\sum_{a\\in\\Sigma} \\vert a \\rangle ,$$\n",
    "\n",
    "- which is a uniform superposition over the classical states in $\\Sigma$. (Here, the notation $\\vert\\Sigma\\vert$ refers to the number of elements in $\\Sigma$.)\n",
    "\n",
    "We'll encounter much more complicated expressions of quantum state vectors, where the use of column vectors would be impractical or impossible. In fact, we'll mostly abandon the column vector representation of state vectors, except for vectors having a `small number of entries` (often in the context of examples), where it may be helpful to display and examine the entries explicitly.\n",
    "\n",
    "There is one more reason why expressing state vectors using the Dirac notation is generally more convenient: *it alleviates the need to explicitly specify an ordering of the classical states (or, equivalently, the correspondence between classical states and vector indices)*. \n",
    "\n",
    "For example, a quantum state vector for a system having `classical state set` $\\{\\clubsuit,\\diamondsuit,\\heartsuit,\\spadesuit\\}$, such as\n",
    "\n",
    "$$\\frac{1}{2} \\vert\\clubsuit\\rangle + \\frac{i}{2} \\vert\\diamondsuit\\rangle - \\frac{1}{2} \\vert\\heartsuit\\rangle - \\frac{i}{2} \\vert\\spadesuit\\rangle,$$\n",
    "\n",
    "- is unambiguously described by this expression, and there really is no need to choose or specify an ordering of this classical state set in order to make sense of the expression. \n",
    "\n",
    "- In this case, it is not difficult to simply specify an ordering of the standard card suits — for instance, we could order them as follows: $\\clubsuit$, $\\diamondsuit$, $\\heartsuit$, $\\spadesuit$.\n",
    "\n",
    "- If we choose this particular ordering, the quantum state vector above would be represented by the column vector\n",
    "\n",
    "$$\\begin{pmatrix} \\frac{1}{2}\\\\[2mm] \\frac{i}{2}\\\\[2mm] -\\frac{1}{2}\\\\[2mm] -\\frac{i}{2} \\end{pmatrix}$$\n",
    "\n",
    "In general, however, it is convenient to simply ignore the question of how classical state sets are ordered, and take the view that quantum state vectors are directly indexed by classical states."
   ]
  },
  {
   "cell_type": "markdown",
   "id": "bc9377c0-1273-47e3-a95e-c9d4c6182246",
   "metadata": {},
   "source": [
    "#### Measuring Quantum States :"
   ]
  },
  {
   "cell_type": "markdown",
   "id": "f45fc5e4-80ed-4c20-9325-1a9e90d08d08",
   "metadata": {},
   "source": [
    "Next let us consider what happens when a quantum state is measured, focusing on a simple type of measurement known as a ***`standard basis measurement`***.\n",
    "\n",
    "Similar to the probabilistic setting, when a system in a quantum state is measured, the observer performing the measurement won't see a quantum state vector, but rather some classical state. In this sense, ***measurements act as the interface between quantum and classical information, through which classical information is extracted from quantum states***.\n",
    "\n",
    "The rule is simple: *if a quantum state is measured, each classical state of the system results with probability equal to the absolute value squared of the entry in the quantum state vector corresponding to that classical state*. This is known as the **` Born rule `** in quantum mechanics.\n",
    "\n",
    "Notice that this rule is consistent with the requirement that the **absolute values squared of the entries in a quantum state vector sum to 1**, as it implies that the *probabilities of different classical state measurement outcomes sum to 1*.\n",
    "\n",
    "For example, measuring the plus state\n",
    "​$$\\boxed{\\vert + \\rangle = \\frac{1}{\\sqrt{2}} \\vert 0\\rangle + \\frac{1}{\\sqrt{2}} \\vert 1\\rangle}$$\n",
    "results in the two possible outcomes, 0 and 1 with probabilities as follows.\n",
    "$$\\implies Pr(outcome\\ is\\ 0)={\\biggr\\vert\\langle 0\\vert + \\rangle\\biggr\\vert}^2 = {\\biggr\\vert{\\frac{1}{\\sqrt{2}}}\\biggr\\vert}^2 \\ =\\frac{1}{2}$$\n",
    "$$\\implies Pr(outcome\\ is\\ 1)={\\biggr\\vert\\langle 1\\vert + \\rangle\\biggr\\vert}^2 = {\\biggr\\vert{\\frac{1}{\\sqrt{2}}}\\biggr\\vert}^2 \\ =\\frac{1}{2}$$\n",
    "\n",
    "Similarly, for the minus state\n",
    "$$\\boxed{\\vert - \\rangle = \\frac{1}{\\sqrt{2}} \\vert 0\\rangle - \\frac{1}{\\sqrt{2}} \\vert 1\\rangle}$$\n",
    "results in exactly the same probabilities for the two outcomes.\n",
    "\n",
    "$$\\implies Pr(outcome\\ is\\ 0)={\\biggr\\vert\\langle 0\\vert - \\rangle\\biggr\\vert}^2 = {\\biggr\\vert{\\frac{1}{\\sqrt{2}}}\\biggr\\vert}^2 \\ =\\frac{1}{2}$$\n",
    "$$\\implies Pr(outcome\\ is\\ 1)={\\biggr\\vert\\langle 1\\vert - \\rangle\\biggr\\vert}^2 = {\\biggr\\vert{\\frac{-1}{\\sqrt{2}}}\\biggr\\vert}^2 \\ =\\frac{1}{2}$$\n",
    "\n",
    "This suggests that, as far as standard basis measurements are concerned, the `plus` and `minus` states are exactly the same.\n",
    "\n",
    "Of course, \n",
    "\n",
    "- measuring the quantum state $\\bf{\\vert 0 \\rangle}$ results in the classical state **0** with certainty,\n",
    "\n",
    "- and likewise measuring the quantum state $\\bf{\\vert 1 \\rangle}$ results in the classical state **1** with certainty.\n",
    "\n",
    "This is consistent with the identification of these quantum states with the system being in the corresponding classical state.\n",
    "\n",
    "As a final example, measuring the state\n",
    "$$\\boxed{\\color{blue}{\\vert\\Psi\\rangle \\ = \\begin{pmatrix} \\frac{1+2i}{3}\\\\[2mm] -\\frac{2}{3} \\end{pmatrix} = \\frac{1+2i}{3}\\,\\vert 0\\rangle - \\frac{2}{3}\\,\\vert 1\\rangle}}$$\n",
    "has probabilities given by\n",
    "\n",
    "$$ \\implies Pr(outcome\\ is\\ 0)={\\biggr\\vert\\langle 0\\vert \\Psi \\rangle\\biggr\\vert}^2 = {\\biggr\\vert{\\frac{1+2i}{3}}\\biggr\\vert}^2 \\ =\\frac{5}{9}$$\n",
    "$$ \\implies Pr(outcome\\ is\\ 1)={\\biggr\\vert\\langle 1\\vert \\Psi \\rangle\\biggr\\vert}^2 = {\\biggr\\vert{-\\frac{2}{3}}\\biggr\\vert}^2 \\ =\\frac{4}{9}$$"
   ]
  },
  {
   "cell_type": "markdown",
   "id": "74c406a0-e106-47df-bbd0-2c4647b18afc",
   "metadata": {
    "jp-MarkdownHeadingCollapsed": true
   },
   "source": [
    "#### Unitary Operations :"
   ]
  },
  {
   "cell_type": "markdown",
   "id": "f6d1ab9b-f016-4f83-ae81-ad7736d0881d",
   "metadata": {},
   "source": [
    "A unitary operation is a fundamental concept in linear algebra and quantum mechanics. In quantum computing, unitary operations play a central role in manipulating quantum states. A unitary operation on a quantum system preserves the norm of the state vectors and is reversible.\n",
    "\n",
    "Thus far, it may not be evident why quantum information is fundamentally different from classical information. That is, when a quantum state is measured, the **probability to obtain each classical state** is given by the **absolute value squared of the corresponding vector entry** — ***so why not simply record these probabilities in a probability vector?***\n",
    "\n",
    "The answer, at least in part, is that the `set of allowable operations` that can be performed on a *quantum state* is different than it is for classical information. \n",
    "\n",
    "Similar to the probabilistic setting, operations on quantum states are **linear mappings** — but rather than being represented by ***stochastic matrices*** as in the classical case, operations on quantum state vectors are represented by ***unitary matrices***.\n",
    "\n",
    "A square matrix $\\mathsf{U}$ having complex number entries is **unitary** if it satisfies the equations\n",
    "$$\\boxed{\\mathsf{U} \\cdot \\mathsf{U}^\\dagger = \\mathbb{1}\\ = \\mathsf{U}^\\dagger \\cdot \\mathsf{U} \\tag{3}}$$\n",
    "\n",
    "   - Here $\\mathbb{1}$ represents Identity matrix\n",
    "\n",
    "   - $\\mathsf{U}^\\dagger$ is complex conjugate of $\\mathsf{U}$ meaning the matrix obtained by transposing $\\mathsf{U}$ and taking the complex conjugate of each entry.\n",
    "$$\\mathsf{U}^\\dagger \\ = \\overline{\\mathsf{U}^T}$$\n",
    "\n",
    "If either of the two equalities numbered (3) above is true, then the other must also be true. Both equalities are equivalent to $\\mathsf{U}^\\dagger$ being the inverse of $\\mathsf{U}$ :\n",
    "$$ \\mathsf{U}^{-1} \\ =\\mathsf{U}^\\dagger $$\n",
    "\n",
    "If $\\mathsf{M}$ is not a **square matrix** then it could be $\\mathsf{M}^\\dagger\\cdot\\mathsf{M}\\ = \\mathbb{1}$ and $\\mathsf{M}^\\dagger\\cdot\\mathsf{M}\\ne \\mathbb{1}$, for instance. The equivalence of the two equalities in the third equation above is only `true for square matrices`.\n",
    "\n",
    "The condition that $\\mathsf{U}$ is **unitary** `is equivalent to` the condition that multiplication by $\\mathsf{U}$ `does not change` the **Euclidean norm** of any vector. \n",
    "\n",
    "   - This means any matrix of $\\mathcal{n\\times n}$ is **UNITARY** if and only if $$\\boxed{\\biggr\\vert\\biggr\\vert\\ \\mathsf{U}_{\\mathcal{n\\times n}}\\cdot\\vert\\Psi\\rangle\\ \\biggr\\vert\\biggr\\vert\\ = \\biggr\\vert\\biggr\\vert\\ \\vert\\Psi\\rangle\\ \\biggr\\vert\\biggr\\vert }$$ for every $\\mathcal{n}$ dimensional column vector $\\vert\\Psi\\rangle$ with complex number entries.\n",
    "\n",
    "   - Thus, because the set of all quantum state vectors is the same as the set of vectors having Euclidean norm equal to **1**, ***multiplying a unitary matrix to a quantum state vector results in another quantum state vector***. So, here $\\vert\\Psi\\rangle$ is also a **Quantum State vector**.\n",
    "\n",
    "   - **`Unitary matrices`** are exactly the set of linear mappings which always transform quantum state vectors to other quantum state vectors.\n",
    "\n",
    "   - Here is a resemblance to the **classical probabilistic** case, where operations are associated with **`stochastic matrices`**, which are the ones that ***always transform probability vectors into probability vectors***.\n",
    "\n",
    "   - ***A square matrix is unitary if and only if it doesn't change the Euclidean norm of any vector when you multiply.***\n",
    "\n",
    "***Key Characteristics of Unitary Operations:***\n",
    "\n",
    "1. **Preservation of Norm:** A unitary operation preserves the normalization of quantum states. That is, the operation doesn't change the length (or norm) of the quantum state vectors. Mathematically, for a quantum state vector $\\lvert \\psi \\rangle$, after applying a unitary operation $U$, the norm remains unchanged: $\\lVert U \\lvert \\psi \\rangle \\rVert = \\lVert \\lvert \\psi \\rangle \\rVert$.\n",
    "\n",
    "2. **Reversibility:** Unitary operations are reversible transformations. This means that for every unitary operation applied to a quantum state, there exists an inverse operation that can revert the state back to its original form.\n",
    "\n",
    "3. **Compositions of Unitary Operations:** When multiple unitary operations are applied sequentially (in a sequence known as a quantum circuit), the resulting transformation remains unitary. This property is crucial in quantum algorithms, where sequences of unitary gates represent computations.\n",
    "\n",
    "***Representation in Quantum Computing:***\n",
    "\n",
    "In the context of quantum computing, quantum gates represent unitary operations. These gates are applied to qubits (quantum bits) to perform various operations on quantum states. Examples of common unitary gates include:\n",
    "\n",
    "   - Hadamard gate\n",
    "\n",
    "   - Pauli gates (X, Y, Z)\n",
    "\n",
    "   - Controlled gates (CNOT, controlled-phase, etc.)\n",
    "\n",
    "   - Phase gates (S, T)\n",
    "\n",
    "In summary, unitary operations are essential in quantum computing as they provide reversible and norm-preserving transformations, enabling the manipulation and evolution of quantum states in a well-defined and reversible manner.\n",
    "\n",
    "***Example: Hadamard Gate as a Unitary Operation***\n",
    "\n",
    "The Hadamard gate **H** is represented by the following matrix:\n",
    "\n",
    "$$ H = \\frac{1}{\\sqrt{2}} \\begin{bmatrix} 1 & 1 \\\\ 1 & -1 \\end{bmatrix} $$\n",
    "\n",
    "This gate performs a transformation on a single qubit, and it's often used in quantum algorithms, including quantum teleportation and the creation of superposition states.\n",
    "\n",
    "**Application of Hadamard Gate:**\n",
    "\n",
    "Suppose we have a single qubit state initially in the basis state$\\lvert 0 \\rangle$ also denoted as $$\\implies\\lvert\\psi\\rangle = \\lvert 0 \\rangle$$\n",
    "\n",
    "   - Applying the Hadamard gate **(H)** to this qubit state **$|0\\rangle$** yields:\n",
    "\n",
    "$$ H \\lvert 0 \\rangle = \\frac{1}{\\sqrt{2}} \\begin{bmatrix} 1 & 1 \\\\ 1 & -1 \\end{bmatrix} \\begin{bmatrix} 1 \\\\ 0 \\end{bmatrix} = \\frac{1}{\\sqrt{2}} \\begin{bmatrix} 1 \\\\ 1 \\end{bmatrix} = \\frac{\\lvert 0 \\rangle + \\lvert 1 \\rangle}{\\sqrt{2}} $$\n",
    "\n",
    "This represents the state $\\frac{\\lvert 0 \\rangle + \\lvert 1 \\rangle}{\\sqrt{2}}$, which is a superposition state known as the equal superposition of $\\lvert 0 \\rangle$ and $\\lvert 1 \\rangle$.\n",
    "\n",
    "**Properties of Hadamard Gate:**\n",
    "\n",
    "1. **Norm Preservation:** The Hadamard gate is unitary, preserving the normalization of the state. The squared magnitudes of coefficients sum up to 1, maintaining the norm.\n",
    "\n",
    "2. **Reversibility:** Applying **H** gate twice (i.e., **H.H = I**) returns the qubit back to its original state, showing the reversibility property of unitary operations.\n",
    "\n",
    "The Hadamard gate exemplifies a unitary operation that transforms a quantum state by creating superposition, a crucial concept in quantum computing. It maintains the norm of the state vector and is reversible, meeting the criteria of a unitary operation.\n",
    "\n",
    "So these are the operators which decide how a state develops with time (**from Postulate-5**) when you are not making a measurement. \n",
    "\n",
    "The process of measurement makes it a discontinuous process, makes the state collapse to one of the eigen states or classical states of the system, and so therefore, the quantum computing deals with two aspects of this computation process. For example One is, it means that when it is passing through transistors and gates. \n",
    "\n",
    "Here we are not trying to find out intermediate results, the system simply follows a unitary operation, but the moment we decide we want to do a Read operation to find out what is the result, we must make a measurement and when we make a measurement we can at best get a probabilistic answer. And the result that we will get will be one of the permitted results, but we have no way of telling which result we will get.\n",
    "\n",
    "Let's use an analogy with a coin to explain the concept of a unitary operation, particularly the **Hadamard gate** in quantum computing.\n",
    "\n",
    "***Analogy: Coin Flipping with a Hadamard-like Operation***\n",
    "\n",
    "Imagine a classical coin that can be in one of two states: **heads (H) or tails (T)**. Initially, the coin is in a known state, say heads (H).\n",
    "\n",
    "1. **Starting State:**\n",
    "\n",
    "   - We represent the initial state of the coin as **$\\vert H \\rangle$**.\n",
    "\n",
    "2. **Hadamard-like Operation:**\n",
    "\n",
    "   - Now, let's introduce an operation similar to a Hadamard gate, denoted as **C**.\n",
    "\n",
    "   - This **C** operation represents a magical coin flipper, which, when applied to the state **$\\vert H \\rangle$**, transforms the coin's state using a particular rule:\n",
    "  \n",
    "     $$C(\\lvert H \\rangle) = \\frac{\\lvert H \\rangle + \\lvert T \\rangle}{\\sqrt{2}}$$\n",
    "\n",
    "3. **Interpretation:**\n",
    "\n",
    "   - Applying this **C** operation to the initial state **$\\vert H \\rangle$** results in a superposition of states: $$\\frac{\\lvert H \\rangle + \\lvert T \\rangle}{\\sqrt{2}}$$.\n",
    "\n",
    "   - This represents a magical coin state where, due to the operation, the coin is both in a `state of heads and tails simultaneously`.\n",
    "\n",
    "4. **Properties:**\n",
    "\n",
    "   - **Norm Preservation:** Just like in quantum computing, this magical operation preserves the norm, ensuring that the probabilities of the coin being in either heads or tails add up to 1.\n",
    "\n",
    "   - **Reversibility:** Applying the same operation again (**C**.**C** = **I**) would bring the coin back to its initial state of heads.\n",
    "\n",
    "In this analogy, the **C** operation serves as an analogy to the Hadamard gate in quantum computing. \n",
    "\n",
    "   - It transforms the state of a classical coin, creating a superposition where the coin appears to be in both heads and tails simultaneously. "
   ]
  },
  {
   "cell_type": "markdown",
   "id": "97570d40-00c6-4db1-a4d8-92dec49e3020",
   "metadata": {},
   "source": [
    "#### Important examples of unitary operations on qubits :"
   ]
  },
  {
   "cell_type": "markdown",
   "id": "1948f5ad-4f12-4525-80a0-c2d98a081c91",
   "metadata": {
    "jp-MarkdownHeadingCollapsed": true
   },
   "source": [
    "The following list describes some important unitary operations on qubits.\n",
    "\n",
    "***1. Pauli Operations :***\n",
    "\n",
    "The four Pauli matrices are as follows:\n",
    "$$\\boxed{\\color{red}{ \\mathbb{1} = \\begin{pmatrix} 1 & 0 \\\\ 0 & 1\\end{pmatrix}}\\hspace{4mm}\\color{green}{\\sigma_x\\ = \\begin{pmatrix}0&1\\\\1&0 \\end{pmatrix}}\\hspace{4mm}\\color{blue}{\\sigma_y\\ = \\begin{pmatrix}0& -i\\\\ i&0 \\end{pmatrix}}\\hspace{4mm}\\color{magenta}{\\sigma_z\\ = \\begin{pmatrix}1&0\\\\0&-1 \\end{pmatrix}}}$$\n",
    "\n",
    "Where, $\\mathbb{1}$ refers to identity matrix. \n",
    "\n",
    "A common notation, which we will often use, is $\\mathsf{X}\\ =\\color{green}{\\sigma_x}$, $\\mathsf{Y}\\ =\\color{blue}{\\sigma_y}$, and $\\mathsf{Z}\\ =\\color{magenta}{\\sigma_z}$— but we need to be aware that the letters $\\mathsf{X},\\mathsf{Y},\\mathsf{Z}$ are also commonly used for other purposes. \n",
    "\n",
    "   - For suppose, The $\\mathsf{X}\\text{ or }\\color{green}{\\sigma_x}$ operation is also called a **bit flip** or a **NOT** operation because it induces this action on bits:\n",
    "     $$\\boxed{\\mathsf{X}\\vert 0\\rangle\\ = \\vert 1\\rangle \\text{ and } \\mathsf{X}\\vert 1\\rangle\\ = \\vert 0\\rangle}$$\n",
    "   \n",
    "   - Similarly, the $\\mathsf{Z}\\text{ or }\\color{magenta}{\\sigma_z}$ operation is also called a **Phase Flip** because of the following action :\n",
    "     $$\\boxed{\\mathsf{X}\\vert 0\\rangle\\ = \\vert 0\\rangle \\text{ and } \\mathsf{X}\\vert 1\\rangle\\ = -\\vert 1\\rangle}$$\n",
    "\n",
    "***2. Hadamard Operations :***\n",
    "\n",
    "The Hadamard operation is described by this matrix:\n",
    "$$\\boxed{\\mathsf{H}\\ =\\begin{pmatrix}\\frac{1}{\\sqrt{2}} & \\frac{1}{\\sqrt{2}} \\\\ \\frac{1}{\\sqrt{2}} & \\frac{-1}{\\sqrt{2}}\\end{pmatrix}}$$\n",
    "\n",
    "***3. Phase Operation :***\n",
    "\n",
    "A phase operation is one described by the matrix:\n",
    "$$\\boxed{ \\mathsf{P}_\\theta\\ = \\begin{pmatrix}1&0 \\\\ 0& {e}^{i\\theta} \\end{pmatrix} }$$\n",
    "\n",
    "For any choice of a real number $\\theta$. The operations are:\n",
    "$$\\boxed{\\color{red}{\\mathsf{S}\\ =\\mathsf{P}_\\frac{\\Pi}{2}\\ =\\begin{pmatrix}1&0\\\\0&i\\end{pmatrix}} \\text{ and }\\color{blue}{\\mathsf{T} =\\mathsf{P}_\\frac{\\Pi}{4}\\ =\\begin{pmatrix}1&0\\\\0&\\frac{1+i}{\\sqrt{2}}\\end{pmatrix}}}$$\n",
    "are particularly important examples. Other examples include $\\mathbb{1}\\ =\\mathsf{P}_0 \\text{ and } \\mathsf{Z}\\ =\\mathsf{P}_\\Pi$.\n",
    "\n",
    "These matrices or gates are also called as **Clifford** gates.\n",
    "\n",
    "All of the matrices just defined are **unitary**, and therefore `represent quantum operations on a single qubit`.\n",
    "\n",
    "For example, here is a calculation that verifies that $\\mathsf{H}$ is unitary:\n",
    "$$\\boxed{ {\\begin{pmatrix}\\frac{1}{\\sqrt{2}} & \\frac{1}{\\sqrt{2}} \\\\ \\frac{1}{\\sqrt{2}} & \\frac{-1}{\\sqrt{2}}\\end{pmatrix}}^\\dagger . \\begin{pmatrix}\\frac{1}{\\sqrt{2}} & \\frac{1}{\\sqrt{2}} \\\\ \\frac{1}{\\sqrt{2}} & \\frac{-1}{\\sqrt{2}} \\end{pmatrix} = \n",
    "\\begin{pmatrix}\\frac{1}{\\sqrt{2}} & \\frac{1}{\\sqrt{2}} \\\\ \\frac{1}{\\sqrt{2}} & \\frac{-1}{\\sqrt{2}} \\end{pmatrix} .\n",
    "\\begin{pmatrix}\\frac{1}{\\sqrt{2}} & \\frac{1}{\\sqrt{2}} \\\\ \\frac{1}{\\sqrt{2}} & \\frac{-1}{\\sqrt{2}} \\end{pmatrix} \\ = \n",
    "\\begin{pmatrix}{\\frac{1}{2}+\\frac{1}{2}} & {\\frac{1}{2}-\\frac{1}{2}} \\\\ {\\frac{1}{2}-\\frac{1}{2}} & {\\frac{1}{2}+\\frac{1}{2}} \\end{pmatrix}\\  \\implies \\begin{pmatrix}1 & 0 \\\\ 0 & 1 \\end{pmatrix}}$$\n",
    "\n",
    "Here's the action of the Hadamard operation on a few qubit state vectors.\n",
    "$$\\mathsf{H}\\vert 0 \\rangle\\ = \\begin{pmatrix}\\frac{1}{\\sqrt{2}} & \\frac{1}{\\sqrt{2}} \\\\ \\frac{1}{\\sqrt{2}} & \\frac{-1}{\\sqrt{2}}\\end{pmatrix}\\times\\begin{pmatrix}1\\\\0 \\end{pmatrix}\\ =\\begin{pmatrix}\\frac{1}{\\sqrt{2}}\\\\\\frac{1}{\\sqrt{2}} \\end{pmatrix}\\ =\\vert + \\rangle\\tag{a}$$\n",
    "$$\\mathsf{H}\\vert 1 \\rangle\\ = \\begin{pmatrix}\\frac{1}{\\sqrt{2}} & \\frac{1}{\\sqrt{2}} \\\\ \\frac{1}{\\sqrt{2}} & \\frac{-1}{\\sqrt{2}}\\end{pmatrix}\\times\\begin{pmatrix}0\\\\1 \\end{pmatrix}\\ =\\begin{pmatrix}\\frac{1}{\\sqrt{2}}\\\\\\frac{-1}{\\sqrt{2}} \\end{pmatrix}\\ =\\vert - \\rangle\\tag{b}$$\n",
    "$$\\mathsf{H}\\vert + \\rangle\\ = \\begin{pmatrix}\\frac{1}{\\sqrt{2}} & \\frac{1}{\\sqrt{2}} \\\\ \\frac{1}{\\sqrt{2}} & \\frac{-1}{\\sqrt{2}}\\end{pmatrix}\\times\\begin{pmatrix}\\frac{1}{\\sqrt{2}}\\\\\\frac{1}{\\sqrt{2}} \\end{pmatrix}\\ =\\begin{pmatrix}1\\\\0 \\end{pmatrix}\\ =\\vert 0 \\rangle\\tag{c}$$\n",
    "$$\\mathsf{H}\\vert - \\rangle\\ = \\begin{pmatrix}\\frac{1}{\\sqrt{2}} & \\frac{1}{\\sqrt{2}} \\\\ \\frac{1}{\\sqrt{2}} & \\frac{-1}{\\sqrt{2}}\\end{pmatrix}\\times\\begin{pmatrix}\\frac{1}{\\sqrt{2}}\\\\\\frac{-1}{\\sqrt{2}} \\end{pmatrix}\\ =\\begin{pmatrix}0\\\\1 \\end{pmatrix}\\ =\\vert 1 \\rangle\\tag{d}$$\n",
    "$$\\boxed{\\mathsf{H}\\biggr(\\frac{1+2i}{3}\\,\\vert 0\\rangle - \\frac{2}{3}\\,\\vert 1\\rangle\\biggr) = \\begin{pmatrix}\\frac{1}{\\sqrt{2}} & \\frac{1}{\\sqrt{2}} \\\\ \\frac{1}{\\sqrt{2}} & \\frac{-1}{\\sqrt{2}}\\end{pmatrix}\\times\\begin{pmatrix} \\frac{1+2i}{3}\\\\[2mm] -\\frac{2}{3} \\end{pmatrix}\\implies\\begin{pmatrix} \\frac{-1+2i}{3\\sqrt{2}}\\\\[2mm] \\frac{3+2i}{3\\sqrt{2}} \\end{pmatrix}\\ = \\frac{-1+2i}{3\\sqrt{2}}\\cdot\\vert 0\\rangle + \\frac{3+2i}{3\\sqrt{2}}\\cdot\\vert 1\\rangle }$$\n",
    "\n",
    "The examples (a),(b),(c), and (d) are the important transformations of Hadamard Gates.\n",
    "\n",
    "Consider a situation in which a qubit is prepared in one of the two quantum states $∣+\\rangle$ and $∣−\\rangle$, but where it is not known to us which one it is. Measuring either state produces the same output distribution as the other: **0** and **1** both appear with equal probability $\\frac{1}{2}$. \n",
    "\n",
    "So, doing this provides no information about which of the two states $∣+\\rangle$ and $∣−\\rangle$ was originally prepared. However, if we apply a Hadamard operation and then measure, \n",
    "\n",
    "   - we obtain the outcome **0** with certainty if the original state was $∣+\\rangle$\n",
    "\n",
    "   - and we obtain the outcome 1, again with certainty, if the original state was $∣−\\rangle$.\n",
    "\n",
    "Thus, the quantum states $∣+\\rangle$ and $∣−\\rangle$ can be discriminated perfectly. This reveals that sign changes, or more generally changes to the **phases** (which are also traditionally called *`arguments`*) **of the complex number entries of a quantum state vector, can significantly change that state**.\n",
    "\n",
    "Here's another example, this time of the action of a $\\mathsf{T}$ operation on a plus state.\n",
    "$$\\begin{aligned}\\mathsf{T}\\vert +\\rangle\\ &=\\mathsf{T}\\biggr(\\frac{1}{\\sqrt{2}}\\vert 0\\rangle\\ + \\frac{1}{\\sqrt{2}}\\vert 1\\rangle\\biggr)\\ \\\\ &=\\frac{1}{\\sqrt{2}}\\mathsf{T}\\vert 0\\rangle \\ +\\frac{1}{\\sqrt{2}}\\mathsf{T} \\vert 1\\rangle\\\\ &= \\frac{1}{\\sqrt{2}}\\vert 0\\rangle \\ +\\frac{1+i}{2} \\vert 1\\rangle\\end{aligned}$$\n",
    "\n",
    "Notice here that we did not bother to convert to the equivalent matrix/vector forms, and instead used the linearity of matrix multiplication together with the formulas\n",
    "$$\\mathsf{T}\\vert 0\\rangle \\ = \\vert 0\\rangle \\hspace{4mm} \\text{and} \\hspace{4mm} \\mathsf{T} \\vert 1\\rangle = \\frac{1+i}{2} \\vert 1\\rangle$$\n",
    "Where $\\mathsf{T}$ is a **clifford gate** which is also represented as $\\mathsf{P}_{\\frac{\\Pi}{4}}$.\n",
    "\n",
    "Along similar lines, we may compute the result of applying a Hadamard operation to the quantum state vector just obtained $\\mathsf{T}\\vert +\\rangle$:\n",
    "$$\\boxed{\\begin{aligned}\n",
    "\\mathsf{H}\\biggr(\\frac{1}{\\sqrt{2}}\\vert 0\\rangle \\ +\\frac{1+i}{2} \\vert 1\\rangle\\biggr)\\ &= \\frac{1}{\\sqrt{2}}\\mathsf{H}\\vert 0\\rangle \\ +\\frac{1+i}{2}\\mathsf{H} \\vert 1\\rangle \\\\\n",
    "&= \\frac{1}{\\sqrt{2}}\\vert +\\rangle \\ +\\frac{1+i}{2} \\vert -\\rangle \\\\\n",
    "&= \\biggr(\\frac{1}{2}\\vert 0\\rangle + \\frac{1}{2}\\vert 0\\rangle \\biggr) + \\biggr(\\frac{1+i}{2\\sqrt{2}}\\vert 0\\rangle - \\frac{1+i}{2\\sqrt{2}}\\vert 0\\rangle \\biggr) \\\\\n",
    "&= \\biggr(\\frac{1}{2} + \\frac{1+i}{2\\sqrt{2}}\\biggr)\\vert 0\\rangle  + \\biggr(\\frac{1}{2} - \\frac{1+i}{2\\sqrt{2}}\\biggr)\\vert 1\\rangle\n",
    "\\end{aligned}}\n",
    "$$\n",
    "\n",
    "The two approaches — \n",
    "\n",
    "- one where we explicitly convert to matrix representations\n",
    "\n",
    "- and the other where we use linearity and plug in the actions of an operation on standard basis states — are equivalent.\n",
    "\n",
    "We can use whichever one is more convenient in the case at hand."
   ]
  },
  {
   "cell_type": "markdown",
   "id": "3a03fb7e-335c-44e7-beb4-5072f62ef69f",
   "metadata": {},
   "source": [
    "#### Compositions of Unitary Operations :"
   ]
  },
  {
   "cell_type": "markdown",
   "id": "852182d8-3d2b-4cfe-918b-fd658d47105c",
   "metadata": {},
   "source": [
    "Compositions of unitary operations are represented by matrix multiplication, just like we had in the probabilistic setting. For example, if we first apply a Hadamard operation, followed by the $\\mathsf{S}$ operation, followed by another Hadamard operation, the resulting operation (which we'll name $\\mathsf{R}$) is as follows:\n",
    "\n",
    "$$\\mathsf{R}\\ =\\mathsf{H}\\mathsf{S}\\mathsf{H}\\ = \\begin{pmatrix}\\frac{1}{\\sqrt{2}} & \\frac{1}{\\sqrt{2}} \\\\ \\frac{1}{\\sqrt{2}} & \\frac{-1}{\\sqrt{2}}\\end{pmatrix}\\begin{pmatrix}1&0\\\\0&i\\end{pmatrix}\\begin{pmatrix}\\frac{1}{\\sqrt{2}} & \\frac{1}{\\sqrt{2}} \\\\ \\frac{1}{\\sqrt{2}} & \\frac{-1}{\\sqrt{2}}\\end{pmatrix}\\ = \\begin{pmatrix}\\frac{1+i}{2} & \\frac{1-i}{2} \\\\ \\frac{1-i}{2} & \\frac{1+i}{2}\\end{pmatrix} $$\n",
    "\n",
    "This unitary operation $\\mathsf{R}$ is an interesting example. By applying this operation twice, which is equivalent to **squaring** its matrix representation, we obtain a ***NOT*** operation:\n",
    "$$\\boxed{\\implies\\mathsf{R}^2\\ ={\\begin{pmatrix}\\frac{1+i}{2} & \\frac{1-i}{2} \\\\ \\frac{1-i}{2} & \\frac{1+i}{2}\\end{pmatrix}}^2\\ = \\begin{pmatrix}1&0\\\\0&i\\end{pmatrix}\\ =\\mathsf{S}}$$\n",
    "\n",
    "That is, $\\mathsf{R}$ is a **square root of NOT operation**. Such a behavior, where the same operation is applied twice to yield a NOT operation, is not possible for a classical operation on a single bit. This is related to the fact that you ***`can't take the square root of a negative number`*** and stay on the real line."
   ]
  },
  {
   "cell_type": "markdown",
   "id": "1b8362fd-5f75-4c76-b2a8-aa22f8d48574",
   "metadata": {
    "jp-MarkdownHeadingCollapsed": true
   },
   "source": [
    "## Examples :"
   ]
  },
  {
   "cell_type": "markdown",
   "id": "932bbb4d-a8bc-4c2f-b77d-81c5f45e24d2",
   "metadata": {},
   "source": [
    "Qiskit uses the Python programming language, so before discussing Qiskit specifically it may be helpful to very briefly discuss matrix and vector computations in Python. In Python, matrix and vector computations can be performed using the array class from the **NumPy** library (which includes many additional components for numerical computation).\n",
    "\n",
    "Here is an example of a code cell that defines two vectors, ket0 and ket1 , corresponding to the qubit state vectors $∣0\\rangle$ and $∣1\\rangle$, and displays their average."
   ]
  },
  {
   "cell_type": "code",
   "execution_count": 2,
   "id": "74ef90bb-eaf3-4a87-b6e7-b328e5a25b42",
   "metadata": {},
   "outputs": [
    {
     "data": {
      "text/plain": [
       "array([0.5, 0.5])"
      ]
     },
     "metadata": {},
     "output_type": "display_data"
    }
   ],
   "source": [
    "from numpy import array\n",
    "\n",
    "ket0 = array([1, 0])\n",
    "ket1 = array([0, 1])\n",
    "\n",
    "display(ket0 / 2 + ket1 / 2)"
   ]
  },
  {
   "cell_type": "code",
   "execution_count": 3,
   "id": "528b2f49-8dca-4f8b-a8a4-89c1b27d5099",
   "metadata": {},
   "outputs": [
    {
     "data": {
      "text/plain": [
       "array([[1. , 1. ],\n",
       "       [0.5, 0. ]])"
      ]
     },
     "execution_count": 3,
     "metadata": {},
     "output_type": "execute_result"
    }
   ],
   "source": [
    "#We can also use \"array\" to create matrices that represent operations.\n",
    "M1 = array([[1, 1], [0, 0]])\n",
    "M2 = array([[1, 1], [1, 0]])\n",
    "\n",
    "M1 / 2 + M2 / 2"
   ]
  },
  {
   "cell_type": "code",
   "execution_count": 4,
   "id": "cad331c2-a9dc-4a2c-8e1a-c6696669c74d",
   "metadata": {},
   "outputs": [
    {
     "data": {
      "text/plain": [
       "array([1, 0])"
      ]
     },
     "metadata": {},
     "output_type": "display_data"
    },
    {
     "data": {
      "text/plain": [
       "array([[2, 1],\n",
       "       [0, 0]])"
      ]
     },
     "metadata": {},
     "output_type": "display_data"
    },
    {
     "data": {
      "text/plain": [
       "array([[1, 1],\n",
       "       [1, 1]])"
      ]
     },
     "metadata": {},
     "output_type": "display_data"
    }
   ],
   "source": [
    "#Matrix multiplication (including matrix-vector multiplication as a special case) \n",
    "#can be performed using the \"matmul\" function from NumPy :\n",
    "\n",
    "from numpy import matmul\n",
    "\n",
    "display(matmul(M1, ket1))\n",
    "display(matmul(M1, M2))\n",
    "display(matmul(M2, M1))"
   ]
  },
  {
   "cell_type": "markdown",
   "id": "df2babcb-37ef-45b5-93ca-777c4eb1af59",
   "metadata": {},
   "source": [
    "### Examples on states, measurements and Operators :"
   ]
  },
  {
   "cell_type": "markdown",
   "id": "14ce77fb-3b03-4e58-9123-45aa072b10d1",
   "metadata": {
    "jp-MarkdownHeadingCollapsed": true
   },
   "source": [
    "\n",
    "#### Defining and displaying state vectors: \n",
    "\n",
    "Qiskit's Statevector class provides functionality for defining and manipulating quantum state vectors. The following code cell imports the Statevector class and defines a few vectors using it. (Note that we need the sqrt function from the NumPy library to compute the square roots for the vector u .)"
   ]
  },
  {
   "cell_type": "code",
   "execution_count": 5,
   "id": "ee989393-199e-443d-995b-6f313bc1ac7a",
   "metadata": {},
   "outputs": [
    {
     "name": "stdout",
     "output_type": "stream",
     "text": [
      "State vectors u, v, and w have been defined.\n"
     ]
    }
   ],
   "source": [
    "from qiskit.quantum_info import Statevector\n",
    "from numpy import sqrt\n",
    "\n",
    "u = Statevector([1 / sqrt(2), 1 / sqrt(2)])\n",
    "v = Statevector([(1 + 2.0j) / 3, -2 / 3])\n",
    "w = Statevector([1 / 3, 2 / 3])\n",
    "\n",
    "print(\"State vectors u, v, and w have been defined.\")"
   ]
  },
  {
   "cell_type": "markdown",
   "id": "7d9e8b66-c51a-43bf-ba3d-7f361d4076d4",
   "metadata": {},
   "source": [
    "The Statevector class provides a **draw** method for displaying state vectors, including latex and text options for different visualizations, as this code cell demonstrates:"
   ]
  },
  {
   "cell_type": "code",
   "execution_count": 6,
   "id": "514cc723-fd14-46ec-a8f0-5c80439e552c",
   "metadata": {},
   "outputs": [
    {
     "data": {
      "text/latex": [
       "$$\\frac{\\sqrt{2}}{2} |0\\rangle+\\frac{\\sqrt{2}}{2} |1\\rangle$$"
      ],
      "text/plain": [
       "<IPython.core.display.Latex object>"
      ]
     },
     "metadata": {},
     "output_type": "display_data"
    },
    {
     "data": {
      "text/plain": [
       "[ 0.33333333+0.66666667j,-0.66666667+0.j        ]"
      ]
     },
     "metadata": {},
     "output_type": "display_data"
    }
   ],
   "source": [
    "display(u.draw(\"latex\"))\n",
    "display(v.draw(\"text\"))"
   ]
  },
  {
   "cell_type": "markdown",
   "id": "60ec5aff-62a1-44f1-98ce-2c9513c2fa85",
   "metadata": {},
   "source": [
    "The Statevector class also includes the **is_valid** method, which checks to see *if a given vector is a valid quantum state vector* (i.e., that it has Euclidean norm equal to 1):"
   ]
  },
  {
   "cell_type": "code",
   "execution_count": 7,
   "id": "75fd6b73-57bb-48f6-ba6b-d45ea514b664",
   "metadata": {},
   "outputs": [
    {
     "data": {
      "text/plain": [
       "True"
      ]
     },
     "metadata": {},
     "output_type": "display_data"
    },
    {
     "data": {
      "text/plain": [
       "False"
      ]
     },
     "metadata": {},
     "output_type": "display_data"
    }
   ],
   "source": [
    "display(u.is_valid())\n",
    "display(w.is_valid())"
   ]
  },
  {
   "cell_type": "markdown",
   "id": "b720b384-7d9d-4d81-8522-ef292ae84138",
   "metadata": {},
   "source": [
    "Next we will see one way that measurements of quantum states can be simulated in Qiskit, using the **measure** method from the *Statevector class*.\n",
    "\n",
    "First, we create a ***qubit state vector v*** and then display it."
   ]
  },
  {
   "cell_type": "code",
   "execution_count": 8,
   "id": "59c860d7-099e-4e3a-832d-76e0c8c23dcb",
   "metadata": {},
   "outputs": [
    {
     "data": {
      "text/latex": [
       "$$(\\frac{1}{3} + \\frac{2 i}{3}) |0\\rangle- \\frac{2}{3} |1\\rangle$$"
      ],
      "text/plain": [
       "<IPython.core.display.Latex object>"
      ]
     },
     "execution_count": 8,
     "metadata": {},
     "output_type": "execute_result"
    }
   ],
   "source": [
    "v = Statevector([(1 + 2.0j) / 3, -2 / 3])\n",
    "v.draw(\"latex\")"
   ]
  },
  {
   "cell_type": "markdown",
   "id": "e55ad927-8311-4a33-b318-b897b474e669",
   "metadata": {},
   "source": [
    "Next, running the measure method simulates a **standard basis measurement**. It returns the result of that measurement, plus the new quantum state of our system after that measurement."
   ]
  },
  {
   "cell_type": "code",
   "execution_count": 9,
   "id": "12e65c41-71d2-4699-bca7-0b6594ec23bf",
   "metadata": {},
   "outputs": [
    {
     "data": {
      "text/plain": [
       "('0',\n",
       " Statevector([0.4472136+0.89442719j, 0.       +0.j        ],\n",
       "             dims=(2,)))"
      ]
     },
     "execution_count": 9,
     "metadata": {},
     "output_type": "execute_result"
    }
   ],
   "source": [
    "v.measure()"
   ]
  },
  {
   "cell_type": "markdown",
   "id": "2e2897ab-dc2d-4a01-a80b-6ab28cb53d05",
   "metadata": {},
   "source": [
    "Measurement outcomes are probabilistic, so the same method can return different results. Try running this cell a few times to see this.\n",
    "\n",
    "As an aside, Statevector will throw an error if the measure method is applied to an invalid quantum state vector. \n",
    "\n",
    "Statevector also comes with a sample_counts method that allows for the simulation of any number of measurements on the system. \n",
    "\n",
    "For example, the following cell shows the outcome of measuring the vector v **1000** times, which (with high probability) results in the outcome **0** approximately about **541** of the **1000** trials and the the outcome **1** approximately about **459** out of the **1000** trials). \n",
    "\n",
    "- The cell also demonstrates the plot_histogram function for visualizing the results."
   ]
  },
  {
   "cell_type": "code",
   "execution_count": 10,
   "id": "c2da94c6-485d-4e5e-98d0-d08b944005e3",
   "metadata": {},
   "outputs": [
    {
     "data": {
      "text/plain": [
       "{'0': 570, '1': 430}"
      ]
     },
     "metadata": {},
     "output_type": "display_data"
    },
    {
     "data": {
      "image/png": "[encoded data removed]",
      "text/plain": [
       "<Figure size 700x500 with 1 Axes>"
      ]
     },
     "execution_count": 10,
     "metadata": {},
     "output_type": "execute_result"
    }
   ],
   "source": [
    "from qiskit.visualization import plot_histogram\n",
    "\n",
    "statistics = v.sample_counts(1000)\n",
    "display(statistics)\n",
    "plot_histogram(statistics)"
   ]
  },
  {
   "cell_type": "markdown",
   "id": "bccda322-0af0-4bb9-9241-76b746cbb9ab",
   "metadata": {},
   "source": [
    "Running the cell multiple times and trying different numbers of samples in place of **1000** may be helpful for developing some intuition for how the number of trials influences the estimated probabilities."
   ]
  },
  {
   "cell_type": "code",
   "execution_count": 11,
   "id": "11586e16-559b-4e75-b892-f3b5bcef74b3",
   "metadata": {},
   "outputs": [
    {
     "data": {
      "text/plain": [
       "{'0': 54, '1': 46}"
      ]
     },
     "metadata": {},
     "output_type": "display_data"
    },
    {
     "data": {
      "image/png": "[encoded data removed]",
      "text/plain": [
       "<Figure size 700x500 with 1 Axes>"
      ]
     },
     "execution_count": 11,
     "metadata": {},
     "output_type": "execute_result"
    }
   ],
   "source": [
    "#if we consider only 100 samples\n",
    "statistics = v.sample_counts(100)\n",
    "display(statistics)\n",
    "plot_histogram(statistics)"
   ]
  },
  {
   "cell_type": "markdown",
   "id": "0ffb87ca-f6f1-427c-9d27-c947df3307a9",
   "metadata": {},
   "source": [
    "#### Performing operations with \"Operator\" and \"Statevector\" :\n",
    "\n",
    "   - Unitary operations can be defined and performed on state vectors in Qiskit using the Operator class, as in the example that follows."
   ]
  },
  {
   "cell_type": "code",
   "execution_count": 12,
   "id": "fa4f3d57-3970-4aad-92cf-352995e066f4",
   "metadata": {},
   "outputs": [
    {
     "data": {
      "text/latex": [
       "$$ |0\\rangle$$"
      ],
      "text/plain": [
       "<IPython.core.display.Latex object>"
      ]
     },
     "execution_count": 12,
     "metadata": {},
     "output_type": "execute_result"
    }
   ],
   "source": [
    "from qiskit.quantum_info import Operator\n",
    "\n",
    "X = Operator([[0, 1], [1, 0]])\n",
    "Y = Operator([[0, -1.0j], [1.0j, 0]])\n",
    "Z = Operator([[1, 0], [0, -1]])\n",
    "H = Operator([[1 / sqrt(2), 1 / sqrt(2)], [1 / sqrt(2), -1 / sqrt(2)]])\n",
    "S = Operator([[1, 0], [0, 1.0j]])\n",
    "T = Operator([[1, 0], [0, (1 + 1.0j) / sqrt(2)]])\n",
    "\n",
    "v = Statevector([1, 0])\n",
    "\n",
    "v.draw(\"latex\")"
   ]
  },
  {
   "cell_type": "markdown",
   "id": "113369c9-91cd-442b-9cb2-dd2523c95a79",
   "metadata": {},
   "source": [
    "$$\n",
    "\\begin{aligned}\n",
    "X&=\\begin{pmatrix}0 &1 \\\\ 1&0 \\end{pmatrix}\n",
    "Y=\\begin{pmatrix}0 &-i \\\\ i&0 \\end{pmatrix}\n",
    "Z=\\begin{pmatrix}1 &0 \\\\ 0&-1 \\end{pmatrix}\\\\\n",
    "H&=\\begin{pmatrix}\\frac{1}{\\sqrt{2}} &\\frac{1}{\\sqrt{2}} \\\\ \\frac{1}{\\sqrt{2}}&\\frac{-1}{\\sqrt{2}} \\end{pmatrix}\n",
    "S=\\begin{pmatrix}1 &0 \\\\ 0&i \\end{pmatrix}\n",
    "T=\\begin{pmatrix}1 &0 \\\\ 0&\\frac{1+i}{\\sqrt{2}} \\end{pmatrix}\n",
    "\\end{aligned}\n",
    "$$"
   ]
  },
  {
   "cell_type": "code",
   "execution_count": 13,
   "id": "f55b57cf-106b-4036-806a-80614102318c",
   "metadata": {},
   "outputs": [
    {
     "data": {
      "text/latex": [
       "$$\\frac{\\sqrt{2}}{2} |0\\rangle+\\frac{\\sqrt{2}}{2} |1\\rangle$$"
      ],
      "text/plain": [
       "<IPython.core.display.Latex object>"
      ]
     },
     "execution_count": 13,
     "metadata": {},
     "output_type": "execute_result"
    }
   ],
   "source": [
    "v = v.evolve(H)\n",
    "\n",
    "v.draw(\"latex\")"
   ]
  },
  {
   "cell_type": "markdown",
   "id": "9a7d1518-bd8b-428b-839f-7b8a5f3a2e79",
   "metadata": {},
   "source": [
    "Here hadamard gate ***H*** is applied on v. We know that \n",
    "$$\\begin{aligned}v \\ &=\\vert 0\\rangle\\ = \\begin{pmatrix}1\\\\0\\end{pmatrix}\\\\ H&=\\begin{pmatrix}\\frac{1}{\\sqrt{2}} &\\frac{1}{\\sqrt{2}} \\\\ \\frac{1}{\\sqrt{2}}&\\frac{-1}{\\sqrt{2}} \\end{pmatrix}\\end{aligned}$$\n",
    "\n",
    "Now let us try to perform the operation of Hadamard on v:\n",
    "$$\\begin{aligned}\n",
    "H\\cdot v \\ &= \\begin{pmatrix}\\frac{1}{\\sqrt{2}} &\\frac{1}{\\sqrt{2}} \\\\ \\frac{1}{\\sqrt{2}}&\\frac{-1}{\\sqrt{2}} \\end{pmatrix} \\cdot \\begin{pmatrix}1\\\\0\\end{pmatrix} \\\\\n",
    "&= \\begin{pmatrix}\\frac{1}{\\sqrt{2}}+0 \\\\ \\frac{1}{\\sqrt{2}}+0 \\end{pmatrix} \\\\\n",
    "&= \\begin{pmatrix}\\frac{1}{\\sqrt{2}} \\\\ \\frac{1}{\\sqrt{2}} \\end{pmatrix}\\\\\n",
    "\\implies H\\cdot v &= \\frac{1}{\\sqrt{2}}\\begin{pmatrix}1\\\\0\\end{pmatrix} + \\frac{1}{\\sqrt{2}}\\begin{pmatrix}0\\\\1\\end{pmatrix}\\\\\n",
    "\\implies H\\cdot v &= \\frac{\\sqrt{2}}{2}\\begin{pmatrix}1\\\\0\\end{pmatrix} + \\frac{\\sqrt{2}}{2}\\begin{pmatrix}0\\\\1\\end{pmatrix}\\\\\n",
    "\\implies H\\cdot v &= \\frac{\\sqrt{2}}{2}\\vert 0\\rangle + \\frac{\\sqrt{2}}{2}\\vert 1\\rangle\\\\\n",
    "\\end{aligned}\n",
    "$$"
   ]
  },
  {
   "cell_type": "code",
   "execution_count": 14,
   "id": "66892dea-173d-4876-b4e5-e06b0aeb761d",
   "metadata": {},
   "outputs": [
    {
     "data": {
      "text/latex": [
       "$$\\frac{\\sqrt{2}}{2} |0\\rangle+(\\frac{1}{2} + \\frac{i}{2}) |1\\rangle$$"
      ],
      "text/plain": [
       "<IPython.core.display.Latex object>"
      ]
     },
     "execution_count": 14,
     "metadata": {},
     "output_type": "execute_result"
    }
   ],
   "source": [
    "v = v.evolve(T)\n",
    "\n",
    "v.draw(\"latex\")"
   ]
  },
  {
   "cell_type": "markdown",
   "id": "6fa05df3-37ba-4318-93c5-56a15b334b9b",
   "metadata": {},
   "source": [
    "now applying T gate to the above response.\n",
    "\n",
    "$$\\begin{aligned}\n",
    "T\\cdot(H\\cdot v)\\ &=\\begin{pmatrix}1 &0\\\\0 &\\frac{1+i}{\\sqrt{2}}\\end{pmatrix}\\cdot\\begin{pmatrix}\\frac{1}{\\sqrt{2}} \\\\ \\frac{1}{\\sqrt{2}}\\end{pmatrix} \\\\\n",
    "T\\cdot(H\\cdot v)\\ &= \\begin{pmatrix}\\frac{1}{\\sqrt{2}}+0 \\\\ 0+\\frac{1+i}{2}\\end{pmatrix}\\\\\n",
    "&=\\begin{pmatrix}\\frac{1}{\\sqrt{2}} \\\\ \\frac{1+i}{2}\\end{pmatrix}\\ = \\frac{1}{\\sqrt{2}}\\vert 0\\rangle + \\frac{1+i}{2}\\vert 1\\rangle\\\\\n",
    "\\implies T\\cdot(H\\cdot v)\\ &= \\frac{\\sqrt{2}}{2}\\vert 0\\rangle\\ + \\frac{1+i}{2}\\vert 1\\rangle\n",
    "\\end{aligned}$$"
   ]
  },
  {
   "cell_type": "code",
   "execution_count": 15,
   "id": "7e3ab982-29ae-4d42-9069-b82896872453",
   "metadata": {},
   "outputs": [
    {
     "data": {
      "text/latex": [
       "$$(0.8535533906 + 0.3535533906 i) |0\\rangle+(0.1464466094 - 0.3535533906 i) |1\\rangle$$"
      ],
      "text/plain": [
       "<IPython.core.display.Latex object>"
      ]
     },
     "execution_count": 15,
     "metadata": {},
     "output_type": "execute_result"
    }
   ],
   "source": [
    "v = v.evolve(H)\n",
    "\n",
    "v.draw(\"latex\")"
   ]
  },
  {
   "cell_type": "markdown",
   "id": "cbcb2ed5-015d-4914-9de3-045ffcb43e08",
   "metadata": {},
   "source": [
    "Let's apply the Hadamard gate $H$ to the updated state vector $T.H.v$:\n",
    "\n",
    "\n",
    "The Hadamard gate matrix is:\n",
    "\n",
    "$$ H = \\frac{1}{\\sqrt{2}} \\begin{bmatrix} 1 & 1 \\\\ 1 & -1 \\end{bmatrix} $$\n",
    "\n",
    "And the current updated state vector is:\n",
    "\n",
    "$$ T\\cdot H\\cdot v = \\frac{\\sqrt{2}}{2}\\lvert 0 \\rangle + \\frac{1+i}{2}\\lvert 1 \\rangle $$\n",
    "\n",
    "Now, let's perform the matrix-vector multiplication:\n",
    "\n",
    "$$ H\\cdot(T\\cdot H\\cdot v) = \\frac{1}{\\sqrt{2}} \\begin{bmatrix} 1 & 1 \\\\ 1 & -1 \\end{bmatrix} \\left(\\frac{\\sqrt{2}}{2}\\lvert 0 \\rangle + \\frac{1+i}{2}\\lvert 1 \\rangle\\right) $$\n",
    "\n",
    "Simplifying this, we get:\n",
    "\n",
    "$$ H\\cdot(T\\cdot H\\cdot v) =  \\begin{bmatrix} \\frac{1}{2} + \\frac{1+i}{2\\sqrt{2}} \\\\ \\frac{1}{2} - \\frac{1+i}{2\\sqrt{2}} \\end{bmatrix} $$\n",
    "\n",
    "Combine the terms:\n",
    "\n",
    "$$ H\\cdot(T\\cdot H\\cdot v) = \\frac{1}{2} \\begin{bmatrix} 1 + \\frac{1+i}{\\sqrt{2}} \\\\ 1 - \\frac{1+i}{\\sqrt{2}} \\end{bmatrix} $$\n",
    "\n",
    "So, after applying the Hadamard gate to the updated state vector, we should obtain:\n",
    "\n",
    "$$ H\\cdot(T\\cdot H\\cdot v) = \\frac{1}{2}\\biggr[ \\left(1 + \\frac{1+i}{\\sqrt{2}}\\right)\\lvert 0 \\rangle + \\left(1 - \\frac{1+i}{\\sqrt{2}}\\right)\\lvert 1 \\rangle\\biggr] $$\n",
    "\n",
    "and so on.."
   ]
  },
  {
   "cell_type": "code",
   "execution_count": 16,
   "id": "af4ad123-92ae-4409-a0cd-a6a53365c7a7",
   "metadata": {},
   "outputs": [
    {
     "data": {
      "text/latex": [
       "$$(0.8535533906 + 0.3535533906 i) |0\\rangle+(0.3535533906 - 0.1464466094 i) |1\\rangle$$"
      ],
      "text/plain": [
       "<IPython.core.display.Latex object>"
      ]
     },
     "execution_count": 16,
     "metadata": {},
     "output_type": "execute_result"
    }
   ],
   "source": [
    "v = v.evolve(T)\n",
    "\n",
    "v.draw(\"latex\")"
   ]
  },
  {
   "cell_type": "code",
   "execution_count": 17,
   "id": "1999a307-fc86-4bd7-85c3-f876294a019b",
   "metadata": {},
   "outputs": [
    {
     "data": {
      "text/latex": [
       "$$(0.8535533906 + 0.3535533906 i) |0\\rangle+(-0.3535533906 + 0.1464466094 i) |1\\rangle$$"
      ],
      "text/plain": [
       "<IPython.core.display.Latex object>"
      ]
     },
     "execution_count": 17,
     "metadata": {},
     "output_type": "execute_result"
    }
   ],
   "source": [
    "v = v.evolve(Z)\n",
    "\n",
    "v.draw(\"latex\")"
   ]
  },
  {
   "cell_type": "markdown",
   "id": "f0ba4b83-e8c0-4f13-b6fa-615ed8964d3f",
   "metadata": {},
   "source": [
    "#### Looking ahead toward quantum circuits :"
   ]
  },
  {
   "cell_type": "markdown",
   "id": "01ffd543-0087-4ece-a8ed-3efd0c92069d",
   "metadata": {},
   "source": [
    "we have Qiskit's **QuantumCircuit** class for creating Quantum circuits. "
   ]
  },
  {
   "cell_type": "code",
   "execution_count": 18,
   "id": "f6bea149-acd1-453b-a891-fbe8b613bc33",
   "metadata": {},
   "outputs": [
    {
     "data": {
      "text/html": [
       "<pre style=\"word-wrap: normal;white-space: pre;background: #fff0;line-height: 1.1;font-family: &quot;Courier New&quot;,Courier,monospace\">   ┌───┐┌───┐┌───┐┌───┐┌───┐\n",
       "q: ┤ H ├┤ T ├┤ H ├┤ T ├┤ Z ├\n",
       "   └───┘└───┘└───┘└───┘└───┘</pre>"
      ],
      "text/plain": [
       "   ┌───┐┌───┐┌───┐┌───┐┌───┐\n",
       "q: ┤ H ├┤ T ├┤ H ├┤ T ├┤ Z ├\n",
       "   └───┘└───┘└───┘└───┘└───┘"
      ]
     },
     "execution_count": 18,
     "metadata": {},
     "output_type": "execute_result"
    }
   ],
   "source": [
    "from qiskit import QuantumCircuit\n",
    "\n",
    "circuit = QuantumCircuit(1)\n",
    "\n",
    "circuit.h(0)\n",
    "circuit.t(0)\n",
    "circuit.h(0)\n",
    "circuit.t(0)\n",
    "circuit.z(0)\n",
    "\n",
    "circuit.draw()"
   ]
  },
  {
   "cell_type": "markdown",
   "id": "55a3e85c-35df-4815-ab00-2531919df197",
   "metadata": {},
   "source": [
    "This Quantum circuit is the circuit that shows unitary operations performed on State vector **v** in the perivious example.\n",
    "\n",
    "The operations are applied ***sequentially***, starting on the left and ending on the right in the figure. Let us first initialize a starting quantum state vector and then evolve that state according to the sequence of operations."
   ]
  },
  {
   "cell_type": "code",
   "execution_count": 20,
   "id": "2dc8babe-3ed7-41fd-aeae-0a655804914b",
   "metadata": {},
   "outputs": [
    {
     "data": {
      "text/latex": [
       "$$(0.8535533906 + 0.3535533906 i) |0\\rangle+(-0.3535533906 + 0.1464466094 i) |1\\rangle$$"
      ],
      "text/plain": [
       "<IPython.core.display.Latex object>"
      ]
     },
     "execution_count": 20,
     "metadata": {},
     "output_type": "execute_result"
    }
   ],
   "source": [
    "ket0 = Statevector([1, 0])\n",
    "v = ket0.evolve(circuit)\n",
    "v.draw(\"latex\")"
   ]
  },
  {
   "cell_type": "markdown",
   "id": "667bc05e-c198-43b2-919a-1eaea3a8bbd7",
   "metadata": {},
   "source": [
    "Finally, let's simulate the result of running this experiment (i.e., preparing the state $\\vert 0\\rangle$, applying the sequence of operations represented by the circuit, and measuring) **4000** times."
   ]
  },
  {
   "cell_type": "code",
   "execution_count": 21,
   "id": "e316da0d-b020-4a5e-84ff-d938843e5054",
   "metadata": {},
   "outputs": [
    {
     "data": {
      "image/png": "[encoded data removed]",
      "text/plain": [
       "<Figure size 700x500 with 1 Axes>"
      ]
     },
     "execution_count": 21,
     "metadata": {},
     "output_type": "execute_result"
    }
   ],
   "source": [
    "statistics = v.sample_counts(4000)\n",
    "plot_histogram(statistics)"
   ]
  },
  {
   "cell_type": "markdown",
   "id": "74390f61-cc7f-463b-bab1-c6de129686ea",
   "metadata": {},
   "source": [
    "## Bloch Sphere Representation :"
   ]
  },
  {
   "cell_type": "markdown",
   "id": "ba3feb0a-09eb-4a0c-a6fe-bbb182c2f65b",
   "metadata": {},
   "source": [
    "The Bloch Sphere is a graphical representation used in quantum mechanics to visualize the state of a two-level quantum system, such as a qubit. Here's a simple explanation of the Bloch Sphere:\n",
    "\n",
    "1. **Qubits and Quantum States:**\n",
    "\n",
    "   - In classical computing, bits can exist in one of two states: 0 or 1. In quantum computing, we have qubits, which can exist in multiple states simultaneously due to the principles of superposition.\n",
    "\n",
    "2. **Bloch Sphere Basics:**\n",
    "\n",
    "   - The Bloch Sphere is a spherical representation where each point on the surface of the sphere corresponds to a possible quantum state of a qubit.\n",
    "\n",
    "3. **Spherical Coordinates:**\n",
    "\n",
    "   - The sphere is defined using spherical coordinates: $\\theta$ (theta) and $\\phi$ (phi).\n",
    "\n",
    "   - $\\theta$ represents the **polar angle**, indicating how much the state is aligned with the 'up' axis.\n",
    "\n",
    "   - $\\phi$ represents the **azimuthal angle**, indicating the rotation around the 'up' axis.\n",
    "\n",
    "4. **Polar and Azimuthal Angles:**\n",
    "\n",
    "   - For any qubit state, we can find a unique set of $\\theta$ and $\\phi$ values that determine its **position** on the Bloch Sphere.\n",
    "\n",
    "5. **Equator and Poles:**\n",
    "\n",
    "   - The equator of the sphere represents all possible superpositions of the 0 and 1 states.\n",
    "\n",
    "   - The poles represent the pure states 0 and 1.\n",
    "\n",
    "6. **Superposition:**\n",
    "\n",
    "   - States on the equator are superpositions of 0 and 1, meaning the qubit has some probability of being in both states simultaneously.\n",
    "\n",
    "7. **Bloch Vector:**\n",
    "\n",
    "   - The state of a qubit is often represented by a vector called the **Bloch vector**.\n",
    "\n",
    "   - The length of the vector represents the **probability amplitude** of the qubit being in the 0 or 1 state.\n",
    "\n",
    "   - The direction of the vector corresponds to the angles $\\theta$ and $\\phi$ on the Bloch Sphere.\n",
    "\n",
    "9. **Measurement:**\n",
    "\n",
    "   - When we measure a qubit, it **collapses** to one of the poles (0 or 1) based on the probabilities determined by the Bloch vector.\n",
    "\n",
    "11. **Visualization Tool:**\n",
    "   \n",
    "   - The Bloch Sphere is a useful tool for visualizing quantum gates and operations, helping to understand how they manipulate the quantum state.\n",
    "\n",
    "In summary, the Bloch Sphere provides an intuitive way to grasp the complex nature of quantum states, superposition, and measurement in a two-level quantum system like a qubit. It's a handy visualization tool for understanding and working with quantum computing concepts.\n",
    "\n",
    "A qubit, the fundamental unit of quantum information, can be in a superposition of two basis states: $|0\\rangle$ and $|1\\rangle$. The state of a qubit is typically represented as:\n",
    "\n",
    "$$ \\lvert \\psi \\rangle = \\alpha \\lvert 0 \\rangle + \\beta \\lvert 1 \\rangle $$\n",
    "\n",
    "Where:\n",
    "- $|0\\rangle$ and $|1\\rangle$ are complex numbers known as probability amplitudes, satisfying the normalization condition $$(|\\alpha|^2 + |\\beta|^2 = 1)$$\n",
    "\n",
    "**Bloch Sphere Coordinates:**\n",
    "\n",
    "The qubit state vector $|\\psi\\rangle$ is associated with three spherical coordinates: $\\theta$, $\\phi$, and the radius ***r = 1***.\n",
    "\n",
    "1. **Radius (r = 1):** The Bloch sphere has a fixed radius of 1, representing the normalization constraint of the qubit state vector.\n",
    "\n",
    "2. **Angles (&theta; and &phi;):** \n",
    "\n",
    "   - $\\theta$ represents the angle between the state vector and the *z*-axis (polar angle).\n",
    "\n",
    "   - $\\phi$ represents the angle in the **xy**-plane measured counterclockwise from the positive *x*-axis (azimuthal angle).\n",
    "  \n",
    "Operations or gates applied to qubits correspond to transformations on the Bloch sphere. For instance, a Hadamard gate rotates the state vector around specific axes on the sphere."
   ]
  },
  {
   "cell_type": "markdown",
   "id": "8f6b1d50-787b-4802-aed0-7712497563f7",
   "metadata": {},
   "source": [
    "### General equation of Bloch Sphere :"
   ]
  },
  {
   "attachments": {
    "6d8cfa99-1732-443a-bf15-010c5cfc517c.png": {
     "image/png": "[encoded data removed]"
    }
   },
   "cell_type": "markdown",
   "id": "bcc5f76d-3019-43e8-b654-99fe1a2ed79a",
   "metadata": {},
   "source": [
    "Pauli matrices form the basis for many quantum gates in quantum computing. Operations such as X-gate (bit-flip), Y-gate (bit and phase-flip), and Z-gate (phase-flip) are represented by these matrices.\n",
    "\n",
    "The four Pauli matrices are as discussed before:\n",
    "$$\\boxed{\\color{red}{ \\mathbb{1} = \\begin{pmatrix} 1 & 0 \\\\ 0 & 1\\end{pmatrix}}\\hspace{4mm}\\color{green}{\\sigma_x\\ = \\begin{pmatrix}0&1\\\\1&0 \\end{pmatrix}}\\hspace{4mm}\\color{blue}{\\sigma_y\\ = \\begin{pmatrix}0& -i\\\\ i&0 \\end{pmatrix}}\\hspace{4mm}\\color{magenta}{\\sigma_z\\ = \\begin{pmatrix}1&0\\\\0&-1 \\end{pmatrix}}}$$\n",
    "\n",
    "The Bloch Sphere, which is a visual representation of qubit states, relies on Pauli matrices to describe the rotation and manipulation of quantum states.\n",
    "\n",
    "Each one of the the pauli matrices $\\sigma_x$,$\\sigma_y$,$\\sigma_z$ has an eigen values of **+1** corresponding to state $\\begin{bmatrix} 1 \\\\ 0 \\\\ \\end{bmatrix}$ and **-1** corresponding to state $\\begin{bmatrix} 0 \\\\ 1 \\\\ \\end{bmatrix}$\n",
    "\n",
    "Let us try to find out pauli matrix for any arbitrary direction, which is denoted as $\\sigma_n$. This arbitrary direction has the following vector components:\n",
    "$$\\boxed{\\begin{aligned} \n",
    "\\hat{x} &= r\\sin\\theta\\cdot\\cos\\phi \\\\\n",
    "\\hat{y} &= r\\sin\\theta\\cdot\\sin\\phi \\\\\n",
    "\\hat{z} &= r\\cos\\theta \n",
    "\\end{aligned}}\n",
    "$$\n",
    "\n",
    "If we consider **r=1** that makes $\\sigma_n$ (***Pauli matrix along arbitrary direction n***) as $\\sigma_z\\cos{\\theta}$. This makes the diagonal elements of $\\sigma_n$ as $\\cos{\\theta}$ and $-\\cos{\\theta}$.\n",
    "\n",
    "$$\\implies \\sigma_z\\cos\\theta = \\begin{bmatrix} \\cos\\theta & 0 \\\\ 0 & -\\cos\\theta \\\\ \\end{bmatrix} \\tag{a}$$\n",
    "\n",
    "Similiarly,\n",
    "$$\\implies \\sigma_x(\\sin\\theta\\cos\\phi) = \\begin{bmatrix} 0 & \\sin\\theta\\cos\\phi \\\\ \\sin\\theta\\cos\\phi & 0 \\\\ \\end{bmatrix}\\tag{b} $$\n",
    "$$\\implies \\sigma_y(\\sin\\theta\\sin\\phi) = \\begin{bmatrix} 0 & -i\\sin\\theta\\sin\\phi \\\\ i\\sin\\theta\\sin\\phi & 0 \\\\ \\end{bmatrix}\\tag{c} $$\n",
    "\n",
    "So therefore, from (1),(2),(3)\n",
    "$$\\begin{aligned} \n",
    "\\implies \\sigma_n =& \\sigma_x\\cdot\\hat{x} + \\sigma_y\\cdot\\hat{y} + \\sigma_z\\cdot\\hat{z} \\\\\n",
    "\\implies \\sigma_n =& \\begin{bmatrix} 0 & \\sin\\theta\\cos\\phi \\\\ \\sin\\theta\\cos\\phi & 0 \\\\ \\end{bmatrix}\\ + \\begin{bmatrix} 0 & -i\\sin\\theta\\sin\\phi \\\\ i\\sin\\theta\\sin\\phi & 0 \\\\ \\end{bmatrix}\\ + \\begin{bmatrix} \\cos\\theta & 0 \\\\ 0 & -\\cos\\theta \\\\ \\end{bmatrix}\n",
    "\\end{aligned}\n",
    "$$\n",
    "\n",
    "So the resultant pauli matrix for any arbitrary direction n is given by \n",
    "$$\\boxed{ \\sigma_n\\ = \\begin{bmatrix} \\cos\\theta & e^{-i\\phi}\\sin\\theta \\\\ e^{i\\phi}\\sin\\theta & -\\cos\\theta \\end{bmatrix}}$$\n",
    "\n",
    "The eigen values of $\\sigma_n$ is can be found by:\n",
    "$$\\begin{aligned}\n",
    "\\det [\\sigma_n - \\lambda\\cdot I] = 0\\\\\n",
    "\\implies \\det \\biggr[ \\begin{bmatrix}\\cos\\theta & e^{-i\\phi}\\sin\\theta \\\\ e^{i\\phi}\\sin\\theta & -\\cos\\theta \\end{bmatrix}\\lambda\\cdot\\begin{bmatrix} 1 & 0 \\\\ 0 & 1 \\\\ \\end{bmatrix} \\biggr] &= 0 \\\\\n",
    "\\implies \\det \\begin{bmatrix} \\cos\\theta-\\lambda & e^{-i\\phi}\\sin\\theta \\\\ e^{i\\phi}\\sin\\theta & -\\cos\\theta-\\lambda \\end{bmatrix}\\ &= 0 \\\\\n",
    "\\\\ \\implies (\\cos\\theta - \\lambda)\\cdot(-\\cos\\theta - \\lambda)\\ - \\ (e^{i\\phi}\\sin\\theta\\cdot e^{-i\\phi}\\sin\\theta) \\ &= 0 \\\\\n",
    "\\end{aligned}\n",
    "$$\n",
    "on further solving we get $\\lambda = \\pm 1$.\n",
    "\n",
    "We have seen that eigen values of all Pauli matrices are $\\pm 1$. So even if we take any $n^{th}$ direction it also gives the same eigen value $\\pm 1$.\n",
    "\n",
    "Now we can use the same matrix to find out what are eigen states associated with these eigen values $\\pm 1$.\n",
    "\n",
    "Let us calculate the eigen state for the corresponding eigen value **+1** as it is the standard convention for the pictorial representation.\n",
    "$$eigen\\ state\\ \\lvert \\theta,\\phi \\rangle = \\begin{bmatrix} \\cos\\frac{\\theta}{2} \\\\ e^{i\\phi}\\sin\\frac{\\theta}{2} \\end{bmatrix} $$\n",
    "\n",
    "The corresponding pictorial representation of this state is called Bloch sphere which is given below. This Bloch sphere is a sphere of unit radius(so we made **r=1**).\n",
    "\n",
    "So this can be represented as follows:\n",
    "$$ \\lvert \\theta,\\phi \\rangle = \\cos\\frac{\\theta}{2}\\begin{bmatrix} 1 \\\\ 0 \\end{bmatrix} + e^{i\\phi}\\cdot\\sin\\frac{\\theta}{2}\\begin{bmatrix}0 \\\\ 1 \\end{bmatrix} $$\n",
    "\n",
    "Similiarly, its vector representation is given as follows:\n",
    "$$ \\lvert \\theta,\\phi \\rangle = \\cos\\frac{\\theta}{2}\\lvert 0\\rangle + e^{i\\phi}\\cdot\\sin\\frac{\\theta}{2}\\lvert 1\\rangle $$\n",
    "\n",
    "![Qubit(basic).png](attachment:6d8cfa99-1732-443a-bf15-010c5cfc517c.png)\n",
    "\n",
    "Let us consider a point of $\\theta=0$ and $\\phi=0$ where **r=1**."
   ]
  },
  {
   "cell_type": "code",
   "execution_count": 1,
   "id": "88a97767-4398-4ff0-9e04-98db3036bc72",
   "metadata": {},
   "outputs": [
    {
     "data": {
      "image/png": "[encoded data removed]",
      "text/plain": [
       "<Figure size 640x480 with 1 Axes>"
      ]
     },
     "metadata": {},
     "output_type": "display_data"
    }
   ],
   "source": [
    "import matplotlib.pyplot as plt\n",
    "from mpl_toolkits.mplot3d import Axes3D\n",
    "import numpy as np\n",
    "\n",
    "def bloch_sphere(theta, phi):\n",
    "    fig = plt.figure()\n",
    "    ax = fig.add_subplot(111, projection='3d')\n",
    "\n",
    "    # Bloch Sphere Surface\n",
    "    u = np.linspace(0, 2 * np.pi, 100)\n",
    "    v = np.linspace(0, np.pi, 100)\n",
    "    x = np.outer(np.cos(u), np.sin(v))\n",
    "    y = np.outer(np.sin(u), np.sin(v))\n",
    "    z = np.outer(np.ones(np.size(u)), np.cos(v))\n",
    "    ax.plot_surface(x, y, z, color='b', alpha=0.1, rstride=10, cstride=10)\n",
    "\n",
    "    # Qubit State Vector\n",
    "    x_qubit = np.sin(theta) * np.cos(phi)\n",
    "    y_qubit = np.sin(theta) * np.sin(phi)\n",
    "    z_qubit = np.cos(theta)\n",
    "    ax.quiver(0, 0, 0, x_qubit, y_qubit, z_qubit, color='r', label=r'$|\\theta, \\phi\\rangle$')\n",
    "\n",
    "    # Plot Settings\n",
    "    ax.set_xlim([-1, 1])\n",
    "    ax.set_ylim([-1, 1])\n",
    "    ax.set_zlim([-1, 1])\n",
    "    ax.set_xlabel('X')\n",
    "    ax.set_ylabel('Y')\n",
    "    ax.set_zlabel('Z')\n",
    "    ax.view_init(azim=30, elev=30)\n",
    "    ax.legend()\n",
    "\n",
    "    plt.show()\n",
    "\n",
    "# Set theta and phi to zero for the |0⟩ state\n",
    "theta_zero = 0\n",
    "phi_zero = 0\n",
    "\n",
    "# Generate Bloch Sphere for |0⟩ state\n",
    "bloch_sphere(theta_zero, phi_zero)\n"
   ]
  },
  {
   "cell_type": "code",
   "execution_count": 39,
   "id": "6dcfe675-659c-4c1e-bec6-99199ca6ad83",
   "metadata": {},
   "outputs": [],
   "source": [
    "%matplotlib inline\n",
    "import matplotlib.pyplot as plt\n",
    "from qiskit.visualization import plot_bloch_vector\n",
    "def bloch_sphere(theta,phi):\n",
    "    %matplotlib inline\n",
    "    #angles to radians conversion\n",
    "    theta_rad=theta*np.pi\n",
    "    phi_rad=phi*2*np.pi\n",
    "\n",
    "    #calculate Bloch vector components\n",
    "    x=np.sin(theta_rad) * np.cos(phi_rad)\n",
    "    y=np.sin(theta_rad) * np.sin(phi_rad)\n",
    "    z=np.cos(theta_rad)\n",
    "    \n",
    "    plot_bloch_vector([x,y,z],title=f\"Bloch Sphere\")\n",
    "    plt.show()\n",
    "bloch_sphere(0,0)"
   ]
  },
  {
   "cell_type": "markdown",
   "id": "23b2837d-d07a-4fdb-9087-c1788fcf39ce",
   "metadata": {},
   "source": [
    "### Representation of state-1 :"
   ]
  },
  {
   "cell_type": "code",
   "execution_count": 40,
   "id": "32941321-78cc-4b2d-86e2-57c225ef4f8e",
   "metadata": {},
   "outputs": [],
   "source": [
    "%matplotlib inline\n",
    "import matplotlib.pyplot as plt\n",
    "from qiskit.visualization import plot_bloch_vector\n",
    "\n",
    "def bloch_sphere(theta, phi):\n",
    "    \n",
    "    # angles to radians conversion\n",
    "    theta_rad = theta * np.pi\n",
    "    phi_rad = phi * 2 * np.pi\n",
    "\n",
    "    # calculate Bloch vector components\n",
    "    x = np.sin(theta_rad) * np.cos(phi_rad)\n",
    "    y = np.sin(theta_rad) * np.sin(phi_rad)\n",
    "    z = np.cos(theta_rad)\n",
    "\n",
    "    # plot Bloch vector\n",
    "    plot_bloch_vector([x, y, z], title=\"Bloch Sphere\")\n",
    "    plt.show()\n",
    "\n",
    "bloch_sphere(1, 0)\n"
   ]
  },
  {
   "cell_type": "code",
   "execution_count": null,
   "id": "f2cc4f87-d860-4995-a953-cd9324afe4f2",
   "metadata": {},
   "outputs": [],
   "source": []
  }
 ],
 "metadata": {
  "kernelspec": {
   "display_name": "Python 3 (ipykernel)",
   "language": "python",
   "name": "python3"
  },
  "language_info": {
   "codemirror_mode": {
    "name": "ipython",
    "version": 3
   },
   "file_extension": ".py",
   "mimetype": "text/x-python",
   "name": "python",
   "nbconvert_exporter": "python",
   "pygments_lexer": "ipython3",
   "version": "3.10.13"
  }
 },
 "nbformat": 4,
 "nbformat_minor": 5
}
